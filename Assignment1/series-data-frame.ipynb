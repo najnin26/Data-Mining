{
 "cells": [
  {
   "cell_type": "markdown",
   "id": "038cdad5",
   "metadata": {
    "_cell_guid": "1f518d7d-a0b0-436d-b9fc-eddd878fd5fa",
    "_uuid": "9f0390c4-6de4-4c16-86ff-f09bc542f139",
    "id": "xjvKV08aAMar",
    "papermill": {
     "duration": 0.024976,
     "end_time": "2024-08-29T16:45:47.749064",
     "exception": false,
     "start_time": "2024-08-29T16:45:47.724088",
     "status": "completed"
    },
    "tags": []
   },
   "source": [
    "# ***Series***"
   ]
  },
  {
   "cell_type": "markdown",
   "id": "fda8a7e5",
   "metadata": {
    "_cell_guid": "58ee4df9-705c-4b4b-89d6-1fb19d8afa38",
    "_uuid": "c2e1a01c-a889-48ba-bba1-fcc3df7f2a75",
    "id": "RYXJW9QGAYlv",
    "papermill": {
     "duration": 0.024258,
     "end_time": "2024-08-29T16:45:47.798299",
     "exception": false,
     "start_time": "2024-08-29T16:45:47.774041",
     "status": "completed"
    },
    "tags": []
   },
   "source": [
    "***Import Libraries***"
   ]
  },
  {
   "cell_type": "code",
   "execution_count": 1,
   "id": "8280ee53",
   "metadata": {
    "_cell_guid": "1166c724-b7df-46b4-894d-4e9c7d1bd827",
    "_uuid": "d174e958-191e-449a-ae9d-2cf018590025",
    "collapsed": false,
    "execution": {
     "iopub.execute_input": "2024-08-29T16:45:47.849078Z",
     "iopub.status.busy": "2024-08-29T16:45:47.847988Z",
     "iopub.status.idle": "2024-08-29T16:45:48.248476Z",
     "shell.execute_reply": "2024-08-29T16:45:48.247358Z"
    },
    "id": "p4NYqb73_9fM",
    "jupyter": {
     "outputs_hidden": false
    },
    "papermill": {
     "duration": 0.428527,
     "end_time": "2024-08-29T16:45:48.251055",
     "exception": false,
     "start_time": "2024-08-29T16:45:47.822528",
     "status": "completed"
    },
    "tags": []
   },
   "outputs": [],
   "source": [
    "import numpy as np\n",
    "import pandas as pd"
   ]
  },
  {
   "cell_type": "markdown",
   "id": "ff2c2fdc",
   "metadata": {
    "_cell_guid": "48349840-9c4e-4687-adb7-098bc094fe6a",
    "_uuid": "54d1221f-2794-4607-aed8-07cda0e33bdd",
    "id": "TYrMD5q9Ah19",
    "papermill": {
     "duration": 0.024766,
     "end_time": "2024-08-29T16:45:48.300578",
     "exception": false,
     "start_time": "2024-08-29T16:45:48.275812",
     "status": "completed"
    },
    "tags": []
   },
   "source": [
    "***Creating series***"
   ]
  },
  {
   "cell_type": "code",
   "execution_count": 2,
   "id": "251977d4",
   "metadata": {
    "_cell_guid": "e5e9e96e-74e2-4191-ac2e-f91ad20d4b81",
    "_uuid": "3075a137-bc0b-49cc-b72d-794e241d4c9c",
    "collapsed": false,
    "execution": {
     "iopub.execute_input": "2024-08-29T16:45:48.350950Z",
     "iopub.status.busy": "2024-08-29T16:45:48.350012Z",
     "iopub.status.idle": "2024-08-29T16:45:48.358481Z",
     "shell.execute_reply": "2024-08-29T16:45:48.357323Z"
    },
    "id": "xDmbn1kWATsG",
    "jupyter": {
     "outputs_hidden": false
    },
    "outputId": "3b3acd86-6c1d-43aa-8699-2b9fbd604afe",
    "papermill": {
     "duration": 0.036114,
     "end_time": "2024-08-29T16:45:48.360989",
     "exception": false,
     "start_time": "2024-08-29T16:45:48.324875",
     "status": "completed"
    },
    "tags": []
   },
   "outputs": [
    {
     "name": "stdout",
     "output_type": "stream",
     "text": [
      "0    1\n",
      "1    7\n",
      "2    2\n",
      "dtype: int64\n"
     ]
    }
   ],
   "source": [
    "#Creating series from scaler values\n",
    "a = [1, 7, 2]\n",
    "myvar = pd.Series(a)\n",
    "print(myvar)"
   ]
  },
  {
   "cell_type": "code",
   "execution_count": 3,
   "id": "08c54813",
   "metadata": {
    "_cell_guid": "58786ef3-cbcd-4ad9-9796-25ad54660a0a",
    "_uuid": "c64b54b1-346c-46d4-b020-98e046d2ff45",
    "collapsed": false,
    "execution": {
     "iopub.execute_input": "2024-08-29T16:45:48.411615Z",
     "iopub.status.busy": "2024-08-29T16:45:48.411172Z",
     "iopub.status.idle": "2024-08-29T16:45:48.416725Z",
     "shell.execute_reply": "2024-08-29T16:45:48.415702Z"
    },
    "id": "v6oYpYwsCZpz",
    "jupyter": {
     "outputs_hidden": false
    },
    "outputId": "df2035f4-4c2e-421b-be5a-644811e99cc1",
    "papermill": {
     "duration": 0.033437,
     "end_time": "2024-08-29T16:45:48.419196",
     "exception": false,
     "start_time": "2024-08-29T16:45:48.385759",
     "status": "completed"
    },
    "tags": []
   },
   "outputs": [
    {
     "name": "stdout",
     "output_type": "stream",
     "text": [
      "7\n"
     ]
    }
   ],
   "source": [
    "print(myvar[1])"
   ]
  },
  {
   "cell_type": "markdown",
   "id": "653725dc",
   "metadata": {
    "_cell_guid": "af0eaa2b-c405-457c-b6eb-cb854b064c80",
    "_uuid": "34cb76e1-d2ab-4c24-951c-ea3c3bf9c21a",
    "id": "C881kO8eDCiN",
    "papermill": {
     "duration": 0.024051,
     "end_time": "2024-08-29T16:45:48.470685",
     "exception": false,
     "start_time": "2024-08-29T16:45:48.446634",
     "status": "completed"
    },
    "tags": []
   },
   "source": [
    "***Assign user-defined labels to the index***"
   ]
  },
  {
   "cell_type": "code",
   "execution_count": 4,
   "id": "1369dcd8",
   "metadata": {
    "_cell_guid": "becb773c-ffcd-4c94-90fe-532e50740d59",
    "_uuid": "ae5bc23e-a017-4961-be5b-2e947156f5c8",
    "collapsed": false,
    "execution": {
     "iopub.execute_input": "2024-08-29T16:45:48.524948Z",
     "iopub.status.busy": "2024-08-29T16:45:48.524104Z",
     "iopub.status.idle": "2024-08-29T16:45:48.530863Z",
     "shell.execute_reply": "2024-08-29T16:45:48.529873Z"
    },
    "id": "DR-_SFzoCjFb",
    "jupyter": {
     "outputs_hidden": false
    },
    "outputId": "12447c37-29a2-4f40-d9dd-29ad43d8c9b1",
    "papermill": {
     "duration": 0.038258,
     "end_time": "2024-08-29T16:45:48.533360",
     "exception": false,
     "start_time": "2024-08-29T16:45:48.495102",
     "status": "completed"
    },
    "tags": []
   },
   "outputs": [
    {
     "name": "stdout",
     "output_type": "stream",
     "text": [
      "x    1\n",
      "y    7\n",
      "z    2\n",
      "dtype: int64\n"
     ]
    }
   ],
   "source": [
    "a = [1, 7, 2]\n",
    "myvar = pd.Series(a, index = [\"x\", \"y\", \"z\"])\n",
    "print(myvar)"
   ]
  },
  {
   "cell_type": "code",
   "execution_count": 5,
   "id": "70b23347",
   "metadata": {
    "_cell_guid": "f44f876b-1427-4362-aa88-203e0084ef40",
    "_uuid": "95079326-7fc5-48ad-832f-47198c8f0176",
    "collapsed": false,
    "execution": {
     "iopub.execute_input": "2024-08-29T16:45:48.584298Z",
     "iopub.status.busy": "2024-08-29T16:45:48.583914Z",
     "iopub.status.idle": "2024-08-29T16:45:48.594498Z",
     "shell.execute_reply": "2024-08-29T16:45:48.593342Z"
    },
    "id": "BgLf4IfrC0pU",
    "jupyter": {
     "outputs_hidden": false
    },
    "outputId": "b582d63b-0390-4fcb-ec61-740b350bd01f",
    "papermill": {
     "duration": 0.039284,
     "end_time": "2024-08-29T16:45:48.596987",
     "exception": false,
     "start_time": "2024-08-29T16:45:48.557703",
     "status": "completed"
    },
    "tags": []
   },
   "outputs": [
    {
     "name": "stdout",
     "output_type": "stream",
     "text": [
      "7\n"
     ]
    }
   ],
   "source": [
    "print(myvar['y'])"
   ]
  },
  {
   "cell_type": "markdown",
   "id": "3791bd0a",
   "metadata": {
    "_cell_guid": "6db93158-5011-4127-9b70-bcaa6f8512a1",
    "_uuid": "4a38e5ec-0570-47f3-9ea2-b6c7c57e0caf",
    "id": "IhBSl-hIDNOg",
    "papermill": {
     "duration": 0.024677,
     "end_time": "2024-08-29T16:45:48.646254",
     "exception": false,
     "start_time": "2024-08-29T16:45:48.621577",
     "status": "completed"
    },
    "tags": []
   },
   "source": [
    "***Creation of Series from NumPy Arrays***"
   ]
  },
  {
   "cell_type": "code",
   "execution_count": 6,
   "id": "8c2860a5",
   "metadata": {
    "_cell_guid": "112a1016-fee3-43cc-9db5-1d15b67887e3",
    "_uuid": "664b0ff9-63bb-4d0c-9622-dc94af5f1bb5",
    "collapsed": false,
    "execution": {
     "iopub.execute_input": "2024-08-29T16:45:48.697014Z",
     "iopub.status.busy": "2024-08-29T16:45:48.696616Z",
     "iopub.status.idle": "2024-08-29T16:45:48.703115Z",
     "shell.execute_reply": "2024-08-29T16:45:48.701967Z"
    },
    "id": "iP7uSQ7QC60s",
    "jupyter": {
     "outputs_hidden": false
    },
    "outputId": "35a6cb10-eda6-4275-8f0e-068f0e7bda56",
    "papermill": {
     "duration": 0.034746,
     "end_time": "2024-08-29T16:45:48.705664",
     "exception": false,
     "start_time": "2024-08-29T16:45:48.670918",
     "status": "completed"
    },
    "tags": []
   },
   "outputs": [
    {
     "name": "stdout",
     "output_type": "stream",
     "text": [
      "0    1\n",
      "1    7\n",
      "2    2\n",
      "dtype: int64\n"
     ]
    }
   ],
   "source": [
    "arr= np.array([1,7,2])\n",
    "myvar = pd.Series(arr)\n",
    "print(myvar)"
   ]
  },
  {
   "cell_type": "code",
   "execution_count": 7,
   "id": "7ce96b52",
   "metadata": {
    "_cell_guid": "820ca90f-6cfc-4eb9-a51a-a3f92534e2b4",
    "_uuid": "0c0008c5-70e5-41f3-9934-5b51695c27cd",
    "collapsed": false,
    "execution": {
     "iopub.execute_input": "2024-08-29T16:45:48.756462Z",
     "iopub.status.busy": "2024-08-29T16:45:48.756053Z",
     "iopub.status.idle": "2024-08-29T16:45:48.762452Z",
     "shell.execute_reply": "2024-08-29T16:45:48.761473Z"
    },
    "id": "t7AdOEqRDe8O",
    "jupyter": {
     "outputs_hidden": false
    },
    "outputId": "dec73be2-e91f-4efc-fde0-e6fc1d8d863f",
    "papermill": {
     "duration": 0.034744,
     "end_time": "2024-08-29T16:45:48.764959",
     "exception": false,
     "start_time": "2024-08-29T16:45:48.730215",
     "status": "completed"
    },
    "tags": []
   },
   "outputs": [
    {
     "name": "stdout",
     "output_type": "stream",
     "text": [
      "Jan    1\n",
      "Feb    7\n",
      "Mar    2\n",
      "dtype: int64\n"
     ]
    }
   ],
   "source": [
    "#Assign labels to the series created from array\n",
    "myvar = pd.Series(arr, index = [\"Jan\",\n",
    "\"Feb\", \"Mar\"])\n",
    "print(myvar)"
   ]
  },
  {
   "cell_type": "markdown",
   "id": "02c6a2b3",
   "metadata": {
    "_cell_guid": "b57f3198-6328-4bd5-a191-a96f4e1ad5ea",
    "_uuid": "e62e345c-7dc7-4b7c-99ad-12ba8ca5f519",
    "id": "MIWMt_JQP3VJ",
    "papermill": {
     "duration": 0.024401,
     "end_time": "2024-08-29T16:45:48.813994",
     "exception": false,
     "start_time": "2024-08-29T16:45:48.789593",
     "status": "completed"
    },
    "tags": []
   },
   "source": [
    "***Creation of Series from Dictionary***"
   ]
  },
  {
   "cell_type": "code",
   "execution_count": 8,
   "id": "6cc7f353",
   "metadata": {
    "_cell_guid": "7cc3df07-0378-4952-a897-abbe5105a965",
    "_uuid": "586f2dee-4d7a-44b8-8f7d-325a8d4dfde1",
    "collapsed": false,
    "execution": {
     "iopub.execute_input": "2024-08-29T16:45:48.864951Z",
     "iopub.status.busy": "2024-08-29T16:45:48.864534Z",
     "iopub.status.idle": "2024-08-29T16:45:48.870945Z",
     "shell.execute_reply": "2024-08-29T16:45:48.869915Z"
    },
    "id": "23l0iJ94D5ol",
    "jupyter": {
     "outputs_hidden": false
    },
    "outputId": "b59f17b5-e529-4bae-c34f-9ad210ea2a84",
    "papermill": {
     "duration": 0.035145,
     "end_time": "2024-08-29T16:45:48.873644",
     "exception": false,
     "start_time": "2024-08-29T16:45:48.838499",
     "status": "completed"
    },
    "tags": []
   },
   "outputs": [
    {
     "name": "stdout",
     "output_type": "stream",
     "text": [
      "day1    420\n",
      "day2    380\n",
      "day3    390\n",
      "dtype: int64\n"
     ]
    }
   ],
   "source": [
    "calories = {\"day1\": 420, \"day2\": 380, \"day3\": 390}\n",
    "myvar = pd.Series(calories)\n",
    "print(myvar)"
   ]
  },
  {
   "cell_type": "markdown",
   "id": "830f0142",
   "metadata": {
    "_cell_guid": "5a3d2a88-e28b-486d-a8ef-a33aa7f0770a",
    "_uuid": "670446af-cc06-46e8-855a-81a7aeeece3d",
    "id": "72y1_CX0SeYX",
    "papermill": {
     "duration": 0.024311,
     "end_time": "2024-08-29T16:45:48.924307",
     "exception": false,
     "start_time": "2024-08-29T16:45:48.899996",
     "status": "completed"
    },
    "tags": []
   },
   "source": [
    "***Slicing***"
   ]
  },
  {
   "cell_type": "code",
   "execution_count": 9,
   "id": "84650314",
   "metadata": {
    "_cell_guid": "2bb68f9c-d47e-44bd-91cb-cfa806c0e163",
    "_uuid": "1223a1f2-4748-4fd8-a297-00a4dac7f483",
    "collapsed": false,
    "execution": {
     "iopub.execute_input": "2024-08-29T16:45:48.976778Z",
     "iopub.status.busy": "2024-08-29T16:45:48.976365Z",
     "iopub.status.idle": "2024-08-29T16:45:48.982555Z",
     "shell.execute_reply": "2024-08-29T16:45:48.981580Z"
    },
    "id": "jT6FOmGFSOuM",
    "jupyter": {
     "outputs_hidden": false
    },
    "outputId": "a4971880-ee95-4cf7-f1c2-f666899b9c78",
    "papermill": {
     "duration": 0.034787,
     "end_time": "2024-08-29T16:45:48.984746",
     "exception": false,
     "start_time": "2024-08-29T16:45:48.949959",
     "status": "completed"
    },
    "tags": []
   },
   "outputs": [
    {
     "name": "stdout",
     "output_type": "stream",
     "text": [
      "day1    420\n",
      "day2    380\n",
      "dtype: int64\n"
     ]
    }
   ],
   "source": [
    "print(myvar[0:2])"
   ]
  },
  {
   "cell_type": "markdown",
   "id": "3ffdf7a0",
   "metadata": {
    "_cell_guid": "affb627c-947e-4436-81ac-d36ff3777704",
    "_uuid": "0c0e69bb-34bb-4377-a8bc-dd72fbc427c7",
    "id": "CvL0cykcS8Jk",
    "papermill": {
     "duration": 0.02545,
     "end_time": "2024-08-29T16:45:49.088600",
     "exception": false,
     "start_time": "2024-08-29T16:45:49.063150",
     "status": "completed"
    },
    "tags": []
   },
   "source": [
    "**Methods of series**"
   ]
  },
  {
   "cell_type": "code",
   "execution_count": 10,
   "id": "65f467a6",
   "metadata": {
    "_cell_guid": "c1ffb501-d5fa-4907-bd96-26f681cbc1bc",
    "_uuid": "18ccc4d1-64a6-4c94-a552-e58bb73e981e",
    "collapsed": false,
    "execution": {
     "iopub.execute_input": "2024-08-29T16:45:49.139718Z",
     "iopub.status.busy": "2024-08-29T16:45:49.139309Z",
     "iopub.status.idle": "2024-08-29T16:45:49.148234Z",
     "shell.execute_reply": "2024-08-29T16:45:49.147221Z"
    },
    "id": "3jxljVtLSm-e",
    "jupyter": {
     "outputs_hidden": false
    },
    "outputId": "bca6d843-602b-4e79-cd08-c612f582cac1",
    "papermill": {
     "duration": 0.03702,
     "end_time": "2024-08-29T16:45:49.150348",
     "exception": false,
     "start_time": "2024-08-29T16:45:49.113328",
     "status": "completed"
    },
    "tags": []
   },
   "outputs": [
    {
     "data": {
      "text/plain": [
       "day1    420\n",
       "day2    380\n",
       "dtype: int64"
      ]
     },
     "execution_count": 10,
     "metadata": {},
     "output_type": "execute_result"
    }
   ],
   "source": [
    "myvar.head(2)"
   ]
  },
  {
   "cell_type": "code",
   "execution_count": 11,
   "id": "5a5385ee",
   "metadata": {
    "_cell_guid": "06dfcd24-21e4-4a62-b955-77b96a5cbb07",
    "_uuid": "967e8818-7988-4366-b8d0-e29128595f61",
    "collapsed": false,
    "execution": {
     "iopub.execute_input": "2024-08-29T16:45:49.203139Z",
     "iopub.status.busy": "2024-08-29T16:45:49.202738Z",
     "iopub.status.idle": "2024-08-29T16:45:49.213428Z",
     "shell.execute_reply": "2024-08-29T16:45:49.212364Z"
    },
    "id": "ivsPIwFzSxoq",
    "jupyter": {
     "outputs_hidden": false
    },
    "outputId": "c279169d-01af-4123-ddfe-faa06912b1ec",
    "papermill": {
     "duration": 0.03921,
     "end_time": "2024-08-29T16:45:49.215588",
     "exception": false,
     "start_time": "2024-08-29T16:45:49.176378",
     "status": "completed"
    },
    "tags": []
   },
   "outputs": [
    {
     "data": {
      "text/plain": [
       "3"
      ]
     },
     "execution_count": 11,
     "metadata": {},
     "output_type": "execute_result"
    }
   ],
   "source": [
    "myvar.count()"
   ]
  },
  {
   "cell_type": "code",
   "execution_count": 12,
   "id": "b1cd9491",
   "metadata": {
    "_cell_guid": "2a6f546c-8551-4857-be94-4855da94f577",
    "_uuid": "191a2b00-e622-4992-b4f9-d9371cc0d87f",
    "collapsed": false,
    "execution": {
     "iopub.execute_input": "2024-08-29T16:45:49.266862Z",
     "iopub.status.busy": "2024-08-29T16:45:49.266440Z",
     "iopub.status.idle": "2024-08-29T16:45:49.274898Z",
     "shell.execute_reply": "2024-08-29T16:45:49.273564Z"
    },
    "id": "-f3B-PkiSz5P",
    "jupyter": {
     "outputs_hidden": false
    },
    "outputId": "8a5923d4-bdad-4e7e-e469-f18410fc5ca2",
    "papermill": {
     "duration": 0.036649,
     "end_time": "2024-08-29T16:45:49.277083",
     "exception": false,
     "start_time": "2024-08-29T16:45:49.240434",
     "status": "completed"
    },
    "tags": []
   },
   "outputs": [
    {
     "data": {
      "text/plain": [
       "day2    380\n",
       "day3    390\n",
       "dtype: int64"
      ]
     },
     "execution_count": 12,
     "metadata": {},
     "output_type": "execute_result"
    }
   ],
   "source": [
    "myvar.tail(2)"
   ]
  },
  {
   "cell_type": "markdown",
   "id": "4c1f94d2",
   "metadata": {
    "_cell_guid": "37c9822d-d40f-408e-9ba2-bdc456e9f31c",
    "_uuid": "9cd3cda6-5c9a-4f15-b15a-2a339f660645",
    "id": "oTNmKAGwTY2R",
    "papermill": {
     "duration": 0.025141,
     "end_time": "2024-08-29T16:45:49.327486",
     "exception": false,
     "start_time": "2024-08-29T16:45:49.302345",
     "status": "completed"
    },
    "tags": []
   },
   "source": [
    "***Addition of two series***"
   ]
  },
  {
   "cell_type": "code",
   "execution_count": 13,
   "id": "19d438d6",
   "metadata": {
    "_cell_guid": "61812baa-07c9-4d89-abc4-3eb01ca7353d",
    "_uuid": "75747571-090c-4d90-9cf4-1ef1291c91f7",
    "collapsed": false,
    "execution": {
     "iopub.execute_input": "2024-08-29T16:45:49.380166Z",
     "iopub.status.busy": "2024-08-29T16:45:49.379755Z",
     "iopub.status.idle": "2024-08-29T16:45:49.387311Z",
     "shell.execute_reply": "2024-08-29T16:45:49.386159Z"
    },
    "id": "KPae3kKKS6eM",
    "jupyter": {
     "outputs_hidden": false
    },
    "outputId": "cb4dd256-a17e-487e-b6c7-f778209c664b",
    "papermill": {
     "duration": 0.036381,
     "end_time": "2024-08-29T16:45:49.389579",
     "exception": false,
     "start_time": "2024-08-29T16:45:49.353198",
     "status": "completed"
    },
    "tags": []
   },
   "outputs": [
    {
     "name": "stdout",
     "output_type": "stream",
     "text": [
      "0     7\n",
      "1     9\n",
      "2    11\n",
      "3    13\n",
      "4    15\n",
      "dtype: int64\n"
     ]
    }
   ],
   "source": [
    "# creating 2 Pandas Series\n",
    "s1 = pd.Series([1, 2, 3, 4, 5])\n",
    "s2 = pd.Series([6, 7, 8, 9, 10])\n",
    "\n",
    "# adding the 2 Series\n",
    "s = s1 + s2\n",
    "\n",
    "# displaying the result\n",
    "print(s)"
   ]
  },
  {
   "cell_type": "markdown",
   "id": "6034a422",
   "metadata": {
    "_cell_guid": "0a32d68b-c53f-412f-9284-2c9a762e1f6b",
    "_uuid": "39a5b3e5-24c3-41ff-80f7-8e9f6f52ee14",
    "id": "PuwjHsxOT2tV",
    "papermill": {
     "duration": 0.025026,
     "end_time": "2024-08-29T16:45:49.439804",
     "exception": false,
     "start_time": "2024-08-29T16:45:49.414778",
     "status": "completed"
    },
    "tags": []
   },
   "source": [
    "***Subtraction of two Series***"
   ]
  },
  {
   "cell_type": "code",
   "execution_count": 14,
   "id": "595e70cf",
   "metadata": {
    "_cell_guid": "87f5b3b3-33c8-4107-9f60-4a806de9acfd",
    "_uuid": "d6a92abe-738a-4c92-9f2d-480118f91237",
    "collapsed": false,
    "execution": {
     "iopub.execute_input": "2024-08-29T16:45:49.491711Z",
     "iopub.status.busy": "2024-08-29T16:45:49.491272Z",
     "iopub.status.idle": "2024-08-29T16:45:49.498806Z",
     "shell.execute_reply": "2024-08-29T16:45:49.497750Z"
    },
    "id": "-2XUovNSTuDZ",
    "jupyter": {
     "outputs_hidden": false
    },
    "outputId": "ae06c4aa-2965-4fc5-ec26-4f1a0784e3f1",
    "papermill": {
     "duration": 0.036339,
     "end_time": "2024-08-29T16:45:49.501202",
     "exception": false,
     "start_time": "2024-08-29T16:45:49.464863",
     "status": "completed"
    },
    "tags": []
   },
   "outputs": [
    {
     "name": "stdout",
     "output_type": "stream",
     "text": [
      "0    5\n",
      "1    5\n",
      "2    5\n",
      "3    5\n",
      "4    5\n",
      "dtype: int64\n"
     ]
    }
   ],
   "source": [
    "# creating 2 Pandas Series\n",
    "s1 = pd.Series([1, 2, 3, 4, 5])\n",
    "s2 = pd.Series([6, 7, 8, 9, 10])\n",
    "\n",
    "# subtracting the 2 Series\n",
    "s3 = s2 - s1\n",
    "\n",
    "# displaying the result\n",
    "print(s3)"
   ]
  },
  {
   "cell_type": "markdown",
   "id": "5241ebf1",
   "metadata": {
    "_cell_guid": "327c2cb8-2fef-4152-ad20-3a4060118979",
    "_uuid": "bccd69c2-e16c-49b1-8277-2da2832bc704",
    "id": "UG6PHz2hUKMZ",
    "papermill": {
     "duration": 0.025153,
     "end_time": "2024-08-29T16:45:49.552361",
     "exception": false,
     "start_time": "2024-08-29T16:45:49.527208",
     "status": "completed"
    },
    "tags": []
   },
   "source": [
    "***Multiplication of two Series***"
   ]
  },
  {
   "cell_type": "code",
   "execution_count": 15,
   "id": "f368b288",
   "metadata": {
    "_cell_guid": "34c799f0-3a81-405b-b82a-5e32fa553a58",
    "_uuid": "b1f5b791-6674-4c81-b91a-d4dc81266b6e",
    "collapsed": false,
    "execution": {
     "iopub.execute_input": "2024-08-29T16:45:49.604873Z",
     "iopub.status.busy": "2024-08-29T16:45:49.604448Z",
     "iopub.status.idle": "2024-08-29T16:45:49.611642Z",
     "shell.execute_reply": "2024-08-29T16:45:49.610566Z"
    },
    "id": "V63iNFC8UD8V",
    "jupyter": {
     "outputs_hidden": false
    },
    "outputId": "a2a459ae-71a8-446b-8147-63ebc83caa68",
    "papermill": {
     "duration": 0.036187,
     "end_time": "2024-08-29T16:45:49.613860",
     "exception": false,
     "start_time": "2024-08-29T16:45:49.577673",
     "status": "completed"
    },
    "tags": []
   },
   "outputs": [
    {
     "name": "stdout",
     "output_type": "stream",
     "text": [
      "0    5\n",
      "1    5\n",
      "2    5\n",
      "3    5\n",
      "4    5\n",
      "dtype: int64\n"
     ]
    }
   ],
   "source": [
    "# creating 2 Pandas Series\n",
    "s1 = pd.Series([1, 2, 3, 4, 5])\n",
    "s2 = pd.Series([6, 7, 8, 9, 10])\n",
    "\n",
    "# multiplying the 2 Series\n",
    "s = s1 * s2\n",
    "\n",
    "# displaying the result\n",
    "print(s3)"
   ]
  },
  {
   "cell_type": "markdown",
   "id": "472f32c5",
   "metadata": {
    "_cell_guid": "05627881-ecec-4192-94c5-a8cfd4f8d797",
    "_uuid": "63df06fb-e0b6-42ec-9d14-1757d6e6f01e",
    "id": "WeKtZM9jUafs",
    "papermill": {
     "duration": 0.02567,
     "end_time": "2024-08-29T16:45:49.665003",
     "exception": false,
     "start_time": "2024-08-29T16:45:49.639333",
     "status": "completed"
    },
    "tags": []
   },
   "source": [
    "***Division of two Series***"
   ]
  },
  {
   "cell_type": "code",
   "execution_count": 16,
   "id": "d5087221",
   "metadata": {
    "_cell_guid": "a22bece8-1601-44cc-a3cc-23d7794fc5b0",
    "_uuid": "45ed43e4-97fb-40b2-bf36-8ea5a5d169c5",
    "collapsed": false,
    "execution": {
     "iopub.execute_input": "2024-08-29T16:45:49.717322Z",
     "iopub.status.busy": "2024-08-29T16:45:49.716935Z",
     "iopub.status.idle": "2024-08-29T16:45:49.726545Z",
     "shell.execute_reply": "2024-08-29T16:45:49.725299Z"
    },
    "id": "Ob66y_WVUW5a",
    "jupyter": {
     "outputs_hidden": false
    },
    "outputId": "817ef783-cf87-4aa3-ca0b-2c01226764d6",
    "papermill": {
     "duration": 0.03847,
     "end_time": "2024-08-29T16:45:49.728878",
     "exception": false,
     "start_time": "2024-08-29T16:45:49.690408",
     "status": "completed"
    },
    "tags": []
   },
   "outputs": [
    {
     "name": "stdout",
     "output_type": "stream",
     "text": [
      "0    0.166667\n",
      "1    0.285714\n",
      "2    0.375000\n",
      "3    0.444444\n",
      "4    0.500000\n",
      "dtype: float64\n"
     ]
    }
   ],
   "source": [
    "# creating 2 Pandas Series\n",
    "s1 = pd.Series([1, 2, 3, 4, 5])\n",
    "s2 = pd.Series([6, 7, 8, 9, 10])\n",
    "\n",
    "# dividing the 2 Series\n",
    "s3 =s1 / s2\n",
    "\n",
    "# displaying the result\n",
    "print(s3)"
   ]
  },
  {
   "cell_type": "markdown",
   "id": "81587e7d",
   "metadata": {
    "_cell_guid": "9e52a972-db47-4d85-be27-006115c5dea0",
    "_uuid": "6d897602-f7fb-421b-a0fe-794c2640a348",
    "id": "QKFy6Ql8kxzT",
    "papermill": {
     "duration": 0.025079,
     "end_time": "2024-08-29T16:45:49.779650",
     "exception": false,
     "start_time": "2024-08-29T16:45:49.754571",
     "status": "completed"
    },
    "tags": []
   },
   "source": [
    "# ***Data Frame***"
   ]
  },
  {
   "cell_type": "code",
   "execution_count": 17,
   "id": "3ca92d49",
   "metadata": {
    "_cell_guid": "2a46ecf6-82f8-4a92-9324-9dcc449f658b",
    "_uuid": "94525b94-b670-4044-9bb2-4e8dea0847f0",
    "collapsed": false,
    "execution": {
     "iopub.execute_input": "2024-08-29T16:45:49.832203Z",
     "iopub.status.busy": "2024-08-29T16:45:49.831819Z",
     "iopub.status.idle": "2024-08-29T16:45:49.836772Z",
     "shell.execute_reply": "2024-08-29T16:45:49.835603Z"
    },
    "id": "-bVtKs45UvPU",
    "jupyter": {
     "outputs_hidden": false
    },
    "papermill": {
     "duration": 0.033916,
     "end_time": "2024-08-29T16:45:49.838940",
     "exception": false,
     "start_time": "2024-08-29T16:45:49.805024",
     "status": "completed"
    },
    "tags": []
   },
   "outputs": [],
   "source": [
    "import pandas as pd"
   ]
  },
  {
   "cell_type": "markdown",
   "id": "f1c2fad9",
   "metadata": {
    "_cell_guid": "ed488571-3d38-467e-b59b-4df725c8e1ea",
    "_uuid": "aa05dc62-af60-4e2c-97cf-6e6cacfeb5a6",
    "id": "BSBi1t_E-6XV",
    "papermill": {
     "duration": 0.025019,
     "end_time": "2024-08-29T16:45:49.889690",
     "exception": false,
     "start_time": "2024-08-29T16:45:49.864671",
     "status": "completed"
    },
    "tags": []
   },
   "source": [
    "***Creation of an empty DataFrame***"
   ]
  },
  {
   "cell_type": "code",
   "execution_count": 18,
   "id": "544e86e5",
   "metadata": {
    "_cell_guid": "cd2817ad-bbbf-4121-b08d-f946f7aab70a",
    "_uuid": "c2c9adb7-bc4d-443d-aa4a-e621c812300a",
    "collapsed": false,
    "execution": {
     "iopub.execute_input": "2024-08-29T16:45:49.944891Z",
     "iopub.status.busy": "2024-08-29T16:45:49.944492Z",
     "iopub.status.idle": "2024-08-29T16:45:49.955807Z",
     "shell.execute_reply": "2024-08-29T16:45:49.954603Z"
    },
    "id": "9G4C0b5g-51G",
    "jupyter": {
     "outputs_hidden": false
    },
    "outputId": "b7ad45c2-ceba-469b-f853-33c041633bb9",
    "papermill": {
     "duration": 0.040593,
     "end_time": "2024-08-29T16:45:49.958037",
     "exception": false,
     "start_time": "2024-08-29T16:45:49.917444",
     "status": "completed"
    },
    "tags": []
   },
   "outputs": [
    {
     "data": {
      "text/html": [
       "<div>\n",
       "<style scoped>\n",
       "    .dataframe tbody tr th:only-of-type {\n",
       "        vertical-align: middle;\n",
       "    }\n",
       "\n",
       "    .dataframe tbody tr th {\n",
       "        vertical-align: top;\n",
       "    }\n",
       "\n",
       "    .dataframe thead th {\n",
       "        text-align: right;\n",
       "    }\n",
       "</style>\n",
       "<table border=\"1\" class=\"dataframe\">\n",
       "  <thead>\n",
       "    <tr style=\"text-align: right;\">\n",
       "      <th></th>\n",
       "    </tr>\n",
       "  </thead>\n",
       "  <tbody>\n",
       "  </tbody>\n",
       "</table>\n",
       "</div>"
      ],
      "text/plain": [
       "Empty DataFrame\n",
       "Columns: []\n",
       "Index: []"
      ]
     },
     "execution_count": 18,
     "metadata": {},
     "output_type": "execute_result"
    }
   ],
   "source": [
    "dFrameEmt = pd.DataFrame()\n",
    "dFrameEmt"
   ]
  },
  {
   "cell_type": "markdown",
   "id": "7c68edf8",
   "metadata": {
    "_cell_guid": "a0ed655b-0234-4e88-a62c-b5d040ba43b6",
    "_uuid": "c7cd9d55-b006-4651-9e55-e7a18cc803cf",
    "id": "3NJx8TYp_GXZ",
    "papermill": {
     "duration": 0.026805,
     "end_time": "2024-08-29T16:45:50.010461",
     "exception": false,
     "start_time": "2024-08-29T16:45:49.983656",
     "status": "completed"
    },
    "tags": []
   },
   "source": [
    "***Creation of DataFrame from NumPy ndarrays***"
   ]
  },
  {
   "cell_type": "code",
   "execution_count": 19,
   "id": "b3499fb5",
   "metadata": {
    "_cell_guid": "07551096-8fa9-475c-8d58-71da685a9cee",
    "_uuid": "6f3855dc-6562-4246-bfd2-f55c3b308b5a",
    "collapsed": false,
    "execution": {
     "iopub.execute_input": "2024-08-29T16:45:50.064569Z",
     "iopub.status.busy": "2024-08-29T16:45:50.064137Z",
     "iopub.status.idle": "2024-08-29T16:45:50.078431Z",
     "shell.execute_reply": "2024-08-29T16:45:50.077078Z"
    },
    "id": "YAjFfQ0E_KNL",
    "jupyter": {
     "outputs_hidden": false
    },
    "outputId": "523903e1-b232-4f7a-fd85-628710e5471b",
    "papermill": {
     "duration": 0.043913,
     "end_time": "2024-08-29T16:45:50.081086",
     "exception": false,
     "start_time": "2024-08-29T16:45:50.037173",
     "status": "completed"
    },
    "tags": []
   },
   "outputs": [
    {
     "data": {
      "text/html": [
       "<div>\n",
       "<style scoped>\n",
       "    .dataframe tbody tr th:only-of-type {\n",
       "        vertical-align: middle;\n",
       "    }\n",
       "\n",
       "    .dataframe tbody tr th {\n",
       "        vertical-align: top;\n",
       "    }\n",
       "\n",
       "    .dataframe thead th {\n",
       "        text-align: right;\n",
       "    }\n",
       "</style>\n",
       "<table border=\"1\" class=\"dataframe\">\n",
       "  <thead>\n",
       "    <tr style=\"text-align: right;\">\n",
       "      <th></th>\n",
       "      <th>number</th>\n",
       "      <th>squares</th>\n",
       "      <th>cubes</th>\n",
       "    </tr>\n",
       "  </thead>\n",
       "  <tbody>\n",
       "    <tr>\n",
       "      <th>first</th>\n",
       "      <td>1</td>\n",
       "      <td>1</td>\n",
       "      <td>1</td>\n",
       "    </tr>\n",
       "    <tr>\n",
       "      <th>second</th>\n",
       "      <td>2</td>\n",
       "      <td>4</td>\n",
       "      <td>8</td>\n",
       "    </tr>\n",
       "    <tr>\n",
       "      <th>third</th>\n",
       "      <td>3</td>\n",
       "      <td>9</td>\n",
       "      <td>27</td>\n",
       "    </tr>\n",
       "    <tr>\n",
       "      <th>fourth</th>\n",
       "      <td>4</td>\n",
       "      <td>16</td>\n",
       "      <td>64</td>\n",
       "    </tr>\n",
       "    <tr>\n",
       "      <th>fifth</th>\n",
       "      <td>5</td>\n",
       "      <td>25</td>\n",
       "      <td>125</td>\n",
       "    </tr>\n",
       "    <tr>\n",
       "      <th>sixth</th>\n",
       "      <td>6</td>\n",
       "      <td>36</td>\n",
       "      <td>216</td>\n",
       "    </tr>\n",
       "    <tr>\n",
       "      <th>seventh</th>\n",
       "      <td>7</td>\n",
       "      <td>49</td>\n",
       "      <td>343</td>\n",
       "    </tr>\n",
       "  </tbody>\n",
       "</table>\n",
       "</div>"
      ],
      "text/plain": [
       "         number  squares  cubes\n",
       "first         1        1      1\n",
       "second        2        4      8\n",
       "third         3        9     27\n",
       "fourth        4       16     64\n",
       "fifth         5       25    125\n",
       "sixth         6       36    216\n",
       "seventh       7       49    343"
      ]
     },
     "execution_count": 19,
     "metadata": {},
     "output_type": "execute_result"
    }
   ],
   "source": [
    "# creating the Numpy array\n",
    "array = np.array([[1, 1, 1], [2, 4, 8], [3, 9, 27],\n",
    "                  [4, 16, 64], [5, 25, 125], [6, 36, 216],\n",
    "                  [7, 49, 343]])\n",
    "\n",
    "# creating a list of index names\n",
    "index_values = ['first', 'second', 'third',\n",
    "                'fourth', 'fifth', 'sixth', 'seventh']\n",
    "\n",
    "# creating a list of column names\n",
    "column_values = ['number', 'squares', 'cubes']\n",
    "\n",
    "# creating the dataframe\n",
    "df = pd.DataFrame(data = array,\n",
    "                  index = index_values,\n",
    "                  columns = column_values)\n",
    "\n",
    "# displaying the dataframe\n",
    "df"
   ]
  },
  {
   "cell_type": "markdown",
   "id": "2252f308",
   "metadata": {
    "_cell_guid": "d9425609-0cee-45b0-bcb3-f9142eaf2370",
    "_uuid": "a85dd020-8b47-4225-a4a3-f88c5346b6a1",
    "id": "1c2MMolN_Yhu",
    "papermill": {
     "duration": 0.025774,
     "end_time": "2024-08-29T16:45:50.133473",
     "exception": false,
     "start_time": "2024-08-29T16:45:50.107699",
     "status": "completed"
    },
    "tags": []
   },
   "source": [
    "***Creation of DataFrame from List of Dictionaries***"
   ]
  },
  {
   "cell_type": "code",
   "execution_count": 20,
   "id": "2cb97dfd",
   "metadata": {
    "_cell_guid": "a36b98e3-ec49-48d8-a0fa-705a2ceb87d3",
    "_uuid": "742b23fa-388f-401c-9cb9-5ac57f4c82af",
    "collapsed": false,
    "execution": {
     "iopub.execute_input": "2024-08-29T16:45:50.187350Z",
     "iopub.status.busy": "2024-08-29T16:45:50.186971Z",
     "iopub.status.idle": "2024-08-29T16:45:50.199671Z",
     "shell.execute_reply": "2024-08-29T16:45:50.198482Z"
    },
    "id": "FcmlEG6w_ffX",
    "jupyter": {
     "outputs_hidden": false
    },
    "outputId": "344aa527-479c-4dd0-9d17-5c0b19811172",
    "papermill": {
     "duration": 0.042333,
     "end_time": "2024-08-29T16:45:50.201863",
     "exception": false,
     "start_time": "2024-08-29T16:45:50.159530",
     "status": "completed"
    },
    "tags": []
   },
   "outputs": [
    {
     "data": {
      "text/html": [
       "<div>\n",
       "<style scoped>\n",
       "    .dataframe tbody tr th:only-of-type {\n",
       "        vertical-align: middle;\n",
       "    }\n",
       "\n",
       "    .dataframe tbody tr th {\n",
       "        vertical-align: top;\n",
       "    }\n",
       "\n",
       "    .dataframe thead th {\n",
       "        text-align: right;\n",
       "    }\n",
       "</style>\n",
       "<table border=\"1\" class=\"dataframe\">\n",
       "  <thead>\n",
       "    <tr style=\"text-align: right;\">\n",
       "      <th></th>\n",
       "      <th>Geeks</th>\n",
       "      <th>For</th>\n",
       "      <th>geeks</th>\n",
       "    </tr>\n",
       "  </thead>\n",
       "  <tbody>\n",
       "    <tr>\n",
       "      <th>1</th>\n",
       "      <td>dataframe</td>\n",
       "      <td>using</td>\n",
       "      <td>list</td>\n",
       "    </tr>\n",
       "    <tr>\n",
       "      <th>2</th>\n",
       "      <td>10</td>\n",
       "      <td>20</td>\n",
       "      <td>30</td>\n",
       "    </tr>\n",
       "  </tbody>\n",
       "</table>\n",
       "</div>"
      ],
      "text/plain": [
       "       Geeks    For geeks\n",
       "1  dataframe  using  list\n",
       "2         10     20    30"
      ]
     },
     "execution_count": 20,
     "metadata": {},
     "output_type": "execute_result"
    }
   ],
   "source": [
    "# Initialise data to lists.\n",
    "data = [{'Geeks': 'dataframe', 'For': 'using', 'geeks': 'list'},\n",
    "        {'Geeks':10, 'For': 20, 'geeks': 30}]\n",
    "\n",
    "df = pd.DataFrame.from_records(data,index=['1', '2'])\n",
    "df"
   ]
  },
  {
   "cell_type": "markdown",
   "id": "2e437ca8",
   "metadata": {
    "_cell_guid": "25258e8c-694a-4895-b0a2-fd9ad263001b",
    "_uuid": "d00f3190-64be-4595-876c-f3b49fb2860c",
    "id": "qZaCSuNR_qEG",
    "papermill": {
     "duration": 0.025634,
     "end_time": "2024-08-29T16:45:50.253442",
     "exception": false,
     "start_time": "2024-08-29T16:45:50.227808",
     "status": "completed"
    },
    "tags": []
   },
   "source": [
    "***Creation of DataFrame from Dictionary of Lists***"
   ]
  },
  {
   "cell_type": "code",
   "execution_count": 21,
   "id": "f2b6138c",
   "metadata": {
    "_cell_guid": "91322478-743c-449b-89ec-5e7d18b7f300",
    "_uuid": "381aaba8-028d-407e-9949-5b3ed32d4a05",
    "collapsed": false,
    "execution": {
     "iopub.execute_input": "2024-08-29T16:45:50.307147Z",
     "iopub.status.busy": "2024-08-29T16:45:50.306738Z",
     "iopub.status.idle": "2024-08-29T16:45:50.318652Z",
     "shell.execute_reply": "2024-08-29T16:45:50.317584Z"
    },
    "id": "BilmIq-y_sEk",
    "jupyter": {
     "outputs_hidden": false
    },
    "outputId": "de7a55f5-d1f3-43f6-87ee-2b07bdfb6239",
    "papermill": {
     "duration": 0.041657,
     "end_time": "2024-08-29T16:45:50.320930",
     "exception": false,
     "start_time": "2024-08-29T16:45:50.279273",
     "status": "completed"
    },
    "tags": []
   },
   "outputs": [
    {
     "data": {
      "text/html": [
       "<div>\n",
       "<style scoped>\n",
       "    .dataframe tbody tr th:only-of-type {\n",
       "        vertical-align: middle;\n",
       "    }\n",
       "\n",
       "    .dataframe tbody tr th {\n",
       "        vertical-align: top;\n",
       "    }\n",
       "\n",
       "    .dataframe thead th {\n",
       "        text-align: right;\n",
       "    }\n",
       "</style>\n",
       "<table border=\"1\" class=\"dataframe\">\n",
       "  <thead>\n",
       "    <tr style=\"text-align: right;\">\n",
       "      <th></th>\n",
       "      <th>name</th>\n",
       "      <th>degree</th>\n",
       "      <th>score</th>\n",
       "    </tr>\n",
       "  </thead>\n",
       "  <tbody>\n",
       "    <tr>\n",
       "      <th>0</th>\n",
       "      <td>aparna</td>\n",
       "      <td>MBA</td>\n",
       "      <td>90</td>\n",
       "    </tr>\n",
       "    <tr>\n",
       "      <th>1</th>\n",
       "      <td>pankaj</td>\n",
       "      <td>BCA</td>\n",
       "      <td>40</td>\n",
       "    </tr>\n",
       "    <tr>\n",
       "      <th>2</th>\n",
       "      <td>sudhir</td>\n",
       "      <td>M.Tech</td>\n",
       "      <td>80</td>\n",
       "    </tr>\n",
       "    <tr>\n",
       "      <th>3</th>\n",
       "      <td>Geeku</td>\n",
       "      <td>MBA</td>\n",
       "      <td>98</td>\n",
       "    </tr>\n",
       "  </tbody>\n",
       "</table>\n",
       "</div>"
      ],
      "text/plain": [
       "     name  degree  score\n",
       "0  aparna     MBA     90\n",
       "1  pankaj     BCA     40\n",
       "2  sudhir  M.Tech     80\n",
       "3   Geeku     MBA     98"
      ]
     },
     "execution_count": 21,
     "metadata": {},
     "output_type": "execute_result"
    }
   ],
   "source": [
    "# dictionary of lists\n",
    "dict = {'name':[\"aparna\", \"pankaj\", \"sudhir\", \"Geeku\"],\n",
    "        'degree': [\"MBA\", \"BCA\", \"M.Tech\", \"MBA\"],\n",
    "        'score':[90, 40, 80, 98]}\n",
    "\n",
    "df = pd.DataFrame(dict)\n",
    "\n",
    "df"
   ]
  },
  {
   "cell_type": "markdown",
   "id": "48d31a8d",
   "metadata": {
    "_cell_guid": "7c10308e-73cd-476e-a430-2fcb521e3fec",
    "_uuid": "7bf76028-de15-4788-90f5-0a692a084123",
    "id": "s9YAYgWnAFX6",
    "papermill": {
     "duration": 0.026551,
     "end_time": "2024-08-29T16:45:50.374166",
     "exception": false,
     "start_time": "2024-08-29T16:45:50.347615",
     "status": "completed"
    },
    "tags": []
   },
   "source": [
    "***Creation of DataFrame from Series***"
   ]
  },
  {
   "cell_type": "code",
   "execution_count": 22,
   "id": "40281fb6",
   "metadata": {
    "_cell_guid": "9b4b05d8-269f-4d8f-9f8c-8725056948cb",
    "_uuid": "32729c21-8325-4af9-ab09-c4c6f8079667",
    "collapsed": false,
    "execution": {
     "iopub.execute_input": "2024-08-29T16:45:50.430127Z",
     "iopub.status.busy": "2024-08-29T16:45:50.429730Z",
     "iopub.status.idle": "2024-08-29T16:45:50.438492Z",
     "shell.execute_reply": "2024-08-29T16:45:50.437390Z"
    },
    "id": "O1FsUe-nAHUR",
    "jupyter": {
     "outputs_hidden": false
    },
    "outputId": "e96be2a4-95df-48c9-8081-8469ba30780d",
    "papermill": {
     "duration": 0.039683,
     "end_time": "2024-08-29T16:45:50.441267",
     "exception": false,
     "start_time": "2024-08-29T16:45:50.401584",
     "status": "completed"
    },
    "tags": []
   },
   "outputs": [
    {
     "data": {
      "text/plain": [
       "0    Jitender\n",
       "1     Purnima\n",
       "2       Arpit\n",
       "3       Jyoti\n",
       "dtype: object"
      ]
     },
     "execution_count": 22,
     "metadata": {},
     "output_type": "execute_result"
    }
   ],
   "source": [
    "# Creating a list\n",
    "author = ['Jitender', 'Purnima',\n",
    "          'Arpit', 'Jyoti']\n",
    "# Creating a Series by passing list\n",
    "# variable to Series() function\n",
    "auth_series = pd.Series(author)\n",
    "# Printing Series\n",
    "auth_series"
   ]
  },
  {
   "cell_type": "markdown",
   "id": "6ce88f4b",
   "metadata": {
    "_cell_guid": "d81dc326-4066-4b81-8730-2655dc4a05ee",
    "_uuid": "53281d5b-0dc4-47ad-9361-0d8001949183",
    "id": "WI6VrcmzATOZ",
    "papermill": {
     "duration": 0.026307,
     "end_time": "2024-08-29T16:45:50.493995",
     "exception": false,
     "start_time": "2024-08-29T16:45:50.467688",
     "status": "completed"
    },
    "tags": []
   },
   "source": [
    "***Creation of DataFrame from Dictionary of Series***"
   ]
  },
  {
   "cell_type": "code",
   "execution_count": 23,
   "id": "0a2c4950",
   "metadata": {
    "_cell_guid": "f18efc0a-8ecd-4bc3-aceb-25e87ab1edec",
    "_uuid": "32bf718e-b585-477f-8cc3-af288cd06cc4",
    "collapsed": false,
    "execution": {
     "iopub.execute_input": "2024-08-29T16:45:50.550142Z",
     "iopub.status.busy": "2024-08-29T16:45:50.549714Z",
     "iopub.status.idle": "2024-08-29T16:45:50.564841Z",
     "shell.execute_reply": "2024-08-29T16:45:50.563589Z"
    },
    "id": "OvIJqo30AXGP",
    "jupyter": {
     "outputs_hidden": false
    },
    "outputId": "2cdd6fe4-d2c9-46a0-a4dd-5b3d72fb31f8",
    "papermill": {
     "duration": 0.04691,
     "end_time": "2024-08-29T16:45:50.567546",
     "exception": false,
     "start_time": "2024-08-29T16:45:50.520636",
     "status": "completed"
    },
    "tags": []
   },
   "outputs": [
    {
     "data": {
      "text/html": [
       "<div>\n",
       "<style scoped>\n",
       "    .dataframe tbody tr th:only-of-type {\n",
       "        vertical-align: middle;\n",
       "    }\n",
       "\n",
       "    .dataframe tbody tr th {\n",
       "        vertical-align: top;\n",
       "    }\n",
       "\n",
       "    .dataframe thead th {\n",
       "        text-align: right;\n",
       "    }\n",
       "</style>\n",
       "<table border=\"1\" class=\"dataframe\">\n",
       "  <thead>\n",
       "    <tr style=\"text-align: right;\">\n",
       "      <th></th>\n",
       "      <th>Arnab</th>\n",
       "      <th>Ramit</th>\n",
       "      <th>Samridhi</th>\n",
       "      <th>Riya</th>\n",
       "      <th>Mallika</th>\n",
       "    </tr>\n",
       "  </thead>\n",
       "  <tbody>\n",
       "    <tr>\n",
       "      <th>Maths</th>\n",
       "      <td>90</td>\n",
       "      <td>92</td>\n",
       "      <td>89</td>\n",
       "      <td>81</td>\n",
       "      <td>94</td>\n",
       "    </tr>\n",
       "    <tr>\n",
       "      <th>Science</th>\n",
       "      <td>91</td>\n",
       "      <td>81</td>\n",
       "      <td>91</td>\n",
       "      <td>71</td>\n",
       "      <td>95</td>\n",
       "    </tr>\n",
       "    <tr>\n",
       "      <th>Hindi</th>\n",
       "      <td>97</td>\n",
       "      <td>96</td>\n",
       "      <td>88</td>\n",
       "      <td>67</td>\n",
       "      <td>99</td>\n",
       "    </tr>\n",
       "  </tbody>\n",
       "</table>\n",
       "</div>"
      ],
      "text/plain": [
       "         Arnab  Ramit  Samridhi  Riya  Mallika\n",
       "Maths       90     92        89    81       94\n",
       "Science     91     81        91    71       95\n",
       "Hindi       97     96        88    67       99"
      ]
     },
     "execution_count": 23,
     "metadata": {},
     "output_type": "execute_result"
    }
   ],
   "source": [
    "ResultSheet={\n",
    "    'Arnab': pd.Series([90, 91, 97],index=['Maths','Science','Hindi']),\n",
    "    'Ramit': pd.Series([92, 81, 96],index=['Maths','Science','Hindi']),\n",
    "    'Samridhi': pd.Series([89, 91, 88],index=['Maths','Science','Hindi']),\n",
    "    'Riya': pd.Series([81, 71, 67],index=['Maths','Science','Hindi']),\n",
    "    'Mallika': pd.Series([94, 95, 99],index=['Maths','Science','Hindi'])}\n",
    "ResultDF = pd.DataFrame(ResultSheet)\n",
    "ResultDF"
   ]
  },
  {
   "cell_type": "markdown",
   "id": "717378e2",
   "metadata": {
    "_cell_guid": "2ef7e141-3df7-4e6d-95ed-bc6a433d4920",
    "_uuid": "eec519d2-cdb5-4fcb-b9eb-8e749cc2a6ae",
    "id": "28KtrHk3EF8s",
    "papermill": {
     "duration": 0.02719,
     "end_time": "2024-08-29T16:45:50.622665",
     "exception": false,
     "start_time": "2024-08-29T16:45:50.595475",
     "status": "completed"
    },
    "tags": []
   },
   "source": [
    "***Adding a New Column to a DataFrame***"
   ]
  },
  {
   "cell_type": "code",
   "execution_count": 24,
   "id": "16738c44",
   "metadata": {
    "_cell_guid": "4f28c279-a3a8-4637-a643-a022bc8d58a4",
    "_uuid": "ccfc83b4-c47d-4164-9b07-6562f9532a9c",
    "collapsed": false,
    "execution": {
     "iopub.execute_input": "2024-08-29T16:45:50.679227Z",
     "iopub.status.busy": "2024-08-29T16:45:50.678808Z",
     "iopub.status.idle": "2024-08-29T16:45:50.693772Z",
     "shell.execute_reply": "2024-08-29T16:45:50.692564Z"
    },
    "id": "rzJck6EhEGLV",
    "jupyter": {
     "outputs_hidden": false
    },
    "outputId": "5b94cb76-5f20-440b-b289-d648fb8295be",
    "papermill": {
     "duration": 0.046229,
     "end_time": "2024-08-29T16:45:50.696444",
     "exception": false,
     "start_time": "2024-08-29T16:45:50.650215",
     "status": "completed"
    },
    "tags": []
   },
   "outputs": [
    {
     "data": {
      "text/html": [
       "<div>\n",
       "<style scoped>\n",
       "    .dataframe tbody tr th:only-of-type {\n",
       "        vertical-align: middle;\n",
       "    }\n",
       "\n",
       "    .dataframe tbody tr th {\n",
       "        vertical-align: top;\n",
       "    }\n",
       "\n",
       "    .dataframe thead th {\n",
       "        text-align: right;\n",
       "    }\n",
       "</style>\n",
       "<table border=\"1\" class=\"dataframe\">\n",
       "  <thead>\n",
       "    <tr style=\"text-align: right;\">\n",
       "      <th></th>\n",
       "      <th>Name</th>\n",
       "      <th>Height</th>\n",
       "      <th>Age</th>\n",
       "      <th>Qualification</th>\n",
       "    </tr>\n",
       "  </thead>\n",
       "  <tbody>\n",
       "    <tr>\n",
       "      <th>0</th>\n",
       "      <td>Jai</td>\n",
       "      <td>5.1</td>\n",
       "      <td>21</td>\n",
       "      <td>Msc</td>\n",
       "    </tr>\n",
       "    <tr>\n",
       "      <th>1</th>\n",
       "      <td>Princi</td>\n",
       "      <td>6.2</td>\n",
       "      <td>23</td>\n",
       "      <td>MA</td>\n",
       "    </tr>\n",
       "    <tr>\n",
       "      <th>2</th>\n",
       "      <td>Gaurav</td>\n",
       "      <td>5.1</td>\n",
       "      <td>24</td>\n",
       "      <td>Msc</td>\n",
       "    </tr>\n",
       "    <tr>\n",
       "      <th>3</th>\n",
       "      <td>Anuj</td>\n",
       "      <td>5.2</td>\n",
       "      <td>21</td>\n",
       "      <td>Msc</td>\n",
       "    </tr>\n",
       "  </tbody>\n",
       "</table>\n",
       "</div>"
      ],
      "text/plain": [
       "     Name  Height  Age Qualification\n",
       "0     Jai     5.1   21           Msc\n",
       "1  Princi     6.2   23            MA\n",
       "2  Gaurav     5.1   24           Msc\n",
       "3    Anuj     5.2   21           Msc"
      ]
     },
     "execution_count": 24,
     "metadata": {},
     "output_type": "execute_result"
    }
   ],
   "source": [
    "# Define a dictionary containing Students data\n",
    "data = {'Name': ['Jai', 'Princi', 'Gaurav', 'Anuj'],\n",
    "        'Height': [5.1, 6.2, 5.1, 5.2],\n",
    "        'Qualification': ['Msc', 'MA', 'Msc', 'Msc']}\n",
    "\n",
    "# Convert the dictionary into DataFrame\n",
    "df = pd.DataFrame(data)\n",
    "\n",
    "# Using DataFrame.insert() to add a column\n",
    "df.insert(2, \"Age\", [21, 23, 24, 21], True)\n",
    "\n",
    "# Observe the result\n",
    "df"
   ]
  },
  {
   "cell_type": "markdown",
   "id": "f67bc3f8",
   "metadata": {
    "_cell_guid": "9d234d21-5c1b-49f1-9a02-c5517e525dbd",
    "_uuid": "1205f909-4402-411b-9f5d-13f0cd49cb66",
    "id": "9Oqa4gRWETVt",
    "papermill": {
     "duration": 0.027878,
     "end_time": "2024-08-29T16:45:50.752306",
     "exception": false,
     "start_time": "2024-08-29T16:45:50.724428",
     "status": "completed"
    },
    "tags": []
   },
   "source": [
    "***Adding a New Row to a DataFrame***"
   ]
  },
  {
   "cell_type": "code",
   "execution_count": 25,
   "id": "d174a4e9",
   "metadata": {
    "_cell_guid": "ee2519c5-dd17-4240-8bb1-00b7d663d21b",
    "_uuid": "b6ccd1ff-c4c4-4b78-a635-b88cd0a8e693",
    "collapsed": false,
    "execution": {
     "iopub.execute_input": "2024-08-29T16:45:50.810730Z",
     "iopub.status.busy": "2024-08-29T16:45:50.810310Z",
     "iopub.status.idle": "2024-08-29T16:45:50.830561Z",
     "shell.execute_reply": "2024-08-29T16:45:50.829279Z"
    },
    "id": "q4u3K-5oEWDB",
    "jupyter": {
     "outputs_hidden": false
    },
    "outputId": "1ab010fd-8b8e-4453-8f45-0d4df3dd2a0b",
    "papermill": {
     "duration": 0.052231,
     "end_time": "2024-08-29T16:45:50.832945",
     "exception": false,
     "start_time": "2024-08-29T16:45:50.780714",
     "status": "completed"
    },
    "tags": []
   },
   "outputs": [
    {
     "data": {
      "text/html": [
       "<div>\n",
       "<style scoped>\n",
       "    .dataframe tbody tr th:only-of-type {\n",
       "        vertical-align: middle;\n",
       "    }\n",
       "\n",
       "    .dataframe tbody tr th {\n",
       "        vertical-align: top;\n",
       "    }\n",
       "\n",
       "    .dataframe thead th {\n",
       "        text-align: right;\n",
       "    }\n",
       "</style>\n",
       "<table border=\"1\" class=\"dataframe\">\n",
       "  <thead>\n",
       "    <tr style=\"text-align: right;\">\n",
       "      <th></th>\n",
       "      <th>Name</th>\n",
       "      <th>Maths</th>\n",
       "      <th>Science</th>\n",
       "    </tr>\n",
       "  </thead>\n",
       "  <tbody>\n",
       "    <tr>\n",
       "      <th>0</th>\n",
       "      <td>Martha</td>\n",
       "      <td>87</td>\n",
       "      <td>83</td>\n",
       "    </tr>\n",
       "    <tr>\n",
       "      <th>1</th>\n",
       "      <td>Tim</td>\n",
       "      <td>91</td>\n",
       "      <td>99</td>\n",
       "    </tr>\n",
       "    <tr>\n",
       "      <th>2</th>\n",
       "      <td>Rob</td>\n",
       "      <td>97</td>\n",
       "      <td>84</td>\n",
       "    </tr>\n",
       "    <tr>\n",
       "      <th>3</th>\n",
       "      <td>Georgia</td>\n",
       "      <td>95</td>\n",
       "      <td>76</td>\n",
       "    </tr>\n",
       "  </tbody>\n",
       "</table>\n",
       "</div>"
      ],
      "text/plain": [
       "      Name  Maths  Science\n",
       "0   Martha     87       83\n",
       "1      Tim     91       99\n",
       "2      Rob     97       84\n",
       "3  Georgia     95       76"
      ]
     },
     "metadata": {},
     "output_type": "display_data"
    },
    {
     "data": {
      "text/html": [
       "<div>\n",
       "<style scoped>\n",
       "    .dataframe tbody tr th:only-of-type {\n",
       "        vertical-align: middle;\n",
       "    }\n",
       "\n",
       "    .dataframe tbody tr th {\n",
       "        vertical-align: top;\n",
       "    }\n",
       "\n",
       "    .dataframe thead th {\n",
       "        text-align: right;\n",
       "    }\n",
       "</style>\n",
       "<table border=\"1\" class=\"dataframe\">\n",
       "  <thead>\n",
       "    <tr style=\"text-align: right;\">\n",
       "      <th></th>\n",
       "      <th>Name</th>\n",
       "      <th>Maths</th>\n",
       "      <th>Science</th>\n",
       "    </tr>\n",
       "  </thead>\n",
       "  <tbody>\n",
       "    <tr>\n",
       "      <th>0</th>\n",
       "      <td>Martha</td>\n",
       "      <td>87</td>\n",
       "      <td>83</td>\n",
       "    </tr>\n",
       "    <tr>\n",
       "      <th>1</th>\n",
       "      <td>Tim</td>\n",
       "      <td>91</td>\n",
       "      <td>99</td>\n",
       "    </tr>\n",
       "    <tr>\n",
       "      <th>2</th>\n",
       "      <td>Rob</td>\n",
       "      <td>97</td>\n",
       "      <td>84</td>\n",
       "    </tr>\n",
       "    <tr>\n",
       "      <th>3</th>\n",
       "      <td>Georgia</td>\n",
       "      <td>95</td>\n",
       "      <td>76</td>\n",
       "    </tr>\n",
       "    <tr>\n",
       "      <th>4</th>\n",
       "      <td>Amy</td>\n",
       "      <td>89</td>\n",
       "      <td>93</td>\n",
       "    </tr>\n",
       "  </tbody>\n",
       "</table>\n",
       "</div>"
      ],
      "text/plain": [
       "      Name  Maths  Science\n",
       "0   Martha     87       83\n",
       "1      Tim     91       99\n",
       "2      Rob     97       84\n",
       "3  Georgia     95       76\n",
       "4      Amy     89       93"
      ]
     },
     "metadata": {},
     "output_type": "display_data"
    }
   ],
   "source": [
    "dict = {'Name':['Martha', 'Tim', 'Rob', 'Georgia'],\n",
    "        'Maths':[87, 91, 97, 95],\n",
    "        'Science':[83, 99, 84, 76]\n",
    "       }\n",
    "\n",
    "df = pd.DataFrame(dict)\n",
    "\n",
    "display(df)\n",
    "\n",
    "df.loc[len(df.index)] = ['Amy', 89, 93]\n",
    "\n",
    "display(df)"
   ]
  },
  {
   "cell_type": "markdown",
   "id": "40011df3",
   "metadata": {
    "_cell_guid": "35fea384-a9b2-4555-bb89-367f54cb9cc2",
    "_uuid": "867b8968-99a7-458b-994b-42e975b67952",
    "id": "Ym8vHxnSEnir",
    "papermill": {
     "duration": 0.027028,
     "end_time": "2024-08-29T16:45:50.888162",
     "exception": false,
     "start_time": "2024-08-29T16:45:50.861134",
     "status": "completed"
    },
    "tags": []
   },
   "source": [
    "***Deleting Rows or Columns from a DataFrame***"
   ]
  },
  {
   "cell_type": "code",
   "execution_count": 26,
   "id": "b732f76f",
   "metadata": {
    "_cell_guid": "48f60c77-9963-4bde-bf83-f1c250686c75",
    "_uuid": "3d6bcfd7-579c-42e3-be00-8a826a01138f",
    "collapsed": false,
    "execution": {
     "iopub.execute_input": "2024-08-29T16:45:50.946041Z",
     "iopub.status.busy": "2024-08-29T16:45:50.945154Z",
     "iopub.status.idle": "2024-08-29T16:45:50.956573Z",
     "shell.execute_reply": "2024-08-29T16:45:50.955413Z"
    },
    "id": "dT-pc2L5Fh7i",
    "jupyter": {
     "outputs_hidden": false
    },
    "outputId": "01f02d56-325a-49be-d320-493731cb5339",
    "papermill": {
     "duration": 0.041979,
     "end_time": "2024-08-29T16:45:50.958817",
     "exception": false,
     "start_time": "2024-08-29T16:45:50.916838",
     "status": "completed"
    },
    "tags": []
   },
   "outputs": [
    {
     "data": {
      "text/html": [
       "<div>\n",
       "<style scoped>\n",
       "    .dataframe tbody tr th:only-of-type {\n",
       "        vertical-align: middle;\n",
       "    }\n",
       "\n",
       "    .dataframe tbody tr th {\n",
       "        vertical-align: top;\n",
       "    }\n",
       "\n",
       "    .dataframe thead th {\n",
       "        text-align: right;\n",
       "    }\n",
       "</style>\n",
       "<table border=\"1\" class=\"dataframe\">\n",
       "  <thead>\n",
       "    <tr style=\"text-align: right;\">\n",
       "      <th></th>\n",
       "      <th>A</th>\n",
       "      <th>B</th>\n",
       "    </tr>\n",
       "  </thead>\n",
       "  <tbody>\n",
       "    <tr>\n",
       "      <th>0</th>\n",
       "      <td>1</td>\n",
       "      <td>4</td>\n",
       "    </tr>\n",
       "    <tr>\n",
       "      <th>1</th>\n",
       "      <td>2</td>\n",
       "      <td>5</td>\n",
       "    </tr>\n",
       "    <tr>\n",
       "      <th>2</th>\n",
       "      <td>3</td>\n",
       "      <td>6</td>\n",
       "    </tr>\n",
       "  </tbody>\n",
       "</table>\n",
       "</div>"
      ],
      "text/plain": [
       "   A  B\n",
       "0  1  4\n",
       "1  2  5\n",
       "2  3  6"
      ]
     },
     "execution_count": 26,
     "metadata": {},
     "output_type": "execute_result"
    }
   ],
   "source": [
    "df = pd.DataFrame({'A': [1, 2, 3], 'B': [4, 5, 6]})\n",
    "df"
   ]
  },
  {
   "cell_type": "code",
   "execution_count": 27,
   "id": "528bd0d8",
   "metadata": {
    "_cell_guid": "82df1a82-bba0-48b7-bc77-5fc849e50571",
    "_uuid": "6fe12130-336f-4abd-8780-559b59fca312",
    "collapsed": false,
    "execution": {
     "iopub.execute_input": "2024-08-29T16:45:51.016239Z",
     "iopub.status.busy": "2024-08-29T16:45:51.015809Z",
     "iopub.status.idle": "2024-08-29T16:45:51.029746Z",
     "shell.execute_reply": "2024-08-29T16:45:51.028524Z"
    },
    "id": "Yqec0w_cEru5",
    "jupyter": {
     "outputs_hidden": false
    },
    "outputId": "f9971cfc-610c-4b70-dd96-a897d6e346ae",
    "papermill": {
     "duration": 0.046325,
     "end_time": "2024-08-29T16:45:51.032345",
     "exception": false,
     "start_time": "2024-08-29T16:45:50.986020",
     "status": "completed"
    },
    "tags": []
   },
   "outputs": [
    {
     "data": {
      "text/html": [
       "<div>\n",
       "<style scoped>\n",
       "    .dataframe tbody tr th:only-of-type {\n",
       "        vertical-align: middle;\n",
       "    }\n",
       "\n",
       "    .dataframe tbody tr th {\n",
       "        vertical-align: top;\n",
       "    }\n",
       "\n",
       "    .dataframe thead th {\n",
       "        text-align: right;\n",
       "    }\n",
       "</style>\n",
       "<table border=\"1\" class=\"dataframe\">\n",
       "  <thead>\n",
       "    <tr style=\"text-align: right;\">\n",
       "      <th></th>\n",
       "      <th>A</th>\n",
       "    </tr>\n",
       "  </thead>\n",
       "  <tbody>\n",
       "    <tr>\n",
       "      <th>0</th>\n",
       "      <td>1</td>\n",
       "    </tr>\n",
       "    <tr>\n",
       "      <th>1</th>\n",
       "      <td>2</td>\n",
       "    </tr>\n",
       "    <tr>\n",
       "      <th>2</th>\n",
       "      <td>3</td>\n",
       "    </tr>\n",
       "  </tbody>\n",
       "</table>\n",
       "</div>"
      ],
      "text/plain": [
       "   A\n",
       "0  1\n",
       "1  2\n",
       "2  3"
      ]
     },
     "execution_count": 27,
     "metadata": {},
     "output_type": "execute_result"
    }
   ],
   "source": [
    "# Drop column\n",
    "df.drop(columns=['B'], inplace=True)\n",
    "df"
   ]
  },
  {
   "cell_type": "code",
   "execution_count": 28,
   "id": "1467c2b4",
   "metadata": {
    "_cell_guid": "76dafa7d-14b1-47ac-879b-08eabc38a69e",
    "_uuid": "34b672d9-6153-4d53-931a-5bed26816053",
    "collapsed": false,
    "execution": {
     "iopub.execute_input": "2024-08-29T16:45:51.089079Z",
     "iopub.status.busy": "2024-08-29T16:45:51.088687Z",
     "iopub.status.idle": "2024-08-29T16:45:51.098794Z",
     "shell.execute_reply": "2024-08-29T16:45:51.097695Z"
    },
    "id": "WreIPlLBFnaw",
    "jupyter": {
     "outputs_hidden": false
    },
    "outputId": "43102b09-11b4-46fd-d309-38d31caad3e3",
    "papermill": {
     "duration": 0.041377,
     "end_time": "2024-08-29T16:45:51.101382",
     "exception": false,
     "start_time": "2024-08-29T16:45:51.060005",
     "status": "completed"
    },
    "tags": []
   },
   "outputs": [
    {
     "data": {
      "text/html": [
       "<div>\n",
       "<style scoped>\n",
       "    .dataframe tbody tr th:only-of-type {\n",
       "        vertical-align: middle;\n",
       "    }\n",
       "\n",
       "    .dataframe tbody tr th {\n",
       "        vertical-align: top;\n",
       "    }\n",
       "\n",
       "    .dataframe thead th {\n",
       "        text-align: right;\n",
       "    }\n",
       "</style>\n",
       "<table border=\"1\" class=\"dataframe\">\n",
       "  <thead>\n",
       "    <tr style=\"text-align: right;\">\n",
       "      <th></th>\n",
       "      <th>A</th>\n",
       "    </tr>\n",
       "  </thead>\n",
       "  <tbody>\n",
       "    <tr>\n",
       "      <th>2</th>\n",
       "      <td>3</td>\n",
       "    </tr>\n",
       "  </tbody>\n",
       "</table>\n",
       "</div>"
      ],
      "text/plain": [
       "   A\n",
       "2  3"
      ]
     },
     "execution_count": 28,
     "metadata": {},
     "output_type": "execute_result"
    }
   ],
   "source": [
    "# Drop row\n",
    "df.drop([0, 1], inplace=True)\n",
    "df"
   ]
  },
  {
   "cell_type": "markdown",
   "id": "59b4668f",
   "metadata": {
    "_cell_guid": "4a5d8fec-0b37-4e84-a630-11d464642e0a",
    "_uuid": "b77550ea-b070-407e-92ab-6e7bba5f1fda",
    "id": "GYQanlU-FzxW",
    "papermill": {
     "duration": 0.02751,
     "end_time": "2024-08-29T16:45:51.157334",
     "exception": false,
     "start_time": "2024-08-29T16:45:51.129824",
     "status": "completed"
    },
    "tags": []
   },
   "source": [
    "***Renaming Column Labels of a DataFrame***"
   ]
  },
  {
   "cell_type": "code",
   "execution_count": 29,
   "id": "cd899d4b",
   "metadata": {
    "_cell_guid": "e37c35e6-0141-4072-9975-4f9eb88522b7",
    "_uuid": "32f316d9-84af-4eb6-8c81-1cd550c5bd15",
    "collapsed": false,
    "execution": {
     "iopub.execute_input": "2024-08-29T16:45:51.213905Z",
     "iopub.status.busy": "2024-08-29T16:45:51.213492Z",
     "iopub.status.idle": "2024-08-29T16:45:51.224547Z",
     "shell.execute_reply": "2024-08-29T16:45:51.223563Z"
    },
    "id": "pkUTeHYbFfsN",
    "jupyter": {
     "outputs_hidden": false
    },
    "outputId": "cc10f8b9-bc64-4a14-863d-662031f44f0a",
    "papermill": {
     "duration": 0.041796,
     "end_time": "2024-08-29T16:45:51.226829",
     "exception": false,
     "start_time": "2024-08-29T16:45:51.185033",
     "status": "completed"
    },
    "tags": []
   },
   "outputs": [
    {
     "data": {
      "text/html": [
       "<div>\n",
       "<style scoped>\n",
       "    .dataframe tbody tr th:only-of-type {\n",
       "        vertical-align: middle;\n",
       "    }\n",
       "\n",
       "    .dataframe tbody tr th {\n",
       "        vertical-align: top;\n",
       "    }\n",
       "\n",
       "    .dataframe thead th {\n",
       "        text-align: right;\n",
       "    }\n",
       "</style>\n",
       "<table border=\"1\" class=\"dataframe\">\n",
       "  <thead>\n",
       "    <tr style=\"text-align: right;\">\n",
       "      <th></th>\n",
       "      <th>Name</th>\n",
       "      <th>Age</th>\n",
       "    </tr>\n",
       "  </thead>\n",
       "  <tbody>\n",
       "    <tr>\n",
       "      <th>0</th>\n",
       "      <td>Tom</td>\n",
       "      <td>15</td>\n",
       "    </tr>\n",
       "    <tr>\n",
       "      <th>1</th>\n",
       "      <td>Nick</td>\n",
       "      <td>26</td>\n",
       "    </tr>\n",
       "    <tr>\n",
       "      <th>2</th>\n",
       "      <td>John</td>\n",
       "      <td>17</td>\n",
       "    </tr>\n",
       "    <tr>\n",
       "      <th>3</th>\n",
       "      <td>Peter</td>\n",
       "      <td>28</td>\n",
       "    </tr>\n",
       "  </tbody>\n",
       "</table>\n",
       "</div>"
      ],
      "text/plain": [
       "    Name  Age\n",
       "0    Tom   15\n",
       "1   Nick   26\n",
       "2   John   17\n",
       "3  Peter   28"
      ]
     },
     "execution_count": 29,
     "metadata": {},
     "output_type": "execute_result"
    }
   ],
   "source": [
    "# Create a dataFrame using dictionary\n",
    "df=pd.DataFrame({\"Name\":['Tom','Nick','John','Peter'],\n",
    "                \"Age\":[15,26,17,28]})\n",
    "\n",
    "# Creates a dataFrame with\n",
    "# 2 columns and 4 rows\n",
    "df"
   ]
  },
  {
   "cell_type": "code",
   "execution_count": 30,
   "id": "f6bcdcf7",
   "metadata": {
    "_cell_guid": "0f8ad57b-be9d-4a99-b087-5a42c39f5fbe",
    "_uuid": "67a7a0b9-81a4-4060-b8e9-ca65323bd2ea",
    "collapsed": false,
    "execution": {
     "iopub.execute_input": "2024-08-29T16:45:51.284969Z",
     "iopub.status.busy": "2024-08-29T16:45:51.284143Z",
     "iopub.status.idle": "2024-08-29T16:45:51.294932Z",
     "shell.execute_reply": "2024-08-29T16:45:51.293807Z"
    },
    "id": "zgZAXocgF1kj",
    "jupyter": {
     "outputs_hidden": false
    },
    "outputId": "e2328574-65f6-4b7b-8ce8-3040e41b5821",
    "papermill": {
     "duration": 0.042053,
     "end_time": "2024-08-29T16:45:51.297111",
     "exception": false,
     "start_time": "2024-08-29T16:45:51.255058",
     "status": "completed"
    },
    "tags": []
   },
   "outputs": [
    {
     "data": {
      "text/html": [
       "<div>\n",
       "<style scoped>\n",
       "    .dataframe tbody tr th:only-of-type {\n",
       "        vertical-align: middle;\n",
       "    }\n",
       "\n",
       "    .dataframe tbody tr th {\n",
       "        vertical-align: top;\n",
       "    }\n",
       "\n",
       "    .dataframe thead th {\n",
       "        text-align: right;\n",
       "    }\n",
       "</style>\n",
       "<table border=\"1\" class=\"dataframe\">\n",
       "  <thead>\n",
       "    <tr style=\"text-align: right;\">\n",
       "      <th></th>\n",
       "      <th>Col_1</th>\n",
       "      <th>Col_2</th>\n",
       "    </tr>\n",
       "  </thead>\n",
       "  <tbody>\n",
       "    <tr>\n",
       "      <th>Row_1</th>\n",
       "      <td>Tom</td>\n",
       "      <td>15</td>\n",
       "    </tr>\n",
       "    <tr>\n",
       "      <th>Row_2</th>\n",
       "      <td>Nick</td>\n",
       "      <td>26</td>\n",
       "    </tr>\n",
       "    <tr>\n",
       "      <th>Row_3</th>\n",
       "      <td>John</td>\n",
       "      <td>17</td>\n",
       "    </tr>\n",
       "    <tr>\n",
       "      <th>Row_4</th>\n",
       "      <td>Peter</td>\n",
       "      <td>28</td>\n",
       "    </tr>\n",
       "  </tbody>\n",
       "</table>\n",
       "</div>"
      ],
      "text/plain": [
       "       Col_1  Col_2\n",
       "Row_1    Tom     15\n",
       "Row_2   Nick     26\n",
       "Row_3   John     17\n",
       "Row_4  Peter     28"
      ]
     },
     "execution_count": 30,
     "metadata": {},
     "output_type": "execute_result"
    }
   ],
   "source": [
    "# Change the column names\n",
    "df.columns =['Col_1', 'Col_2']\n",
    "\n",
    "# Change the row indexes\n",
    "df.index = ['Row_1', 'Row_2', 'Row_3', 'Row_4']\n",
    "\n",
    "# printing the data frame\n",
    "df"
   ]
  },
  {
   "cell_type": "markdown",
   "id": "360bc0f8",
   "metadata": {
    "_cell_guid": "802f2c07-f676-4d9a-9f9f-44748c240874",
    "_uuid": "2c2bfe0c-b6ab-40d7-ac04-bdb4700f7742",
    "id": "9fYIigrYHEvo",
    "papermill": {
     "duration": 0.027892,
     "end_time": "2024-08-29T16:45:51.353325",
     "exception": false,
     "start_time": "2024-08-29T16:45:51.325433",
     "status": "completed"
    },
    "tags": []
   },
   "source": [
    "***Renaming Row Labels of a DataFrame***"
   ]
  },
  {
   "cell_type": "code",
   "execution_count": 31,
   "id": "44941d4e",
   "metadata": {
    "_cell_guid": "a5393c52-4946-46e9-9154-4bf218fbbc25",
    "_uuid": "393f84bb-8e4b-429b-8596-d1f0fb5f348a",
    "collapsed": false,
    "execution": {
     "iopub.execute_input": "2024-08-29T16:45:51.412211Z",
     "iopub.status.busy": "2024-08-29T16:45:51.411825Z",
     "iopub.status.idle": "2024-08-29T16:45:51.423098Z",
     "shell.execute_reply": "2024-08-29T16:45:51.422023Z"
    },
    "id": "u4hq2HZWGt4Z",
    "jupyter": {
     "outputs_hidden": false
    },
    "outputId": "4c2dac9e-5d45-427a-bcc5-47bac2f39c6e",
    "papermill": {
     "duration": 0.043673,
     "end_time": "2024-08-29T16:45:51.425316",
     "exception": false,
     "start_time": "2024-08-29T16:45:51.381643",
     "status": "completed"
    },
    "tags": []
   },
   "outputs": [
    {
     "data": {
      "text/html": [
       "<div>\n",
       "<style scoped>\n",
       "    .dataframe tbody tr th:only-of-type {\n",
       "        vertical-align: middle;\n",
       "    }\n",
       "\n",
       "    .dataframe tbody tr th {\n",
       "        vertical-align: top;\n",
       "    }\n",
       "\n",
       "    .dataframe thead th {\n",
       "        text-align: right;\n",
       "    }\n",
       "</style>\n",
       "<table border=\"1\" class=\"dataframe\">\n",
       "  <thead>\n",
       "    <tr style=\"text-align: right;\">\n",
       "      <th></th>\n",
       "      <th>A</th>\n",
       "      <th>B</th>\n",
       "    </tr>\n",
       "  </thead>\n",
       "  <tbody>\n",
       "    <tr>\n",
       "      <th>10</th>\n",
       "      <td>Tom</td>\n",
       "      <td>25</td>\n",
       "    </tr>\n",
       "    <tr>\n",
       "      <th>11</th>\n",
       "      <td>Nick</td>\n",
       "      <td>16</td>\n",
       "    </tr>\n",
       "    <tr>\n",
       "      <th>12</th>\n",
       "      <td>John</td>\n",
       "      <td>27</td>\n",
       "    </tr>\n",
       "    <tr>\n",
       "      <th>13</th>\n",
       "      <td>Peter</td>\n",
       "      <td>18</td>\n",
       "    </tr>\n",
       "  </tbody>\n",
       "</table>\n",
       "</div>"
      ],
      "text/plain": [
       "        A   B\n",
       "10    Tom  25\n",
       "11   Nick  16\n",
       "12   John  27\n",
       "13  Peter  18"
      ]
     },
     "execution_count": 31,
     "metadata": {},
     "output_type": "execute_result"
    }
   ],
   "source": [
    "# To change the row indexes\n",
    "df = pd.DataFrame({\"A\":['Tom','Nick','John','Peter'],\n",
    "                \"B\":[25,16,27,18]})\n",
    "\n",
    "# this will increase the row index value by 10 for each row\n",
    "df = df.rename(index = lambda x: x + 10)\n",
    "\n",
    "df"
   ]
  },
  {
   "cell_type": "markdown",
   "id": "dbd7a05c",
   "metadata": {
    "_cell_guid": "6fea97ec-cf6e-4439-a68c-b4268d4bf9d0",
    "_uuid": "3648a8f8-82de-42b6-a89f-f1b28356ce04",
    "id": "937kCQ6vHa9-",
    "papermill": {
     "duration": 0.027616,
     "end_time": "2024-08-29T16:45:51.480806",
     "exception": false,
     "start_time": "2024-08-29T16:45:51.453190",
     "status": "completed"
    },
    "tags": []
   },
   "source": [
    "***Label Based Indexing of dataframe***"
   ]
  },
  {
   "cell_type": "code",
   "execution_count": 32,
   "id": "84b6ffd1",
   "metadata": {
    "_cell_guid": "80deb6fe-c08b-4e18-9806-1a0ad86e5887",
    "_uuid": "a31e2bc8-7468-4c04-93f9-44df0897d822",
    "collapsed": false,
    "execution": {
     "iopub.execute_input": "2024-08-29T16:45:51.538736Z",
     "iopub.status.busy": "2024-08-29T16:45:51.538312Z",
     "iopub.status.idle": "2024-08-29T16:45:51.552683Z",
     "shell.execute_reply": "2024-08-29T16:45:51.551594Z"
    },
    "id": "Cnj6P1duHdFH",
    "jupyter": {
     "outputs_hidden": false
    },
    "outputId": "066a235a-f2de-4324-c027-3611e50b9723",
    "papermill": {
     "duration": 0.046052,
     "end_time": "2024-08-29T16:45:51.555037",
     "exception": false,
     "start_time": "2024-08-29T16:45:51.508985",
     "status": "completed"
    },
    "tags": []
   },
   "outputs": [
    {
     "data": {
      "text/html": [
       "<div>\n",
       "<style scoped>\n",
       "    .dataframe tbody tr th:only-of-type {\n",
       "        vertical-align: middle;\n",
       "    }\n",
       "\n",
       "    .dataframe tbody tr th {\n",
       "        vertical-align: top;\n",
       "    }\n",
       "\n",
       "    .dataframe thead th {\n",
       "        text-align: right;\n",
       "    }\n",
       "</style>\n",
       "<table border=\"1\" class=\"dataframe\">\n",
       "  <thead>\n",
       "    <tr style=\"text-align: right;\">\n",
       "      <th></th>\n",
       "      <th>Year</th>\n",
       "      <th>Alpha</th>\n",
       "      <th>x</th>\n",
       "      <th>y</th>\n",
       "      <th>z</th>\n",
       "      <th>v</th>\n",
       "    </tr>\n",
       "  </thead>\n",
       "  <tbody>\n",
       "    <tr>\n",
       "      <th>0</th>\n",
       "      <td>1993</td>\n",
       "      <td>x</td>\n",
       "      <td>5</td>\n",
       "      <td>4</td>\n",
       "      <td>7</td>\n",
       "      <td>2</td>\n",
       "    </tr>\n",
       "    <tr>\n",
       "      <th>1</th>\n",
       "      <td>1994</td>\n",
       "      <td>v</td>\n",
       "      <td>10</td>\n",
       "      <td>1</td>\n",
       "      <td>2</td>\n",
       "      <td>0</td>\n",
       "    </tr>\n",
       "    <tr>\n",
       "      <th>2</th>\n",
       "      <td>1995</td>\n",
       "      <td>z</td>\n",
       "      <td>2</td>\n",
       "      <td>1</td>\n",
       "      <td>4</td>\n",
       "      <td>12</td>\n",
       "    </tr>\n",
       "    <tr>\n",
       "      <th>3</th>\n",
       "      <td>1996</td>\n",
       "      <td>y</td>\n",
       "      <td>2</td>\n",
       "      <td>1</td>\n",
       "      <td>10</td>\n",
       "      <td>1</td>\n",
       "    </tr>\n",
       "    <tr>\n",
       "      <th>4</th>\n",
       "      <td>1998</td>\n",
       "      <td>x</td>\n",
       "      <td>2</td>\n",
       "      <td>10</td>\n",
       "      <td>40</td>\n",
       "      <td>12</td>\n",
       "    </tr>\n",
       "    <tr>\n",
       "      <th>5</th>\n",
       "      <td>1999</td>\n",
       "      <td>x</td>\n",
       "      <td>5</td>\n",
       "      <td>8</td>\n",
       "      <td>11</td>\n",
       "      <td>6</td>\n",
       "    </tr>\n",
       "  </tbody>\n",
       "</table>\n",
       "</div>"
      ],
      "text/plain": [
       "   Year Alpha   x   y   z   v\n",
       "0  1993     x   5   4   7   2\n",
       "1  1994     v  10   1   2   0\n",
       "2  1995     z   2   1   4  12\n",
       "3  1996     y   2   1  10   1\n",
       "4  1998     x   2  10  40  12\n",
       "5  1999     x   5   8  11   6"
      ]
     },
     "execution_count": 32,
     "metadata": {},
     "output_type": "execute_result"
    }
   ],
   "source": [
    "# Creating a Data frame\n",
    "df = pd.DataFrame([['1993', 'x', 5, 4, 7, 2],\n",
    "                   ['1994', 'v', 10, 1, 2, 0],\n",
    "                   ['1995', 'z', 2, 1, 4, 12],\n",
    "                   ['1996', 'y', 2, 1, 10, 1],\n",
    "                   ['1998', 'x', 2, 10, 40, 12],\n",
    "                   ['1999', 'x', 5, 8, 11, 6]],\n",
    "                  columns=('Year', 'Alpha', 'x', 'y', 'z', 'v'))\n",
    "\n",
    "# Display Data frame\n",
    "df"
   ]
  },
  {
   "cell_type": "code",
   "execution_count": 33,
   "id": "4310d7e1",
   "metadata": {
    "_cell_guid": "866f7e83-ce5f-423e-be0d-62595a0c8fd7",
    "_uuid": "f82acecb-b9e7-494a-8198-8a35cdcdd44d",
    "collapsed": false,
    "execution": {
     "iopub.execute_input": "2024-08-29T16:45:51.614412Z",
     "iopub.status.busy": "2024-08-29T16:45:51.614008Z",
     "iopub.status.idle": "2024-08-29T16:45:51.622822Z",
     "shell.execute_reply": "2024-08-29T16:45:51.621758Z"
    },
    "id": "u6VioHlMHjZq",
    "jupyter": {
     "outputs_hidden": false
    },
    "outputId": "4b61c2c9-61a9-45b8-f1b9-de97a712d4c7",
    "papermill": {
     "duration": 0.041561,
     "end_time": "2024-08-29T16:45:51.625404",
     "exception": false,
     "start_time": "2024-08-29T16:45:51.583843",
     "status": "completed"
    },
    "tags": []
   },
   "outputs": [
    {
     "data": {
      "text/plain": [
       "0    x\n",
       "Name: Alpha, dtype: object"
      ]
     },
     "execution_count": 33,
     "metadata": {},
     "output_type": "execute_result"
    }
   ],
   "source": [
    "# Using loc\n",
    "df.loc[df['Year'] == '1993', 'Alpha']"
   ]
  },
  {
   "cell_type": "markdown",
   "id": "0ee508be",
   "metadata": {
    "_cell_guid": "67b8f843-704b-48a8-9595-10c53de580ed",
    "_uuid": "62c6a3f5-834d-491c-9b03-b3155e3f99ea",
    "id": "EiJoZ2peIz5B",
    "papermill": {
     "duration": 0.027666,
     "end_time": "2024-08-29T16:45:51.682496",
     "exception": false,
     "start_time": "2024-08-29T16:45:51.654830",
     "status": "completed"
    },
    "tags": []
   },
   "source": [
    "***Boolean Indexing***"
   ]
  },
  {
   "cell_type": "code",
   "execution_count": 34,
   "id": "42d9a355",
   "metadata": {
    "_cell_guid": "c4a19c74-4c36-45e0-9814-97621c3a2362",
    "_uuid": "1ddcd038-cdfd-430b-a59e-1c836a14713b",
    "collapsed": false,
    "execution": {
     "iopub.execute_input": "2024-08-29T16:45:51.740520Z",
     "iopub.status.busy": "2024-08-29T16:45:51.739727Z",
     "iopub.status.idle": "2024-08-29T16:45:51.752698Z",
     "shell.execute_reply": "2024-08-29T16:45:51.751659Z"
    },
    "id": "e5vDEGBSI1YY",
    "jupyter": {
     "outputs_hidden": false
    },
    "outputId": "0c765ad9-00d3-40ac-ec2a-9de7a20dd270",
    "papermill": {
     "duration": 0.044639,
     "end_time": "2024-08-29T16:45:51.755024",
     "exception": false,
     "start_time": "2024-08-29T16:45:51.710385",
     "status": "completed"
    },
    "tags": []
   },
   "outputs": [
    {
     "data": {
      "text/html": [
       "<div>\n",
       "<style scoped>\n",
       "    .dataframe tbody tr th:only-of-type {\n",
       "        vertical-align: middle;\n",
       "    }\n",
       "\n",
       "    .dataframe tbody tr th {\n",
       "        vertical-align: top;\n",
       "    }\n",
       "\n",
       "    .dataframe thead th {\n",
       "        text-align: right;\n",
       "    }\n",
       "</style>\n",
       "<table border=\"1\" class=\"dataframe\">\n",
       "  <thead>\n",
       "    <tr style=\"text-align: right;\">\n",
       "      <th></th>\n",
       "      <th>name</th>\n",
       "      <th>degree</th>\n",
       "      <th>score</th>\n",
       "    </tr>\n",
       "  </thead>\n",
       "  <tbody>\n",
       "    <tr>\n",
       "      <th>True</th>\n",
       "      <td>aparna</td>\n",
       "      <td>MBA</td>\n",
       "      <td>90</td>\n",
       "    </tr>\n",
       "    <tr>\n",
       "      <th>False</th>\n",
       "      <td>pankaj</td>\n",
       "      <td>BCA</td>\n",
       "      <td>40</td>\n",
       "    </tr>\n",
       "    <tr>\n",
       "      <th>True</th>\n",
       "      <td>sudhir</td>\n",
       "      <td>M.Tech</td>\n",
       "      <td>80</td>\n",
       "    </tr>\n",
       "    <tr>\n",
       "      <th>False</th>\n",
       "      <td>Geeku</td>\n",
       "      <td>MBA</td>\n",
       "      <td>98</td>\n",
       "    </tr>\n",
       "  </tbody>\n",
       "</table>\n",
       "</div>"
      ],
      "text/plain": [
       "         name  degree  score\n",
       "True   aparna     MBA     90\n",
       "False  pankaj     BCA     40\n",
       "True   sudhir  M.Tech     80\n",
       "False   Geeku     MBA     98"
      ]
     },
     "execution_count": 34,
     "metadata": {},
     "output_type": "execute_result"
    }
   ],
   "source": [
    "# dictionary of lists\n",
    "dict = {'name':[\"aparna\", \"pankaj\", \"sudhir\", \"Geeku\"],\n",
    "        'degree': [\"MBA\", \"BCA\", \"M.Tech\", \"MBA\"],\n",
    "        'score':[90, 40, 80, 98]}\n",
    "\n",
    "df = pd.DataFrame(dict, index = [True, False, True, False])\n",
    "\n",
    "df"
   ]
  },
  {
   "cell_type": "markdown",
   "id": "3357bff2",
   "metadata": {
    "_cell_guid": "225cddc8-942d-4a15-801d-9583d1b44777",
    "_uuid": "0ab72ad9-5082-4ed1-ab56-1a463376ee82",
    "id": "Wom0wga7JIwO",
    "papermill": {
     "duration": 0.027979,
     "end_time": "2024-08-29T16:45:51.811447",
     "exception": false,
     "start_time": "2024-08-29T16:45:51.783468",
     "status": "completed"
    },
    "tags": []
   },
   "source": [
    "***Joining, Merging and Concatenation of DataFrames***"
   ]
  },
  {
   "cell_type": "code",
   "execution_count": 35,
   "id": "303ff90a",
   "metadata": {
    "_cell_guid": "d69cbcbb-e8c0-4d31-a203-62de95a53b0e",
    "_uuid": "96131805-10ef-4dbb-a1a8-13270508fadd",
    "collapsed": false,
    "execution": {
     "iopub.execute_input": "2024-08-29T16:45:51.870174Z",
     "iopub.status.busy": "2024-08-29T16:45:51.869781Z",
     "iopub.status.idle": "2024-08-29T16:45:51.888046Z",
     "shell.execute_reply": "2024-08-29T16:45:51.886991Z"
    },
    "id": "xxut5ohNJMHV",
    "jupyter": {
     "outputs_hidden": false
    },
    "outputId": "47288eb8-bf74-466e-d27f-1c02410f0fb3",
    "papermill": {
     "duration": 0.050353,
     "end_time": "2024-08-29T16:45:51.890432",
     "exception": false,
     "start_time": "2024-08-29T16:45:51.840079",
     "status": "completed"
    },
    "tags": []
   },
   "outputs": [
    {
     "data": {
      "text/html": [
       "<div>\n",
       "<style scoped>\n",
       "    .dataframe tbody tr th:only-of-type {\n",
       "        vertical-align: middle;\n",
       "    }\n",
       "\n",
       "    .dataframe tbody tr th {\n",
       "        vertical-align: top;\n",
       "    }\n",
       "\n",
       "    .dataframe thead th {\n",
       "        text-align: right;\n",
       "    }\n",
       "</style>\n",
       "<table border=\"1\" class=\"dataframe\">\n",
       "  <thead>\n",
       "    <tr style=\"text-align: right;\">\n",
       "      <th></th>\n",
       "      <th>A</th>\n",
       "      <th>B</th>\n",
       "      <th>C</th>\n",
       "      <th>D</th>\n",
       "    </tr>\n",
       "  </thead>\n",
       "  <tbody>\n",
       "    <tr>\n",
       "      <th>0</th>\n",
       "      <td>A0</td>\n",
       "      <td>B0</td>\n",
       "      <td>C0</td>\n",
       "      <td>D0</td>\n",
       "    </tr>\n",
       "    <tr>\n",
       "      <th>1</th>\n",
       "      <td>A1</td>\n",
       "      <td>B1</td>\n",
       "      <td>C1</td>\n",
       "      <td>D1</td>\n",
       "    </tr>\n",
       "    <tr>\n",
       "      <th>2</th>\n",
       "      <td>A2</td>\n",
       "      <td>B2</td>\n",
       "      <td>C2</td>\n",
       "      <td>D2</td>\n",
       "    </tr>\n",
       "    <tr>\n",
       "      <th>3</th>\n",
       "      <td>A3</td>\n",
       "      <td>B3</td>\n",
       "      <td>C3</td>\n",
       "      <td>D3</td>\n",
       "    </tr>\n",
       "    <tr>\n",
       "      <th>4</th>\n",
       "      <td>A4</td>\n",
       "      <td>B4</td>\n",
       "      <td>C4</td>\n",
       "      <td>D4</td>\n",
       "    </tr>\n",
       "    <tr>\n",
       "      <th>5</th>\n",
       "      <td>A5</td>\n",
       "      <td>B5</td>\n",
       "      <td>C5</td>\n",
       "      <td>D5</td>\n",
       "    </tr>\n",
       "    <tr>\n",
       "      <th>6</th>\n",
       "      <td>A6</td>\n",
       "      <td>B6</td>\n",
       "      <td>C6</td>\n",
       "      <td>D6</td>\n",
       "    </tr>\n",
       "    <tr>\n",
       "      <th>7</th>\n",
       "      <td>A7</td>\n",
       "      <td>B7</td>\n",
       "      <td>C7</td>\n",
       "      <td>D7</td>\n",
       "    </tr>\n",
       "    <tr>\n",
       "      <th>8</th>\n",
       "      <td>A8</td>\n",
       "      <td>B8</td>\n",
       "      <td>C8</td>\n",
       "      <td>D8</td>\n",
       "    </tr>\n",
       "    <tr>\n",
       "      <th>9</th>\n",
       "      <td>A9</td>\n",
       "      <td>B9</td>\n",
       "      <td>C9</td>\n",
       "      <td>D9</td>\n",
       "    </tr>\n",
       "    <tr>\n",
       "      <th>10</th>\n",
       "      <td>A10</td>\n",
       "      <td>B10</td>\n",
       "      <td>C10</td>\n",
       "      <td>D10</td>\n",
       "    </tr>\n",
       "    <tr>\n",
       "      <th>11</th>\n",
       "      <td>A11</td>\n",
       "      <td>B11</td>\n",
       "      <td>C11</td>\n",
       "      <td>D11</td>\n",
       "    </tr>\n",
       "  </tbody>\n",
       "</table>\n",
       "</div>"
      ],
      "text/plain": [
       "      A    B    C    D\n",
       "0    A0   B0   C0   D0\n",
       "1    A1   B1   C1   D1\n",
       "2    A2   B2   C2   D2\n",
       "3    A3   B3   C3   D3\n",
       "4    A4   B4   C4   D4\n",
       "5    A5   B5   C5   D5\n",
       "6    A6   B6   C6   D6\n",
       "7    A7   B7   C7   D7\n",
       "8    A8   B8   C8   D8\n",
       "9    A9   B9   C9   D9\n",
       "10  A10  B10  C10  D10\n",
       "11  A11  B11  C11  D11"
      ]
     },
     "execution_count": 35,
     "metadata": {},
     "output_type": "execute_result"
    }
   ],
   "source": [
    "# Concat\n",
    "# Creating first dataframe\n",
    "df1 = pd.DataFrame({'A': ['A0', 'A1', 'A2', 'A3'],\n",
    "                    'B': ['B0', 'B1', 'B2', 'B3'],\n",
    "                    'C': ['C0', 'C1', 'C2', 'C3'],\n",
    "                    'D': ['D0', 'D1', 'D2', 'D3']},\n",
    "                   index=[0, 1, 2, 3])\n",
    "\n",
    "# Creating second dataframe\n",
    "df2 = pd.DataFrame({'A': ['A4', 'A5', 'A6', 'A7'],\n",
    "                    'B': ['B4', 'B5', 'B6', 'B7'],\n",
    "                    'C': ['C4', 'C5', 'C6', 'C7'],\n",
    "                    'D': ['D4', 'D5', 'D6', 'D7']},\n",
    "                   index=[4, 5, 6, 7])\n",
    "\n",
    "# Creating third dataframe\n",
    "df3 = pd.DataFrame({'A': ['A8', 'A9', 'A10', 'A11'],\n",
    "                    'B': ['B8', 'B9', 'B10', 'B11'],\n",
    "                    'C': ['C8', 'C9', 'C10', 'C11'],\n",
    "                    'D': ['D8', 'D9', 'D10', 'D11']},\n",
    "                   index=[8, 9, 10, 11])\n",
    "\n",
    "# Concatenating the dataframes\n",
    "pd.concat([df1, df2, df3])"
   ]
  },
  {
   "cell_type": "code",
   "execution_count": 36,
   "id": "22def6c5",
   "metadata": {
    "_cell_guid": "92c3ca28-1b1f-4337-8ef7-7ba77c369487",
    "_uuid": "6d644118-60b1-4b9f-aee1-404d1e32179c",
    "collapsed": false,
    "execution": {
     "iopub.execute_input": "2024-08-29T16:45:51.952478Z",
     "iopub.status.busy": "2024-08-29T16:45:51.952101Z",
     "iopub.status.idle": "2024-08-29T16:45:51.971776Z",
     "shell.execute_reply": "2024-08-29T16:45:51.970477Z"
    },
    "id": "RVyCT0rpJTLx",
    "jupyter": {
     "outputs_hidden": false
    },
    "outputId": "8c23a835-b57c-40e4-e51e-e4b02620b63b",
    "papermill": {
     "duration": 0.052356,
     "end_time": "2024-08-29T16:45:51.974161",
     "exception": false,
     "start_time": "2024-08-29T16:45:51.921805",
     "status": "completed"
    },
    "tags": []
   },
   "outputs": [
    {
     "data": {
      "text/html": [
       "<div>\n",
       "<style scoped>\n",
       "    .dataframe tbody tr th:only-of-type {\n",
       "        vertical-align: middle;\n",
       "    }\n",
       "\n",
       "    .dataframe tbody tr th {\n",
       "        vertical-align: top;\n",
       "    }\n",
       "\n",
       "    .dataframe thead th {\n",
       "        text-align: right;\n",
       "    }\n",
       "</style>\n",
       "<table border=\"1\" class=\"dataframe\">\n",
       "  <thead>\n",
       "    <tr style=\"text-align: right;\">\n",
       "      <th></th>\n",
       "      <th>Key</th>\n",
       "      <th>A</th>\n",
       "      <th>B</th>\n",
       "      <th>C</th>\n",
       "      <th>D</th>\n",
       "    </tr>\n",
       "  </thead>\n",
       "  <tbody>\n",
       "    <tr>\n",
       "      <th>0</th>\n",
       "      <td>K0</td>\n",
       "      <td>A0</td>\n",
       "      <td>B0</td>\n",
       "      <td>C0</td>\n",
       "      <td>D0</td>\n",
       "    </tr>\n",
       "    <tr>\n",
       "      <th>1</th>\n",
       "      <td>K1</td>\n",
       "      <td>A1</td>\n",
       "      <td>B1</td>\n",
       "      <td>C1</td>\n",
       "      <td>D1</td>\n",
       "    </tr>\n",
       "    <tr>\n",
       "      <th>2</th>\n",
       "      <td>K2</td>\n",
       "      <td>A2</td>\n",
       "      <td>B2</td>\n",
       "      <td>C2</td>\n",
       "      <td>D2</td>\n",
       "    </tr>\n",
       "    <tr>\n",
       "      <th>3</th>\n",
       "      <td>K3</td>\n",
       "      <td>A3</td>\n",
       "      <td>B3</td>\n",
       "      <td>C3</td>\n",
       "      <td>D3</td>\n",
       "    </tr>\n",
       "  </tbody>\n",
       "</table>\n",
       "</div>"
      ],
      "text/plain": [
       "  Key   A   B   C   D\n",
       "0  K0  A0  B0  C0  D0\n",
       "1  K1  A1  B1  C1  D1\n",
       "2  K2  A2  B2  C2  D2\n",
       "3  K3  A3  B3  C3  D3"
      ]
     },
     "execution_count": 36,
     "metadata": {},
     "output_type": "execute_result"
    }
   ],
   "source": [
    "# Marging\n",
    "# Dataframe created\n",
    "left = pd.DataFrame({'Key': ['K0', 'K1', 'K2', 'K3'],\n",
    "                     'A': ['A0', 'A1', 'A2', 'A3'],\n",
    "                     'B': ['B0', 'B1', 'B2', 'B3']})\n",
    "\n",
    "right = pd.DataFrame({'Key': ['K0', 'K1', 'K2', 'K3'],\n",
    "                      'C': ['C0', 'C1', 'C2', 'C3'],\n",
    "                      'D': ['D0', 'D1', 'D2', 'D3']})\n",
    "\n",
    "# Merging the dataframes\n",
    "pd.merge(left, right, how='inner', on='Key')"
   ]
  },
  {
   "cell_type": "code",
   "execution_count": 37,
   "id": "89fa85c1",
   "metadata": {
    "_cell_guid": "bacead69-25ce-4ea2-b831-33b5ae3b2b63",
    "_uuid": "414141a1-2419-449f-83fc-05168ae0a377",
    "collapsed": false,
    "execution": {
     "iopub.execute_input": "2024-08-29T16:45:52.034898Z",
     "iopub.status.busy": "2024-08-29T16:45:52.033981Z",
     "iopub.status.idle": "2024-08-29T16:45:52.053186Z",
     "shell.execute_reply": "2024-08-29T16:45:52.052047Z"
    },
    "id": "tv2_alXpJflS",
    "jupyter": {
     "outputs_hidden": false
    },
    "outputId": "f3ac2717-7f71-43ae-e63e-c0a180dab75d",
    "papermill": {
     "duration": 0.05182,
     "end_time": "2024-08-29T16:45:52.055538",
     "exception": false,
     "start_time": "2024-08-29T16:45:52.003718",
     "status": "completed"
    },
    "tags": []
   },
   "outputs": [
    {
     "data": {
      "text/html": [
       "<div>\n",
       "<style scoped>\n",
       "    .dataframe tbody tr th:only-of-type {\n",
       "        vertical-align: middle;\n",
       "    }\n",
       "\n",
       "    .dataframe tbody tr th {\n",
       "        vertical-align: top;\n",
       "    }\n",
       "\n",
       "    .dataframe thead th {\n",
       "        text-align: right;\n",
       "    }\n",
       "</style>\n",
       "<table border=\"1\" class=\"dataframe\">\n",
       "  <thead>\n",
       "    <tr style=\"text-align: right;\">\n",
       "      <th></th>\n",
       "      <th>A</th>\n",
       "      <th>B</th>\n",
       "      <th>C</th>\n",
       "      <th>D</th>\n",
       "    </tr>\n",
       "  </thead>\n",
       "  <tbody>\n",
       "    <tr>\n",
       "      <th>K0</th>\n",
       "      <td>A0</td>\n",
       "      <td>B0</td>\n",
       "      <td>C0</td>\n",
       "      <td>D0</td>\n",
       "    </tr>\n",
       "    <tr>\n",
       "      <th>K1</th>\n",
       "      <td>A1</td>\n",
       "      <td>B1</td>\n",
       "      <td>C1</td>\n",
       "      <td>D1</td>\n",
       "    </tr>\n",
       "    <tr>\n",
       "      <th>K2</th>\n",
       "      <td>A2</td>\n",
       "      <td>B2</td>\n",
       "      <td>C2</td>\n",
       "      <td>D2</td>\n",
       "    </tr>\n",
       "    <tr>\n",
       "      <th>K3</th>\n",
       "      <td>A3</td>\n",
       "      <td>B3</td>\n",
       "      <td>C3</td>\n",
       "      <td>D3</td>\n",
       "    </tr>\n",
       "  </tbody>\n",
       "</table>\n",
       "</div>"
      ],
      "text/plain": [
       "     A   B   C   D\n",
       "K0  A0  B0  C0  D0\n",
       "K1  A1  B1  C1  D1\n",
       "K2  A2  B2  C2  D2\n",
       "K3  A3  B3  C3  D3"
      ]
     },
     "execution_count": 37,
     "metadata": {},
     "output_type": "execute_result"
    }
   ],
   "source": [
    "# Join\n",
    "left = pd.DataFrame({'A': ['A0', 'A1', 'A2', 'A3'],\n",
    "                     'B': ['B0', 'B1', 'B2', 'B3']},\n",
    "                    index=['K0', 'K1', 'K2', 'K3'])\n",
    "\n",
    "right = pd.DataFrame({'C': ['C0', 'C1', 'C2', 'C3'],\n",
    "                      'D': ['D0', 'D1', 'D2', 'D3']},\n",
    "                     index=['K0', 'K1', 'K2', 'K3'])\n",
    "\n",
    "# Joining the dataframes\n",
    "left.join(right)"
   ]
  },
  {
   "cell_type": "markdown",
   "id": "cf64e4df",
   "metadata": {
    "_cell_guid": "5db55b4f-41d1-4e71-bd15-aa9cd0c7d619",
    "_uuid": "1a961810-7d1a-416c-af6c-85375bb9301c",
    "id": "pbh_JxTZBfkE",
    "papermill": {
     "duration": 0.02853,
     "end_time": "2024-08-29T16:45:52.114859",
     "exception": false,
     "start_time": "2024-08-29T16:45:52.086329",
     "status": "completed"
    },
    "tags": []
   },
   "source": [
    "***Calculating Maximum Values***"
   ]
  },
  {
   "cell_type": "code",
   "execution_count": 38,
   "id": "c522ba0f",
   "metadata": {
    "_cell_guid": "4e7f8f94-e620-4e9a-9909-6b19178b31cb",
    "_uuid": "4a598d3f-26ca-4b97-9000-d94a35fc5b79",
    "collapsed": false,
    "execution": {
     "iopub.execute_input": "2024-08-29T16:45:52.175341Z",
     "iopub.status.busy": "2024-08-29T16:45:52.174961Z",
     "iopub.status.idle": "2024-08-29T16:45:52.188670Z",
     "shell.execute_reply": "2024-08-29T16:45:52.187605Z"
    },
    "id": "ZABeOFx_MatW",
    "jupyter": {
     "outputs_hidden": false
    },
    "outputId": "eba5fd81-4c78-41cb-fc7c-82c206af1ef6",
    "papermill": {
     "duration": 0.046635,
     "end_time": "2024-08-29T16:45:52.190844",
     "exception": false,
     "start_time": "2024-08-29T16:45:52.144209",
     "status": "completed"
    },
    "tags": []
   },
   "outputs": [
    {
     "data": {
      "text/html": [
       "<div>\n",
       "<style scoped>\n",
       "    .dataframe tbody tr th:only-of-type {\n",
       "        vertical-align: middle;\n",
       "    }\n",
       "\n",
       "    .dataframe tbody tr th {\n",
       "        vertical-align: top;\n",
       "    }\n",
       "\n",
       "    .dataframe thead th {\n",
       "        text-align: right;\n",
       "    }\n",
       "</style>\n",
       "<table border=\"1\" class=\"dataframe\">\n",
       "  <thead>\n",
       "    <tr style=\"text-align: right;\">\n",
       "      <th></th>\n",
       "      <th>x</th>\n",
       "      <th>y</th>\n",
       "      <th>z</th>\n",
       "    </tr>\n",
       "  </thead>\n",
       "  <tbody>\n",
       "    <tr>\n",
       "      <th>a</th>\n",
       "      <td>10.0</td>\n",
       "      <td>56.0</td>\n",
       "      <td>17</td>\n",
       "    </tr>\n",
       "    <tr>\n",
       "      <th>b</th>\n",
       "      <td>NaN</td>\n",
       "      <td>23.0</td>\n",
       "      <td>11</td>\n",
       "    </tr>\n",
       "    <tr>\n",
       "      <th>c</th>\n",
       "      <td>49.0</td>\n",
       "      <td>36.0</td>\n",
       "      <td>55</td>\n",
       "    </tr>\n",
       "    <tr>\n",
       "      <th>d</th>\n",
       "      <td>75.0</td>\n",
       "      <td>NaN</td>\n",
       "      <td>34</td>\n",
       "    </tr>\n",
       "    <tr>\n",
       "      <th>e</th>\n",
       "      <td>89.0</td>\n",
       "      <td>21.0</td>\n",
       "      <td>44</td>\n",
       "    </tr>\n",
       "  </tbody>\n",
       "</table>\n",
       "</div>"
      ],
      "text/plain": [
       "      x     y   z\n",
       "a  10.0  56.0  17\n",
       "b   NaN  23.0  11\n",
       "c  49.0  36.0  55\n",
       "d  75.0   NaN  34\n",
       "e  89.0  21.0  44"
      ]
     },
     "execution_count": 38,
     "metadata": {},
     "output_type": "execute_result"
    }
   ],
   "source": [
    "# List of Tuples\n",
    "matrix = [(10, 56, 17),\n",
    "          (np.NaN, 23, 11),\n",
    "          (49, 36, 55),\n",
    "          (75, np.NaN, 34),\n",
    "          (89, 21, 44)\n",
    "          ]\n",
    "# Create a DataFrame\n",
    "abc = pd.DataFrame(matrix, index=list('abcde'), columns=list('xyz'))\n",
    "\n",
    "# output\n",
    "abc"
   ]
  },
  {
   "cell_type": "code",
   "execution_count": 39,
   "id": "dadfc572",
   "metadata": {
    "_cell_guid": "92e4a365-117d-477e-bda6-97645a130e02",
    "_uuid": "c5331ee3-28e9-4dd3-8087-fb61b1735ae8",
    "collapsed": false,
    "execution": {
     "iopub.execute_input": "2024-08-29T16:45:52.251863Z",
     "iopub.status.busy": "2024-08-29T16:45:52.250803Z",
     "iopub.status.idle": "2024-08-29T16:45:52.261037Z",
     "shell.execute_reply": "2024-08-29T16:45:52.259970Z"
    },
    "id": "wH4VN_ytBl_A",
    "jupyter": {
     "outputs_hidden": false
    },
    "outputId": "a2648503-bb66-405e-e673-ac637b0d062a",
    "papermill": {
     "duration": 0.043101,
     "end_time": "2024-08-29T16:45:52.263332",
     "exception": false,
     "start_time": "2024-08-29T16:45:52.220231",
     "status": "completed"
    },
    "tags": []
   },
   "outputs": [
    {
     "data": {
      "text/plain": [
       "x    89.0\n",
       "y    56.0\n",
       "z    55.0\n",
       "dtype: float64"
      ]
     },
     "execution_count": 39,
     "metadata": {},
     "output_type": "execute_result"
    }
   ],
   "source": [
    "abc.max()"
   ]
  },
  {
   "cell_type": "markdown",
   "id": "4dba719e",
   "metadata": {
    "_cell_guid": "56d2e15e-af77-44eb-a6d3-0667022286d5",
    "_uuid": "4f20237a-3cc1-4c71-af17-3bd7591a2ae3",
    "id": "tdi6Q7VEC2-e",
    "papermill": {
     "duration": 0.029584,
     "end_time": "2024-08-29T16:45:52.322532",
     "exception": false,
     "start_time": "2024-08-29T16:45:52.292948",
     "status": "completed"
    },
    "tags": []
   },
   "source": [
    "***Calculating Minimum values***"
   ]
  },
  {
   "cell_type": "code",
   "execution_count": 40,
   "id": "c3aeb478",
   "metadata": {
    "_cell_guid": "a746a2cc-6b66-4d27-b99c-6671ba7d07a1",
    "_uuid": "eb25548b-31b4-4292-ad67-f7d6bd38fd3a",
    "collapsed": false,
    "execution": {
     "iopub.execute_input": "2024-08-29T16:45:52.383904Z",
     "iopub.status.busy": "2024-08-29T16:45:52.383005Z",
     "iopub.status.idle": "2024-08-29T16:45:52.392262Z",
     "shell.execute_reply": "2024-08-29T16:45:52.391215Z"
    },
    "id": "IQ0yhdsXC-ZK",
    "jupyter": {
     "outputs_hidden": false
    },
    "outputId": "3048817e-dd69-4aff-9d1b-b69931dc87b3",
    "papermill": {
     "duration": 0.042107,
     "end_time": "2024-08-29T16:45:52.394421",
     "exception": false,
     "start_time": "2024-08-29T16:45:52.352314",
     "status": "completed"
    },
    "tags": []
   },
   "outputs": [
    {
     "data": {
      "text/plain": [
       "x    10.0\n",
       "y    21.0\n",
       "z    11.0\n",
       "dtype: float64"
      ]
     },
     "execution_count": 40,
     "metadata": {},
     "output_type": "execute_result"
    }
   ],
   "source": [
    "abc.min()"
   ]
  },
  {
   "cell_type": "markdown",
   "id": "0fc974ca",
   "metadata": {
    "_cell_guid": "4d67ac11-cb53-4a60-bffc-34a871079c95",
    "_uuid": "12d3f84c-de99-47f7-b37e-5ad429fbb141",
    "id": "jNYfh6tdDxDh",
    "papermill": {
     "duration": 0.029423,
     "end_time": "2024-08-29T16:45:52.453374",
     "exception": false,
     "start_time": "2024-08-29T16:45:52.423951",
     "status": "completed"
    },
    "tags": []
   },
   "source": [
    "***Calculating Sum of Values***"
   ]
  },
  {
   "cell_type": "code",
   "execution_count": 41,
   "id": "ceb0ba41",
   "metadata": {
    "_cell_guid": "707b72bc-6ec9-4b4b-b969-cfb764bb6a09",
    "_uuid": "dabb01a8-62df-4bae-97e3-3d964002fe87",
    "collapsed": false,
    "execution": {
     "iopub.execute_input": "2024-08-29T16:45:52.514317Z",
     "iopub.status.busy": "2024-08-29T16:45:52.513858Z",
     "iopub.status.idle": "2024-08-29T16:45:52.521180Z",
     "shell.execute_reply": "2024-08-29T16:45:52.520077Z"
    },
    "id": "Crv2_cMwD6yN",
    "jupyter": {
     "outputs_hidden": false
    },
    "outputId": "4dccef81-3a6f-4584-9c6d-c5f07b490c65",
    "papermill": {
     "duration": 0.040212,
     "end_time": "2024-08-29T16:45:52.523419",
     "exception": false,
     "start_time": "2024-08-29T16:45:52.483207",
     "status": "completed"
    },
    "tags": []
   },
   "outputs": [
    {
     "name": "stdout",
     "output_type": "stream",
     "text": [
      "x    223.0\n",
      "y    136.0\n",
      "z    161.0\n",
      "dtype: float64\n"
     ]
    }
   ],
   "source": [
    "print(abc.sum())"
   ]
  },
  {
   "cell_type": "markdown",
   "id": "122e185c",
   "metadata": {
    "_cell_guid": "54177e2b-dc8d-40e0-b2e9-85531bf1b52f",
    "_uuid": "ba23c1e5-681c-4231-b9a9-b730e3b4466b",
    "id": "i-TomgEeGsVu",
    "papermill": {
     "duration": 0.029067,
     "end_time": "2024-08-29T16:45:52.582696",
     "exception": false,
     "start_time": "2024-08-29T16:45:52.553629",
     "status": "completed"
    },
    "tags": []
   },
   "source": [
    "***Calculating Number of Values***"
   ]
  },
  {
   "cell_type": "code",
   "execution_count": 42,
   "id": "c8f34eac",
   "metadata": {
    "_cell_guid": "281f42d1-a71d-4e9c-804e-376ba88a772d",
    "_uuid": "ab97cc40-a79e-4a09-a5ec-d6852eb05ea5",
    "collapsed": false,
    "execution": {
     "iopub.execute_input": "2024-08-29T16:45:52.644700Z",
     "iopub.status.busy": "2024-08-29T16:45:52.644261Z",
     "iopub.status.idle": "2024-08-29T16:45:52.653248Z",
     "shell.execute_reply": "2024-08-29T16:45:52.652278Z"
    },
    "id": "BvqYrbgeGngq",
    "jupyter": {
     "outputs_hidden": false
    },
    "outputId": "1a065b4d-0531-4c80-cf77-6c8de7e847f7",
    "papermill": {
     "duration": 0.042269,
     "end_time": "2024-08-29T16:45:52.655422",
     "exception": false,
     "start_time": "2024-08-29T16:45:52.613153",
     "status": "completed"
    },
    "tags": []
   },
   "outputs": [
    {
     "data": {
      "text/plain": [
       "x    4\n",
       "y    4\n",
       "z    5\n",
       "dtype: int64"
      ]
     },
     "execution_count": 42,
     "metadata": {},
     "output_type": "execute_result"
    }
   ],
   "source": [
    "abc.count()"
   ]
  },
  {
   "cell_type": "code",
   "execution_count": 43,
   "id": "8b38ed4c",
   "metadata": {
    "_cell_guid": "3c983b34-1ff2-4ea7-89e9-807eaae20488",
    "_uuid": "84d96751-c409-48d1-a156-c50a7a1cc627",
    "collapsed": false,
    "execution": {
     "iopub.execute_input": "2024-08-29T16:45:52.716612Z",
     "iopub.status.busy": "2024-08-29T16:45:52.715751Z",
     "iopub.status.idle": "2024-08-29T16:45:52.725087Z",
     "shell.execute_reply": "2024-08-29T16:45:52.723948Z"
    },
    "id": "4SXLTn9AHUmt",
    "jupyter": {
     "outputs_hidden": false
    },
    "outputId": "1f3fb674-784d-4b05-bbcc-7ed6d168caa8",
    "papermill": {
     "duration": 0.042189,
     "end_time": "2024-08-29T16:45:52.727269",
     "exception": false,
     "start_time": "2024-08-29T16:45:52.685080",
     "status": "completed"
    },
    "tags": []
   },
   "outputs": [
    {
     "data": {
      "text/plain": [
       "a    3\n",
       "b    2\n",
       "c    3\n",
       "d    2\n",
       "e    3\n",
       "dtype: int64"
      ]
     },
     "execution_count": 43,
     "metadata": {},
     "output_type": "execute_result"
    }
   ],
   "source": [
    "abc.count(axis=1) ##counting in row"
   ]
  },
  {
   "cell_type": "markdown",
   "id": "fa678c8c",
   "metadata": {
    "_cell_guid": "2780aa6c-bb44-43d3-bbfe-b41bf46a8bea",
    "_uuid": "43fbf918-ef82-48e9-9828-758073c4cf89",
    "id": "QRrlSZDuNVkF",
    "papermill": {
     "duration": 0.031961,
     "end_time": "2024-08-29T16:45:52.789364",
     "exception": false,
     "start_time": "2024-08-29T16:45:52.757403",
     "status": "completed"
    },
    "tags": []
   },
   "source": [
    "***Calculate the mean***"
   ]
  },
  {
   "cell_type": "code",
   "execution_count": 44,
   "id": "b75b8847",
   "metadata": {
    "_cell_guid": "fd4d88a1-7749-4f82-a98a-4e6b1efcfed0",
    "_uuid": "ea6371d2-1f46-40eb-ad62-14dd9ce02ead",
    "collapsed": false,
    "execution": {
     "iopub.execute_input": "2024-08-29T16:45:52.852544Z",
     "iopub.status.busy": "2024-08-29T16:45:52.851527Z",
     "iopub.status.idle": "2024-08-29T16:45:52.860929Z",
     "shell.execute_reply": "2024-08-29T16:45:52.859862Z"
    },
    "id": "eI-z96u8Hfmw",
    "jupyter": {
     "outputs_hidden": false
    },
    "outputId": "7253564a-cd0b-4dc4-c657-63f02fd68f74",
    "papermill": {
     "duration": 0.042818,
     "end_time": "2024-08-29T16:45:52.863218",
     "exception": false,
     "start_time": "2024-08-29T16:45:52.820400",
     "status": "completed"
    },
    "tags": []
   },
   "outputs": [
    {
     "data": {
      "text/plain": [
       "x    55.75\n",
       "y    34.00\n",
       "z    32.20\n",
       "dtype: float64"
      ]
     },
     "execution_count": 44,
     "metadata": {},
     "output_type": "execute_result"
    }
   ],
   "source": [
    "# Calculate the mean of numeric columns only\n",
    "abc.select_dtypes(include='number').mean()"
   ]
  },
  {
   "cell_type": "markdown",
   "id": "bfca04a5",
   "metadata": {
    "_cell_guid": "663045d4-274b-4138-9dee-db2181eac8d1",
    "_uuid": "cf0ab593-ace8-4316-9ce8-73300ac5702b",
    "id": "nZkoOQ2eNhOv",
    "papermill": {
     "duration": 0.030846,
     "end_time": "2024-08-29T16:45:52.924172",
     "exception": false,
     "start_time": "2024-08-29T16:45:52.893326",
     "status": "completed"
    },
    "tags": []
   },
   "source": [
    "***Calculating the mode***"
   ]
  },
  {
   "cell_type": "code",
   "execution_count": 45,
   "id": "314dce7c",
   "metadata": {
    "_cell_guid": "278ea805-8381-4ee4-b604-75a2d14f9123",
    "_uuid": "b8efccf3-044e-4006-a2af-3d662d5e960e",
    "collapsed": false,
    "execution": {
     "iopub.execute_input": "2024-08-29T16:45:52.985812Z",
     "iopub.status.busy": "2024-08-29T16:45:52.985412Z",
     "iopub.status.idle": "2024-08-29T16:45:52.999496Z",
     "shell.execute_reply": "2024-08-29T16:45:52.998374Z"
    },
    "id": "mrXOwazRIVVg",
    "jupyter": {
     "outputs_hidden": false
    },
    "outputId": "4434f76b-c51c-4890-efca-920642e4908c",
    "papermill": {
     "duration": 0.048006,
     "end_time": "2024-08-29T16:45:53.002042",
     "exception": false,
     "start_time": "2024-08-29T16:45:52.954036",
     "status": "completed"
    },
    "tags": []
   },
   "outputs": [
    {
     "name": "stdout",
     "output_type": "stream",
     "text": [
      "Mode of x: 0    10.0\n",
      "1    49.0\n",
      "2    75.0\n",
      "3    89.0\n",
      "Name: x, dtype: float64\n",
      "Mode of y: 0    21.0\n",
      "1    23.0\n",
      "2    36.0\n",
      "3    56.0\n",
      "Name: y, dtype: float64\n",
      "Mode of z: 0    11\n",
      "1    17\n",
      "2    34\n",
      "3    44\n",
      "4    55\n",
      "Name: z, dtype: int64\n"
     ]
    }
   ],
   "source": [
    "# Calculate the mode of each column in the DataFrame\n",
    "for column in abc.columns:\n",
    "    print(f\"Mode of {column}: {abc[column].mode()}\")"
   ]
  },
  {
   "cell_type": "markdown",
   "id": "e93e7932",
   "metadata": {
    "_cell_guid": "645f46a6-2003-4424-b049-2c61904ce904",
    "_uuid": "5cb9bf7a-d8d8-4485-b68d-4d7714dcde05",
    "id": "RvRXDJvfNpzI",
    "papermill": {
     "duration": 0.029562,
     "end_time": "2024-08-29T16:45:53.061829",
     "exception": false,
     "start_time": "2024-08-29T16:45:53.032267",
     "status": "completed"
    },
    "tags": []
   },
   "source": [
    "***Calculating the median***"
   ]
  },
  {
   "cell_type": "code",
   "execution_count": 46,
   "id": "3bca2fc3",
   "metadata": {
    "_cell_guid": "b533ba2b-073d-46ad-aea8-6e9c22105006",
    "_uuid": "b78ca5de-887b-4144-90ad-be601c1e5efa",
    "collapsed": false,
    "execution": {
     "iopub.execute_input": "2024-08-29T16:45:53.123910Z",
     "iopub.status.busy": "2024-08-29T16:45:53.123189Z",
     "iopub.status.idle": "2024-08-29T16:45:53.135600Z",
     "shell.execute_reply": "2024-08-29T16:45:53.134530Z"
    },
    "id": "J7HTvxkCIghr",
    "jupyter": {
     "outputs_hidden": false
    },
    "outputId": "08f0d42b-c066-434a-c79b-ee72d469b519",
    "papermill": {
     "duration": 0.046007,
     "end_time": "2024-08-29T16:45:53.137879",
     "exception": false,
     "start_time": "2024-08-29T16:45:53.091872",
     "status": "completed"
    },
    "tags": []
   },
   "outputs": [
    {
     "data": {
      "text/plain": [
       "x    62.0\n",
       "y    29.5\n",
       "z    34.0\n",
       "dtype: float64"
      ]
     },
     "execution_count": 46,
     "metadata": {},
     "output_type": "execute_result"
    }
   ],
   "source": [
    "# Calculate the median of numeric columns only\n",
    "abc.select_dtypes(include='number').median()"
   ]
  },
  {
   "cell_type": "markdown",
   "id": "b1fe5877",
   "metadata": {
    "_cell_guid": "bb0af1f6-1643-4f69-b56c-65c559bac50a",
    "_uuid": "74bd81f0-98da-4662-9d1f-4c205d178ebd",
    "id": "OKvKwx1SN6x4",
    "papermill": {
     "duration": 0.02986,
     "end_time": "2024-08-29T16:45:53.198093",
     "exception": false,
     "start_time": "2024-08-29T16:45:53.168233",
     "status": "completed"
    },
    "tags": []
   },
   "source": [
    "***Calculating Quartile***"
   ]
  },
  {
   "cell_type": "code",
   "execution_count": 47,
   "id": "3e15a9c9",
   "metadata": {
    "_cell_guid": "647023bf-07df-4860-82d4-8a7f5a8a4e73",
    "_uuid": "17254e75-3049-42a1-98ff-d4eb210493d6",
    "collapsed": false,
    "execution": {
     "iopub.execute_input": "2024-08-29T16:45:53.260681Z",
     "iopub.status.busy": "2024-08-29T16:45:53.260237Z",
     "iopub.status.idle": "2024-08-29T16:45:53.270857Z",
     "shell.execute_reply": "2024-08-29T16:45:53.269770Z"
    },
    "id": "BVMM0MSYN8hv",
    "jupyter": {
     "outputs_hidden": false
    },
    "outputId": "43aabf2a-e930-4d56-d6c0-a1c51002e9ea",
    "papermill": {
     "duration": 0.045151,
     "end_time": "2024-08-29T16:45:53.273216",
     "exception": false,
     "start_time": "2024-08-29T16:45:53.228065",
     "status": "completed"
    },
    "tags": []
   },
   "outputs": [
    {
     "data": {
      "text/plain": [
       "x    62.0\n",
       "y    29.5\n",
       "z    34.0\n",
       "Name: 0.5, dtype: float64"
      ]
     },
     "execution_count": 47,
     "metadata": {},
     "output_type": "execute_result"
    }
   ],
   "source": [
    "abc.quantile()"
   ]
  },
  {
   "cell_type": "code",
   "execution_count": 48,
   "id": "33ad3474",
   "metadata": {
    "_cell_guid": "82b7de5f-b244-48c3-bc26-0ab92ef29ad0",
    "_uuid": "908080a7-6de1-4aa6-bfbb-df430ee47b08",
    "collapsed": false,
    "execution": {
     "iopub.execute_input": "2024-08-29T16:45:53.336476Z",
     "iopub.status.busy": "2024-08-29T16:45:53.336089Z",
     "iopub.status.idle": "2024-08-29T16:45:53.345972Z",
     "shell.execute_reply": "2024-08-29T16:45:53.344871Z"
    },
    "id": "aN5_9Kt0OA-T",
    "jupyter": {
     "outputs_hidden": false
    },
    "outputId": "6bfb2858-d12c-47be-be85-06eba0659058",
    "papermill": {
     "duration": 0.044299,
     "end_time": "2024-08-29T16:45:53.348312",
     "exception": false,
     "start_time": "2024-08-29T16:45:53.304013",
     "status": "completed"
    },
    "tags": []
   },
   "outputs": [
    {
     "data": {
      "text/plain": [
       "x    39.25\n",
       "y    22.50\n",
       "z    17.00\n",
       "Name: 0.25, dtype: float64"
      ]
     },
     "execution_count": 48,
     "metadata": {},
     "output_type": "execute_result"
    }
   ],
   "source": [
    "abc.quantile(0.25)"
   ]
  },
  {
   "cell_type": "code",
   "execution_count": 49,
   "id": "847a1489",
   "metadata": {
    "_cell_guid": "bbc5eae8-35e6-4c39-beeb-65025497fe2d",
    "_uuid": "47be9d53-7c1f-4992-9488-da5d242c9994",
    "collapsed": false,
    "execution": {
     "iopub.execute_input": "2024-08-29T16:45:53.412205Z",
     "iopub.status.busy": "2024-08-29T16:45:53.411823Z",
     "iopub.status.idle": "2024-08-29T16:45:53.422534Z",
     "shell.execute_reply": "2024-08-29T16:45:53.421162Z"
    },
    "id": "VDyw97ZROBGe",
    "jupyter": {
     "outputs_hidden": false
    },
    "outputId": "7604a8aa-2f0c-4fcd-c9df-c18b3e894b22",
    "papermill": {
     "duration": 0.045194,
     "end_time": "2024-08-29T16:45:53.425132",
     "exception": false,
     "start_time": "2024-08-29T16:45:53.379938",
     "status": "completed"
    },
    "tags": []
   },
   "outputs": [
    {
     "data": {
      "text/plain": [
       "x    62.0\n",
       "y    29.5\n",
       "z    34.0\n",
       "Name: 0.5, dtype: float64"
      ]
     },
     "execution_count": 49,
     "metadata": {},
     "output_type": "execute_result"
    }
   ],
   "source": [
    "abc.quantile(0.5)"
   ]
  },
  {
   "cell_type": "code",
   "execution_count": 50,
   "id": "8ee2928b",
   "metadata": {
    "_cell_guid": "a5aba502-f9d0-4650-959d-2b111a51071a",
    "_uuid": "f8057aac-af79-4fe3-ab23-202638c170e8",
    "collapsed": false,
    "execution": {
     "iopub.execute_input": "2024-08-29T16:45:53.489888Z",
     "iopub.status.busy": "2024-08-29T16:45:53.489085Z",
     "iopub.status.idle": "2024-08-29T16:45:53.498285Z",
     "shell.execute_reply": "2024-08-29T16:45:53.497288Z"
    },
    "id": "5i2H6ERvOHMp",
    "jupyter": {
     "outputs_hidden": false
    },
    "outputId": "d8a1f678-7ac1-4330-916e-2c50a92b5794",
    "papermill": {
     "duration": 0.04373,
     "end_time": "2024-08-29T16:45:53.500624",
     "exception": false,
     "start_time": "2024-08-29T16:45:53.456894",
     "status": "completed"
    },
    "tags": []
   },
   "outputs": [
    {
     "data": {
      "text/plain": [
       "x    78.5\n",
       "y    41.0\n",
       "z    44.0\n",
       "Name: 0.75, dtype: float64"
      ]
     },
     "execution_count": 50,
     "metadata": {},
     "output_type": "execute_result"
    }
   ],
   "source": [
    "abc.quantile(0.75)"
   ]
  },
  {
   "cell_type": "markdown",
   "id": "8f7c76b5",
   "metadata": {
    "_cell_guid": "07015a70-dbdd-4653-9270-2e1e21f0ea2a",
    "_uuid": "c1869064-ab86-493b-9b52-222f7893cdde",
    "id": "F4L_orkSTboX",
    "papermill": {
     "duration": 0.031047,
     "end_time": "2024-08-29T16:45:53.562584",
     "exception": false,
     "start_time": "2024-08-29T16:45:53.531537",
     "status": "completed"
    },
    "tags": []
   },
   "source": [
    "***Calculating Variance***"
   ]
  },
  {
   "cell_type": "code",
   "execution_count": 51,
   "id": "be7b8368",
   "metadata": {
    "_cell_guid": "246baa11-7073-4082-b208-e9f39174767c",
    "_uuid": "1f61bbdf-1e7d-4745-9d20-9aca3a716e19",
    "collapsed": false,
    "execution": {
     "iopub.execute_input": "2024-08-29T16:45:53.625753Z",
     "iopub.status.busy": "2024-08-29T16:45:53.624857Z",
     "iopub.status.idle": "2024-08-29T16:45:53.633635Z",
     "shell.execute_reply": "2024-08-29T16:45:53.632510Z"
    },
    "id": "pAEXUU-iInKH",
    "jupyter": {
     "outputs_hidden": false
    },
    "outputId": "1b5f8568-4cdd-4637-bf16-56da6b2d206f",
    "papermill": {
     "duration": 0.042196,
     "end_time": "2024-08-29T16:45:53.635652",
     "exception": false,
     "start_time": "2024-08-29T16:45:53.593456",
     "status": "completed"
    },
    "tags": []
   },
   "outputs": [
    {
     "data": {
      "text/plain": [
       "x    1204.916667\n",
       "y     259.333333\n",
       "z     335.700000\n",
       "dtype: float64"
      ]
     },
     "execution_count": 51,
     "metadata": {},
     "output_type": "execute_result"
    }
   ],
   "source": [
    "abc.var()"
   ]
  },
  {
   "cell_type": "markdown",
   "id": "cd663bdf",
   "metadata": {
    "_cell_guid": "687d2214-bd3a-46a8-9c81-e1116087755a",
    "_uuid": "ba7c3405-dc7f-433a-8aae-614c53b3caf1",
    "id": "5KKbrCEHTq75",
    "papermill": {
     "duration": 0.030283,
     "end_time": "2024-08-29T16:45:53.696535",
     "exception": false,
     "start_time": "2024-08-29T16:45:53.666252",
     "status": "completed"
    },
    "tags": []
   },
   "source": [
    "***Calculating Standard Deviation***"
   ]
  },
  {
   "cell_type": "code",
   "execution_count": 52,
   "id": "5449e842",
   "metadata": {
    "_cell_guid": "76748d12-e0e7-4131-8be7-0b975f5b8c97",
    "_uuid": "a0b79710-e974-4733-abf8-40a8069cf974",
    "collapsed": false,
    "execution": {
     "iopub.execute_input": "2024-08-29T16:45:53.759668Z",
     "iopub.status.busy": "2024-08-29T16:45:53.758927Z",
     "iopub.status.idle": "2024-08-29T16:45:53.767812Z",
     "shell.execute_reply": "2024-08-29T16:45:53.766782Z"
    },
    "id": "uKtreLb6TyVd",
    "jupyter": {
     "outputs_hidden": false
    },
    "outputId": "fd3f3eec-abe5-4547-c235-3fcca40e5832",
    "papermill": {
     "duration": 0.043031,
     "end_time": "2024-08-29T16:45:53.770070",
     "exception": false,
     "start_time": "2024-08-29T16:45:53.727039",
     "status": "completed"
    },
    "tags": []
   },
   "outputs": [
    {
     "data": {
      "text/plain": [
       "x    34.711910\n",
       "y    16.103830\n",
       "z    18.322118\n",
       "dtype: float64"
      ]
     },
     "execution_count": 52,
     "metadata": {},
     "output_type": "execute_result"
    }
   ],
   "source": [
    "abc.std()"
   ]
  },
  {
   "cell_type": "code",
   "execution_count": 53,
   "id": "32668658",
   "metadata": {
    "_cell_guid": "a219067f-4d20-406e-86e2-f879cc08ae9f",
    "_uuid": "66224552-86b6-4b28-bcf9-efb947e678f0",
    "collapsed": false,
    "execution": {
     "iopub.execute_input": "2024-08-29T16:45:53.834164Z",
     "iopub.status.busy": "2024-08-29T16:45:53.833762Z",
     "iopub.status.idle": "2024-08-29T16:45:53.853869Z",
     "shell.execute_reply": "2024-08-29T16:45:53.852763Z"
    },
    "id": "iFCNoA1zT-6I",
    "jupyter": {
     "outputs_hidden": false
    },
    "outputId": "dea0817e-d713-41b0-9e97-b66880d3f5ca",
    "papermill": {
     "duration": 0.054659,
     "end_time": "2024-08-29T16:45:53.856063",
     "exception": false,
     "start_time": "2024-08-29T16:45:53.801404",
     "status": "completed"
    },
    "tags": []
   },
   "outputs": [
    {
     "data": {
      "text/html": [
       "<div>\n",
       "<style scoped>\n",
       "    .dataframe tbody tr th:only-of-type {\n",
       "        vertical-align: middle;\n",
       "    }\n",
       "\n",
       "    .dataframe tbody tr th {\n",
       "        vertical-align: top;\n",
       "    }\n",
       "\n",
       "    .dataframe thead th {\n",
       "        text-align: right;\n",
       "    }\n",
       "</style>\n",
       "<table border=\"1\" class=\"dataframe\">\n",
       "  <thead>\n",
       "    <tr style=\"text-align: right;\">\n",
       "      <th></th>\n",
       "      <th>x</th>\n",
       "      <th>y</th>\n",
       "      <th>z</th>\n",
       "    </tr>\n",
       "  </thead>\n",
       "  <tbody>\n",
       "    <tr>\n",
       "      <th>count</th>\n",
       "      <td>4.00000</td>\n",
       "      <td>4.00000</td>\n",
       "      <td>5.000000</td>\n",
       "    </tr>\n",
       "    <tr>\n",
       "      <th>mean</th>\n",
       "      <td>55.75000</td>\n",
       "      <td>34.00000</td>\n",
       "      <td>32.200000</td>\n",
       "    </tr>\n",
       "    <tr>\n",
       "      <th>std</th>\n",
       "      <td>34.71191</td>\n",
       "      <td>16.10383</td>\n",
       "      <td>18.322118</td>\n",
       "    </tr>\n",
       "    <tr>\n",
       "      <th>min</th>\n",
       "      <td>10.00000</td>\n",
       "      <td>21.00000</td>\n",
       "      <td>11.000000</td>\n",
       "    </tr>\n",
       "    <tr>\n",
       "      <th>25%</th>\n",
       "      <td>39.25000</td>\n",
       "      <td>22.50000</td>\n",
       "      <td>17.000000</td>\n",
       "    </tr>\n",
       "    <tr>\n",
       "      <th>50%</th>\n",
       "      <td>62.00000</td>\n",
       "      <td>29.50000</td>\n",
       "      <td>34.000000</td>\n",
       "    </tr>\n",
       "    <tr>\n",
       "      <th>75%</th>\n",
       "      <td>78.50000</td>\n",
       "      <td>41.00000</td>\n",
       "      <td>44.000000</td>\n",
       "    </tr>\n",
       "    <tr>\n",
       "      <th>max</th>\n",
       "      <td>89.00000</td>\n",
       "      <td>56.00000</td>\n",
       "      <td>55.000000</td>\n",
       "    </tr>\n",
       "  </tbody>\n",
       "</table>\n",
       "</div>"
      ],
      "text/plain": [
       "              x         y          z\n",
       "count   4.00000   4.00000   5.000000\n",
       "mean   55.75000  34.00000  32.200000\n",
       "std    34.71191  16.10383  18.322118\n",
       "min    10.00000  21.00000  11.000000\n",
       "25%    39.25000  22.50000  17.000000\n",
       "50%    62.00000  29.50000  34.000000\n",
       "75%    78.50000  41.00000  44.000000\n",
       "max    89.00000  56.00000  55.000000"
      ]
     },
     "execution_count": 53,
     "metadata": {},
     "output_type": "execute_result"
    }
   ],
   "source": [
    "abc.describe()"
   ]
  },
  {
   "cell_type": "markdown",
   "id": "017477c2",
   "metadata": {
    "_cell_guid": "25662a9f-9e9a-407d-b4e3-181a2a750242",
    "_uuid": "759e1238-ebce-4259-9d6d-050f88806b31",
    "id": "wS51kjggOmYj",
    "papermill": {
     "duration": 0.033269,
     "end_time": "2024-08-29T16:45:53.920826",
     "exception": false,
     "start_time": "2024-08-29T16:45:53.887557",
     "status": "completed"
    },
    "tags": []
   },
   "source": [
    "***Data Aggregation***"
   ]
  },
  {
   "cell_type": "code",
   "execution_count": 54,
   "id": "472672c2",
   "metadata": {
    "_cell_guid": "76a882b4-1b26-4d9e-bf2d-b9ab34cd3fdc",
    "_uuid": "3c65fa40-4677-46da-a3ca-4a08c3c6b41e",
    "collapsed": false,
    "execution": {
     "iopub.execute_input": "2024-08-29T16:45:53.988284Z",
     "iopub.status.busy": "2024-08-29T16:45:53.987848Z",
     "iopub.status.idle": "2024-08-29T16:45:54.003614Z",
     "shell.execute_reply": "2024-08-29T16:45:54.002174Z"
    },
    "id": "T_iW1yaaUaCr",
    "jupyter": {
     "outputs_hidden": false
    },
    "outputId": "de2133c7-d9ca-4334-a64f-798c80356ee5",
    "papermill": {
     "duration": 0.052035,
     "end_time": "2024-08-29T16:45:54.006342",
     "exception": false,
     "start_time": "2024-08-29T16:45:53.954307",
     "status": "completed"
    },
    "tags": []
   },
   "outputs": [
    {
     "data": {
      "text/html": [
       "<div>\n",
       "<style scoped>\n",
       "    .dataframe tbody tr th:only-of-type {\n",
       "        vertical-align: middle;\n",
       "    }\n",
       "\n",
       "    .dataframe tbody tr th {\n",
       "        vertical-align: top;\n",
       "    }\n",
       "\n",
       "    .dataframe thead th {\n",
       "        text-align: right;\n",
       "    }\n",
       "</style>\n",
       "<table border=\"1\" class=\"dataframe\">\n",
       "  <thead>\n",
       "    <tr style=\"text-align: right;\">\n",
       "      <th></th>\n",
       "      <th>x</th>\n",
       "      <th>y</th>\n",
       "      <th>z</th>\n",
       "    </tr>\n",
       "  </thead>\n",
       "  <tbody>\n",
       "    <tr>\n",
       "      <th>min</th>\n",
       "      <td>10.0</td>\n",
       "      <td>21.0</td>\n",
       "      <td>11</td>\n",
       "    </tr>\n",
       "    <tr>\n",
       "      <th>max</th>\n",
       "      <td>89.0</td>\n",
       "      <td>56.0</td>\n",
       "      <td>55</td>\n",
       "    </tr>\n",
       "    <tr>\n",
       "      <th>sum</th>\n",
       "      <td>223.0</td>\n",
       "      <td>136.0</td>\n",
       "      <td>161</td>\n",
       "    </tr>\n",
       "  </tbody>\n",
       "</table>\n",
       "</div>"
      ],
      "text/plain": [
       "         x      y    z\n",
       "min   10.0   21.0   11\n",
       "max   89.0   56.0   55\n",
       "sum  223.0  136.0  161"
      ]
     },
     "execution_count": 54,
     "metadata": {},
     "output_type": "execute_result"
    }
   ],
   "source": [
    "abc.aggregate(['min','max','sum'])"
   ]
  },
  {
   "cell_type": "code",
   "execution_count": 55,
   "id": "66317cf6",
   "metadata": {
    "_cell_guid": "848295b2-97a4-42f6-9a37-f8651e49c48c",
    "_uuid": "481bb7e1-432b-495c-95ca-aff03049075d",
    "collapsed": false,
    "execution": {
     "iopub.execute_input": "2024-08-29T16:45:54.071381Z",
     "iopub.status.busy": "2024-08-29T16:45:54.070982Z",
     "iopub.status.idle": "2024-08-29T16:45:54.091959Z",
     "shell.execute_reply": "2024-08-29T16:45:54.090782Z"
    },
    "id": "V5_h1hDQVJw1",
    "jupyter": {
     "outputs_hidden": false
    },
    "outputId": "6cbbb43c-b045-4301-aede-3917e5aabfbe",
    "papermill": {
     "duration": 0.055808,
     "end_time": "2024-08-29T16:45:54.094234",
     "exception": false,
     "start_time": "2024-08-29T16:45:54.038426",
     "status": "completed"
    },
    "tags": []
   },
   "outputs": [
    {
     "data": {
      "text/html": [
       "<div>\n",
       "<style scoped>\n",
       "    .dataframe tbody tr th:only-of-type {\n",
       "        vertical-align: middle;\n",
       "    }\n",
       "\n",
       "    .dataframe tbody tr th {\n",
       "        vertical-align: top;\n",
       "    }\n",
       "\n",
       "    .dataframe thead th {\n",
       "        text-align: right;\n",
       "    }\n",
       "</style>\n",
       "<table border=\"1\" class=\"dataframe\">\n",
       "  <thead>\n",
       "    <tr style=\"text-align: right;\">\n",
       "      <th></th>\n",
       "      <th>min</th>\n",
       "      <th>max</th>\n",
       "      <th>sum</th>\n",
       "    </tr>\n",
       "  </thead>\n",
       "  <tbody>\n",
       "    <tr>\n",
       "      <th>a</th>\n",
       "      <td>10.0</td>\n",
       "      <td>56.0</td>\n",
       "      <td>83.0</td>\n",
       "    </tr>\n",
       "    <tr>\n",
       "      <th>b</th>\n",
       "      <td>11.0</td>\n",
       "      <td>23.0</td>\n",
       "      <td>34.0</td>\n",
       "    </tr>\n",
       "    <tr>\n",
       "      <th>c</th>\n",
       "      <td>36.0</td>\n",
       "      <td>55.0</td>\n",
       "      <td>140.0</td>\n",
       "    </tr>\n",
       "    <tr>\n",
       "      <th>d</th>\n",
       "      <td>34.0</td>\n",
       "      <td>75.0</td>\n",
       "      <td>109.0</td>\n",
       "    </tr>\n",
       "    <tr>\n",
       "      <th>e</th>\n",
       "      <td>21.0</td>\n",
       "      <td>89.0</td>\n",
       "      <td>154.0</td>\n",
       "    </tr>\n",
       "  </tbody>\n",
       "</table>\n",
       "</div>"
      ],
      "text/plain": [
       "    min   max    sum\n",
       "a  10.0  56.0   83.0\n",
       "b  11.0  23.0   34.0\n",
       "c  36.0  55.0  140.0\n",
       "d  34.0  75.0  109.0\n",
       "e  21.0  89.0  154.0"
      ]
     },
     "execution_count": 55,
     "metadata": {},
     "output_type": "execute_result"
    }
   ],
   "source": [
    "abc.aggregate(['min','max','sum'],axis=1)"
   ]
  },
  {
   "cell_type": "markdown",
   "id": "67ce5800",
   "metadata": {
    "_cell_guid": "78f736a8-f8b5-4717-8aaa-10d8115eeeb4",
    "_uuid": "68190397-163f-4a4d-b963-ee996e4a42dc",
    "id": "uX1b6aVMVcIB",
    "papermill": {
     "duration": 0.031814,
     "end_time": "2024-08-29T16:45:54.157943",
     "exception": false,
     "start_time": "2024-08-29T16:45:54.126129",
     "status": "completed"
    },
    "tags": []
   },
   "source": [
    "***Sorting a Dataframe***"
   ]
  },
  {
   "cell_type": "code",
   "execution_count": 56,
   "id": "8f954445",
   "metadata": {
    "_cell_guid": "492474e9-b992-4f02-ad33-6bc0843dda3a",
    "_uuid": "92ddbe6c-f2c9-4741-ad93-0260bd1f08c4",
    "collapsed": false,
    "execution": {
     "iopub.execute_input": "2024-08-29T16:45:54.222307Z",
     "iopub.status.busy": "2024-08-29T16:45:54.221902Z",
     "iopub.status.idle": "2024-08-29T16:45:54.236410Z",
     "shell.execute_reply": "2024-08-29T16:45:54.235264Z"
    },
    "id": "0Ji5yuBnPC64",
    "jupyter": {
     "outputs_hidden": false
    },
    "outputId": "85a9d353-9f75-416e-ac18-e560af720160",
    "papermill": {
     "duration": 0.048999,
     "end_time": "2024-08-29T16:45:54.238619",
     "exception": false,
     "start_time": "2024-08-29T16:45:54.189620",
     "status": "completed"
    },
    "tags": []
   },
   "outputs": [
    {
     "data": {
      "text/html": [
       "<div>\n",
       "<style scoped>\n",
       "    .dataframe tbody tr th:only-of-type {\n",
       "        vertical-align: middle;\n",
       "    }\n",
       "\n",
       "    .dataframe tbody tr th {\n",
       "        vertical-align: top;\n",
       "    }\n",
       "\n",
       "    .dataframe thead th {\n",
       "        text-align: right;\n",
       "    }\n",
       "</style>\n",
       "<table border=\"1\" class=\"dataframe\">\n",
       "  <thead>\n",
       "    <tr style=\"text-align: right;\">\n",
       "      <th></th>\n",
       "      <th>Country</th>\n",
       "      <th>Year</th>\n",
       "      <th>Population</th>\n",
       "      <th>Continent</th>\n",
       "    </tr>\n",
       "  </thead>\n",
       "  <tbody>\n",
       "    <tr>\n",
       "      <th>0</th>\n",
       "      <td>Afghanistan</td>\n",
       "      <td>1952</td>\n",
       "      <td>8425333.0</td>\n",
       "      <td>Asia</td>\n",
       "    </tr>\n",
       "    <tr>\n",
       "      <th>1</th>\n",
       "      <td>Australia</td>\n",
       "      <td>1957</td>\n",
       "      <td>9712569.0</td>\n",
       "      <td>Oceania</td>\n",
       "    </tr>\n",
       "    <tr>\n",
       "      <th>2</th>\n",
       "      <td>Brazil</td>\n",
       "      <td>1962</td>\n",
       "      <td>76039390.0</td>\n",
       "      <td>Americas</td>\n",
       "    </tr>\n",
       "    <tr>\n",
       "      <th>3</th>\n",
       "      <td>China</td>\n",
       "      <td>1957</td>\n",
       "      <td>637408000.0</td>\n",
       "      <td>Asia</td>\n",
       "    </tr>\n",
       "    <tr>\n",
       "      <th>4</th>\n",
       "      <td>France</td>\n",
       "      <td>1957</td>\n",
       "      <td>44310863.0</td>\n",
       "      <td>Europe</td>\n",
       "    </tr>\n",
       "    <tr>\n",
       "      <th>5</th>\n",
       "      <td>India</td>\n",
       "      <td>1952</td>\n",
       "      <td>372000000.0</td>\n",
       "      <td>Asia</td>\n",
       "    </tr>\n",
       "    <tr>\n",
       "      <th>6</th>\n",
       "      <td>United States</td>\n",
       "      <td>1957</td>\n",
       "      <td>171984000.0</td>\n",
       "      <td>Americas</td>\n",
       "    </tr>\n",
       "  </tbody>\n",
       "</table>\n",
       "</div>"
      ],
      "text/plain": [
       "         Country  Year   Population Continent\n",
       "0    Afghanistan  1952    8425333.0      Asia\n",
       "1      Australia  1957    9712569.0   Oceania\n",
       "2         Brazil  1962   76039390.0  Americas\n",
       "3          China  1957  637408000.0      Asia\n",
       "4         France  1957   44310863.0    Europe\n",
       "5          India  1952  372000000.0      Asia\n",
       "6  United States  1957  171984000.0  Americas"
      ]
     },
     "execution_count": 56,
     "metadata": {},
     "output_type": "execute_result"
    }
   ],
   "source": [
    "# creating and initializing a nested list\n",
    "age_list = [['Afghanistan', 1952, 8425333, 'Asia'],\n",
    "            ['Australia', 1957, 9712569, 'Oceania'],\n",
    "            ['Brazil', 1962, 76039390, 'Americas'],\n",
    "            ['China', 1957, 637408000, 'Asia'],\n",
    "            ['France', 1957, 44310863, 'Europe'],\n",
    "            ['India', 1952, 3.72e+08, 'Asia'],\n",
    "            ['United States', 1957, 171984000, 'Americas']]\n",
    "\n",
    "# creating a pandas dataframe\n",
    "df = pd.DataFrame(age_list, columns=['Country', 'Year',\n",
    "                                     'Population', 'Continent'])\n",
    "\n",
    "df"
   ]
  },
  {
   "cell_type": "code",
   "execution_count": 57,
   "id": "a1196c80",
   "metadata": {
    "_cell_guid": "fd65a443-404e-46fc-b525-c51784017248",
    "_uuid": "5c265592-faa3-4498-8210-34407729f9e9",
    "collapsed": false,
    "execution": {
     "iopub.execute_input": "2024-08-29T16:45:54.303981Z",
     "iopub.status.busy": "2024-08-29T16:45:54.303577Z",
     "iopub.status.idle": "2024-08-29T16:45:54.317738Z",
     "shell.execute_reply": "2024-08-29T16:45:54.316582Z"
    },
    "id": "SiUNhzDDPNRd",
    "jupyter": {
     "outputs_hidden": false
    },
    "outputId": "4593720b-b580-48bb-855d-97e280137dec",
    "papermill": {
     "duration": 0.049735,
     "end_time": "2024-08-29T16:45:54.320029",
     "exception": false,
     "start_time": "2024-08-29T16:45:54.270294",
     "status": "completed"
    },
    "tags": []
   },
   "outputs": [
    {
     "data": {
      "text/html": [
       "<div>\n",
       "<style scoped>\n",
       "    .dataframe tbody tr th:only-of-type {\n",
       "        vertical-align: middle;\n",
       "    }\n",
       "\n",
       "    .dataframe tbody tr th {\n",
       "        vertical-align: top;\n",
       "    }\n",
       "\n",
       "    .dataframe thead th {\n",
       "        text-align: right;\n",
       "    }\n",
       "</style>\n",
       "<table border=\"1\" class=\"dataframe\">\n",
       "  <thead>\n",
       "    <tr style=\"text-align: right;\">\n",
       "      <th></th>\n",
       "      <th>Country</th>\n",
       "      <th>Year</th>\n",
       "      <th>Population</th>\n",
       "      <th>Continent</th>\n",
       "    </tr>\n",
       "  </thead>\n",
       "  <tbody>\n",
       "    <tr>\n",
       "      <th>0</th>\n",
       "      <td>Afghanistan</td>\n",
       "      <td>1952</td>\n",
       "      <td>8425333.0</td>\n",
       "      <td>Asia</td>\n",
       "    </tr>\n",
       "    <tr>\n",
       "      <th>1</th>\n",
       "      <td>Australia</td>\n",
       "      <td>1957</td>\n",
       "      <td>9712569.0</td>\n",
       "      <td>Oceania</td>\n",
       "    </tr>\n",
       "    <tr>\n",
       "      <th>2</th>\n",
       "      <td>Brazil</td>\n",
       "      <td>1962</td>\n",
       "      <td>76039390.0</td>\n",
       "      <td>Americas</td>\n",
       "    </tr>\n",
       "    <tr>\n",
       "      <th>3</th>\n",
       "      <td>China</td>\n",
       "      <td>1957</td>\n",
       "      <td>637408000.0</td>\n",
       "      <td>Asia</td>\n",
       "    </tr>\n",
       "    <tr>\n",
       "      <th>4</th>\n",
       "      <td>France</td>\n",
       "      <td>1957</td>\n",
       "      <td>44310863.0</td>\n",
       "      <td>Europe</td>\n",
       "    </tr>\n",
       "    <tr>\n",
       "      <th>5</th>\n",
       "      <td>India</td>\n",
       "      <td>1952</td>\n",
       "      <td>372000000.0</td>\n",
       "      <td>Asia</td>\n",
       "    </tr>\n",
       "    <tr>\n",
       "      <th>6</th>\n",
       "      <td>United States</td>\n",
       "      <td>1957</td>\n",
       "      <td>171984000.0</td>\n",
       "      <td>Americas</td>\n",
       "    </tr>\n",
       "  </tbody>\n",
       "</table>\n",
       "</div>"
      ],
      "text/plain": [
       "         Country  Year   Population Continent\n",
       "0    Afghanistan  1952    8425333.0      Asia\n",
       "1      Australia  1957    9712569.0   Oceania\n",
       "2         Brazil  1962   76039390.0  Americas\n",
       "3          China  1957  637408000.0      Asia\n",
       "4         France  1957   44310863.0    Europe\n",
       "5          India  1952  372000000.0      Asia\n",
       "6  United States  1957  171984000.0  Americas"
      ]
     },
     "execution_count": 57,
     "metadata": {},
     "output_type": "execute_result"
    }
   ],
   "source": [
    "# Sorting by column 'Country'\n",
    "df.sort_values(by=['Country'])"
   ]
  },
  {
   "cell_type": "code",
   "execution_count": 58,
   "id": "19aebe44",
   "metadata": {
    "_cell_guid": "f1d54b84-d0e1-42c0-aa6b-c15131d675ab",
    "_uuid": "1a660cd6-052a-4055-b978-53c6714d44b1",
    "collapsed": false,
    "execution": {
     "iopub.execute_input": "2024-08-29T16:45:54.385903Z",
     "iopub.status.busy": "2024-08-29T16:45:54.385466Z",
     "iopub.status.idle": "2024-08-29T16:45:54.398363Z",
     "shell.execute_reply": "2024-08-29T16:45:54.397265Z"
    },
    "id": "3WuIUrICPRQk",
    "jupyter": {
     "outputs_hidden": false
    },
    "outputId": "95401453-ea48-4a67-f738-9cea8e9b5203",
    "papermill": {
     "duration": 0.0484,
     "end_time": "2024-08-29T16:45:54.400676",
     "exception": false,
     "start_time": "2024-08-29T16:45:54.352276",
     "status": "completed"
    },
    "tags": []
   },
   "outputs": [
    {
     "data": {
      "text/html": [
       "<div>\n",
       "<style scoped>\n",
       "    .dataframe tbody tr th:only-of-type {\n",
       "        vertical-align: middle;\n",
       "    }\n",
       "\n",
       "    .dataframe tbody tr th {\n",
       "        vertical-align: top;\n",
       "    }\n",
       "\n",
       "    .dataframe thead th {\n",
       "        text-align: right;\n",
       "    }\n",
       "</style>\n",
       "<table border=\"1\" class=\"dataframe\">\n",
       "  <thead>\n",
       "    <tr style=\"text-align: right;\">\n",
       "      <th></th>\n",
       "      <th>Country</th>\n",
       "      <th>Year</th>\n",
       "      <th>Population</th>\n",
       "      <th>Continent</th>\n",
       "    </tr>\n",
       "  </thead>\n",
       "  <tbody>\n",
       "    <tr>\n",
       "      <th>3</th>\n",
       "      <td>China</td>\n",
       "      <td>1957</td>\n",
       "      <td>637408000.0</td>\n",
       "      <td>Asia</td>\n",
       "    </tr>\n",
       "    <tr>\n",
       "      <th>5</th>\n",
       "      <td>India</td>\n",
       "      <td>1952</td>\n",
       "      <td>372000000.0</td>\n",
       "      <td>Asia</td>\n",
       "    </tr>\n",
       "    <tr>\n",
       "      <th>6</th>\n",
       "      <td>United States</td>\n",
       "      <td>1957</td>\n",
       "      <td>171984000.0</td>\n",
       "      <td>Americas</td>\n",
       "    </tr>\n",
       "    <tr>\n",
       "      <th>2</th>\n",
       "      <td>Brazil</td>\n",
       "      <td>1962</td>\n",
       "      <td>76039390.0</td>\n",
       "      <td>Americas</td>\n",
       "    </tr>\n",
       "    <tr>\n",
       "      <th>4</th>\n",
       "      <td>France</td>\n",
       "      <td>1957</td>\n",
       "      <td>44310863.0</td>\n",
       "      <td>Europe</td>\n",
       "    </tr>\n",
       "    <tr>\n",
       "      <th>1</th>\n",
       "      <td>Australia</td>\n",
       "      <td>1957</td>\n",
       "      <td>9712569.0</td>\n",
       "      <td>Oceania</td>\n",
       "    </tr>\n",
       "    <tr>\n",
       "      <th>0</th>\n",
       "      <td>Afghanistan</td>\n",
       "      <td>1952</td>\n",
       "      <td>8425333.0</td>\n",
       "      <td>Asia</td>\n",
       "    </tr>\n",
       "  </tbody>\n",
       "</table>\n",
       "</div>"
      ],
      "text/plain": [
       "         Country  Year   Population Continent\n",
       "3          China  1957  637408000.0      Asia\n",
       "5          India  1952  372000000.0      Asia\n",
       "6  United States  1957  171984000.0  Americas\n",
       "2         Brazil  1962   76039390.0  Americas\n",
       "4         France  1957   44310863.0    Europe\n",
       "1      Australia  1957    9712569.0   Oceania\n",
       "0    Afghanistan  1952    8425333.0      Asia"
      ]
     },
     "execution_count": 58,
     "metadata": {},
     "output_type": "execute_result"
    }
   ],
   "source": [
    "# Sorting by column \"Population\"\n",
    "df.sort_values(by=['Population'], ascending=False)"
   ]
  },
  {
   "cell_type": "code",
   "execution_count": 59,
   "id": "e1599b9c",
   "metadata": {
    "_cell_guid": "13457d5a-6702-4e14-b42b-e621c570988d",
    "_uuid": "4e0f596c-a0ad-4937-975d-a3f20c65e367",
    "collapsed": false,
    "execution": {
     "iopub.execute_input": "2024-08-29T16:45:54.466151Z",
     "iopub.status.busy": "2024-08-29T16:45:54.465687Z",
     "iopub.status.idle": "2024-08-29T16:45:54.481394Z",
     "shell.execute_reply": "2024-08-29T16:45:54.480309Z"
    },
    "id": "C7qF1yZxPW8q",
    "jupyter": {
     "outputs_hidden": false
    },
    "outputId": "42f79fa8-bd84-435e-e7e8-9696b8b73cab",
    "papermill": {
     "duration": 0.051009,
     "end_time": "2024-08-29T16:45:54.483732",
     "exception": false,
     "start_time": "2024-08-29T16:45:54.432723",
     "status": "completed"
    },
    "tags": []
   },
   "outputs": [
    {
     "data": {
      "text/html": [
       "<div>\n",
       "<style scoped>\n",
       "    .dataframe tbody tr th:only-of-type {\n",
       "        vertical-align: middle;\n",
       "    }\n",
       "\n",
       "    .dataframe tbody tr th {\n",
       "        vertical-align: top;\n",
       "    }\n",
       "\n",
       "    .dataframe thead th {\n",
       "        text-align: right;\n",
       "    }\n",
       "</style>\n",
       "<table border=\"1\" class=\"dataframe\">\n",
       "  <thead>\n",
       "    <tr style=\"text-align: right;\">\n",
       "      <th></th>\n",
       "      <th>Country</th>\n",
       "      <th>Year</th>\n",
       "      <th>Population</th>\n",
       "      <th>Continent</th>\n",
       "    </tr>\n",
       "  </thead>\n",
       "  <tbody>\n",
       "    <tr>\n",
       "      <th>6</th>\n",
       "      <td>United States</td>\n",
       "      <td>1957</td>\n",
       "      <td>171984000.0</td>\n",
       "      <td>Americas</td>\n",
       "    </tr>\n",
       "    <tr>\n",
       "      <th>5</th>\n",
       "      <td>India</td>\n",
       "      <td>1952</td>\n",
       "      <td>372000000.0</td>\n",
       "      <td>Asia</td>\n",
       "    </tr>\n",
       "    <tr>\n",
       "      <th>4</th>\n",
       "      <td>France</td>\n",
       "      <td>1957</td>\n",
       "      <td>44310863.0</td>\n",
       "      <td>Europe</td>\n",
       "    </tr>\n",
       "    <tr>\n",
       "      <th>3</th>\n",
       "      <td>China</td>\n",
       "      <td>1957</td>\n",
       "      <td>637408000.0</td>\n",
       "      <td>Asia</td>\n",
       "    </tr>\n",
       "    <tr>\n",
       "      <th>2</th>\n",
       "      <td>Brazil</td>\n",
       "      <td>1962</td>\n",
       "      <td>76039390.0</td>\n",
       "      <td>Americas</td>\n",
       "    </tr>\n",
       "    <tr>\n",
       "      <th>1</th>\n",
       "      <td>Australia</td>\n",
       "      <td>1957</td>\n",
       "      <td>9712569.0</td>\n",
       "      <td>Oceania</td>\n",
       "    </tr>\n",
       "    <tr>\n",
       "      <th>0</th>\n",
       "      <td>Afghanistan</td>\n",
       "      <td>1952</td>\n",
       "      <td>8425333.0</td>\n",
       "      <td>Asia</td>\n",
       "    </tr>\n",
       "  </tbody>\n",
       "</table>\n",
       "</div>"
      ],
      "text/plain": [
       "         Country  Year   Population Continent\n",
       "6  United States  1957  171984000.0  Americas\n",
       "5          India  1952  372000000.0      Asia\n",
       "4         France  1957   44310863.0    Europe\n",
       "3          China  1957  637408000.0      Asia\n",
       "2         Brazil  1962   76039390.0  Americas\n",
       "1      Australia  1957    9712569.0   Oceania\n",
       "0    Afghanistan  1952    8425333.0      Asia"
      ]
     },
     "execution_count": 59,
     "metadata": {},
     "output_type": "execute_result"
    }
   ],
   "source": [
    "# Sorting by columns \"Country\" in descending\n",
    "# order and then \"Continent\" in ascending order\n",
    "\n",
    "df.sort_values(by=['Country', 'Continent'],\n",
    "               ascending=[False, True])"
   ]
  },
  {
   "cell_type": "markdown",
   "id": "0410770e",
   "metadata": {
    "_cell_guid": "1ef8fb20-c7bc-4230-ae89-6fde3e7498ae",
    "_uuid": "7968308e-554e-47b9-8f0a-8b1beff1fc2a",
    "id": "1R1alZMHPr32",
    "papermill": {
     "duration": 0.031772,
     "end_time": "2024-08-29T16:45:54.547752",
     "exception": false,
     "start_time": "2024-08-29T16:45:54.515980",
     "status": "completed"
    },
    "tags": []
   },
   "source": [
    "***Group by in dataframe***"
   ]
  },
  {
   "cell_type": "code",
   "execution_count": 60,
   "id": "1969ec90",
   "metadata": {
    "_cell_guid": "d1c64dbf-7c8d-4894-9a1a-ce2bdf077ccd",
    "_uuid": "d4783aaf-1446-450e-b0fd-13f1eae6cf63",
    "collapsed": false,
    "execution": {
     "iopub.execute_input": "2024-08-29T16:45:54.615499Z",
     "iopub.status.busy": "2024-08-29T16:45:54.614389Z",
     "iopub.status.idle": "2024-08-29T16:45:54.631120Z",
     "shell.execute_reply": "2024-08-29T16:45:54.630087Z"
    },
    "id": "LnDTywzwPwH2",
    "jupyter": {
     "outputs_hidden": false
    },
    "outputId": "3a4d7f37-f9ba-43f6-89b5-2725e341cdb4",
    "papermill": {
     "duration": 0.052451,
     "end_time": "2024-08-29T16:45:54.633436",
     "exception": false,
     "start_time": "2024-08-29T16:45:54.580985",
     "status": "completed"
    },
    "tags": []
   },
   "outputs": [
    {
     "data": {
      "text/html": [
       "<div>\n",
       "<style scoped>\n",
       "    .dataframe tbody tr th:only-of-type {\n",
       "        vertical-align: middle;\n",
       "    }\n",
       "\n",
       "    .dataframe tbody tr th {\n",
       "        vertical-align: top;\n",
       "    }\n",
       "\n",
       "    .dataframe thead th {\n",
       "        text-align: right;\n",
       "    }\n",
       "</style>\n",
       "<table border=\"1\" class=\"dataframe\">\n",
       "  <thead>\n",
       "    <tr style=\"text-align: right;\">\n",
       "      <th></th>\n",
       "      <th>Category</th>\n",
       "      <th>Subcategory</th>\n",
       "      <th>Value</th>\n",
       "    </tr>\n",
       "  </thead>\n",
       "  <tbody>\n",
       "    <tr>\n",
       "      <th>0</th>\n",
       "      <td>A</td>\n",
       "      <td>X</td>\n",
       "      <td>18.333333</td>\n",
       "    </tr>\n",
       "    <tr>\n",
       "      <th>1</th>\n",
       "      <td>B</td>\n",
       "      <td>Y</td>\n",
       "      <td>22.500000</td>\n",
       "    </tr>\n",
       "  </tbody>\n",
       "</table>\n",
       "</div>"
      ],
      "text/plain": [
       "  Category Subcategory      Value\n",
       "0        A           X  18.333333\n",
       "1        B           Y  22.500000"
      ]
     },
     "execution_count": 60,
     "metadata": {},
     "output_type": "execute_result"
    }
   ],
   "source": [
    "data = {\n",
    "    'Category': ['A', 'B', 'A', 'B', 'A'],\n",
    "    'Subcategory': ['X', 'Y', 'X', 'Y', 'X'],\n",
    "    'Value': [10, 20, 15, 25, 30]\n",
    "}\n",
    "df = pd.DataFrame(data)\n",
    "# Group by 'Category' and 'Subcategory' and calculate mean of 'Value'\n",
    "grouped = df.groupby(['Category', 'Subcategory']).mean().reset_index()\n",
    "grouped"
   ]
  },
  {
   "cell_type": "markdown",
   "id": "50fcdac7",
   "metadata": {
    "_cell_guid": "1d03926a-271f-4f84-bc52-a2d6eede2283",
    "_uuid": "8496b831-0757-4c69-bb4b-ebc5a8d72c60",
    "id": "UoaoACWhTCe9",
    "papermill": {
     "duration": 0.031716,
     "end_time": "2024-08-29T16:45:54.697928",
     "exception": false,
     "start_time": "2024-08-29T16:45:54.666212",
     "status": "completed"
    },
    "tags": []
   },
   "source": [
    "***Altering the Index***"
   ]
  },
  {
   "cell_type": "code",
   "execution_count": 61,
   "id": "25498cbe",
   "metadata": {
    "_cell_guid": "fd972d93-c011-4f31-83e3-0a35ac198226",
    "_uuid": "2d0f5623-3585-4f37-80f2-6721403f223d",
    "collapsed": false,
    "execution": {
     "iopub.execute_input": "2024-08-29T16:45:54.765335Z",
     "iopub.status.busy": "2024-08-29T16:45:54.764937Z",
     "iopub.status.idle": "2024-08-29T16:45:54.778464Z",
     "shell.execute_reply": "2024-08-29T16:45:54.777431Z"
    },
    "id": "5WM9--UCPcEG",
    "jupyter": {
     "outputs_hidden": false
    },
    "outputId": "c948f510-90c2-4c9e-8e6d-b7ccc6a2b8ce",
    "papermill": {
     "duration": 0.049599,
     "end_time": "2024-08-29T16:45:54.780697",
     "exception": false,
     "start_time": "2024-08-29T16:45:54.731098",
     "status": "completed"
    },
    "tags": []
   },
   "outputs": [
    {
     "data": {
      "text/html": [
       "<div>\n",
       "<style scoped>\n",
       "    .dataframe tbody tr th:only-of-type {\n",
       "        vertical-align: middle;\n",
       "    }\n",
       "\n",
       "    .dataframe tbody tr th {\n",
       "        vertical-align: top;\n",
       "    }\n",
       "\n",
       "    .dataframe thead th {\n",
       "        text-align: right;\n",
       "    }\n",
       "</style>\n",
       "<table border=\"1\" class=\"dataframe\">\n",
       "  <thead>\n",
       "    <tr style=\"text-align: right;\">\n",
       "      <th></th>\n",
       "      <th>Student_id</th>\n",
       "      <th>Student_Name</th>\n",
       "      <th>Height</th>\n",
       "    </tr>\n",
       "    <tr>\n",
       "      <th>Admission_id</th>\n",
       "      <th></th>\n",
       "      <th></th>\n",
       "      <th></th>\n",
       "    </tr>\n",
       "  </thead>\n",
       "  <tbody>\n",
       "    <tr>\n",
       "      <th>AB101</th>\n",
       "      <td>21GFG1</td>\n",
       "      <td>Akhil</td>\n",
       "      <td>5.9</td>\n",
       "    </tr>\n",
       "    <tr>\n",
       "      <th>AB102</th>\n",
       "      <td>21GFG2</td>\n",
       "      <td>Mahesh Babu</td>\n",
       "      <td>6.2</td>\n",
       "    </tr>\n",
       "    <tr>\n",
       "      <th>AB103</th>\n",
       "      <td>21GFG3</td>\n",
       "      <td>Warner</td>\n",
       "      <td>5.6</td>\n",
       "    </tr>\n",
       "    <tr>\n",
       "      <th>AB104</th>\n",
       "      <td>21GFG4</td>\n",
       "      <td>Virat</td>\n",
       "      <td>5.8</td>\n",
       "    </tr>\n",
       "    <tr>\n",
       "      <th>AB105</th>\n",
       "      <td>21GFG5</td>\n",
       "      <td>ABD</td>\n",
       "      <td>5.1</td>\n",
       "    </tr>\n",
       "  </tbody>\n",
       "</table>\n",
       "</div>"
      ],
      "text/plain": [
       "             Student_id Student_Name  Height\n",
       "Admission_id                                \n",
       "AB101            21GFG1        Akhil     5.9\n",
       "AB102            21GFG2  Mahesh Babu     6.2\n",
       "AB103            21GFG3       Warner     5.6\n",
       "AB104            21GFG4        Virat     5.8\n",
       "AB105            21GFG5          ABD     5.1"
      ]
     },
     "execution_count": 61,
     "metadata": {},
     "output_type": "execute_result"
    }
   ],
   "source": [
    "Students = pd.DataFrame({\n",
    "    'Admission_id': ['AB101', 'AB102', 'AB103', 'AB104', 'AB105'],\n",
    "    'Student_id': ['21GFG1', '21GFG2', '21GFG3', '21GFG4', '21GFG5'],\n",
    "    'Student_Name': ['Akhil', 'Mahesh Babu', 'Warner', 'Virat', 'ABD'],\n",
    "    'Height': [5.9, 6.2, 5.6, 5.8, 5.10]\n",
    "})\n",
    "\n",
    "Students.set_index(\"Admission_id\", inplace=False)"
   ]
  },
  {
   "cell_type": "code",
   "execution_count": 62,
   "id": "33ed3900",
   "metadata": {
    "_cell_guid": "80f953ca-0ddb-4937-b42f-4ce2ef933171",
    "_uuid": "90bc1abb-b826-44bf-801c-ca6063823c0b",
    "collapsed": false,
    "execution": {
     "iopub.execute_input": "2024-08-29T16:45:54.848218Z",
     "iopub.status.busy": "2024-08-29T16:45:54.847397Z",
     "iopub.status.idle": "2024-08-29T16:45:54.853560Z",
     "shell.execute_reply": "2024-08-29T16:45:54.852447Z"
    },
    "id": "myTxb0kITqu8",
    "jupyter": {
     "outputs_hidden": false
    },
    "papermill": {
     "duration": 0.042542,
     "end_time": "2024-08-29T16:45:54.855776",
     "exception": false,
     "start_time": "2024-08-29T16:45:54.813234",
     "status": "completed"
    },
    "tags": []
   },
   "outputs": [],
   "source": [
    "Students.set_index(\"Student_id\", inplace=True)"
   ]
  },
  {
   "cell_type": "code",
   "execution_count": 63,
   "id": "dddad38d",
   "metadata": {
    "_cell_guid": "f7b7d7d0-1567-46dc-ade2-3935e5ed2d9d",
    "_uuid": "671376c1-6d7d-4341-bdee-01717d20844b",
    "collapsed": false,
    "execution": {
     "iopub.execute_input": "2024-08-29T16:45:54.939646Z",
     "iopub.status.busy": "2024-08-29T16:45:54.939199Z",
     "iopub.status.idle": "2024-08-29T16:45:54.950784Z",
     "shell.execute_reply": "2024-08-29T16:45:54.949696Z"
    },
    "id": "g2B7vS1vTtXW",
    "jupyter": {
     "outputs_hidden": false
    },
    "outputId": "8c73dcf5-d5e2-4fc1-f7d3-cde99760763a",
    "papermill": {
     "duration": 0.059152,
     "end_time": "2024-08-29T16:45:54.953130",
     "exception": false,
     "start_time": "2024-08-29T16:45:54.893978",
     "status": "completed"
    },
    "tags": []
   },
   "outputs": [
    {
     "data": {
      "text/html": [
       "<div>\n",
       "<style scoped>\n",
       "    .dataframe tbody tr th:only-of-type {\n",
       "        vertical-align: middle;\n",
       "    }\n",
       "\n",
       "    .dataframe tbody tr th {\n",
       "        vertical-align: top;\n",
       "    }\n",
       "\n",
       "    .dataframe thead th {\n",
       "        text-align: right;\n",
       "    }\n",
       "</style>\n",
       "<table border=\"1\" class=\"dataframe\">\n",
       "  <thead>\n",
       "    <tr style=\"text-align: right;\">\n",
       "      <th></th>\n",
       "      <th>Admission_id</th>\n",
       "      <th>Student_Name</th>\n",
       "      <th>Height</th>\n",
       "    </tr>\n",
       "    <tr>\n",
       "      <th>Student_id</th>\n",
       "      <th></th>\n",
       "      <th></th>\n",
       "      <th></th>\n",
       "    </tr>\n",
       "  </thead>\n",
       "  <tbody>\n",
       "    <tr>\n",
       "      <th>21GFG1</th>\n",
       "      <td>AB101</td>\n",
       "      <td>Akhil</td>\n",
       "      <td>5.9</td>\n",
       "    </tr>\n",
       "    <tr>\n",
       "      <th>21GFG2</th>\n",
       "      <td>AB102</td>\n",
       "      <td>Mahesh Babu</td>\n",
       "      <td>6.2</td>\n",
       "    </tr>\n",
       "    <tr>\n",
       "      <th>21GFG3</th>\n",
       "      <td>AB103</td>\n",
       "      <td>Warner</td>\n",
       "      <td>5.6</td>\n",
       "    </tr>\n",
       "    <tr>\n",
       "      <th>21GFG4</th>\n",
       "      <td>AB104</td>\n",
       "      <td>Virat</td>\n",
       "      <td>5.8</td>\n",
       "    </tr>\n",
       "    <tr>\n",
       "      <th>21GFG5</th>\n",
       "      <td>AB105</td>\n",
       "      <td>ABD</td>\n",
       "      <td>5.1</td>\n",
       "    </tr>\n",
       "  </tbody>\n",
       "</table>\n",
       "</div>"
      ],
      "text/plain": [
       "           Admission_id Student_Name  Height\n",
       "Student_id                                  \n",
       "21GFG1            AB101        Akhil     5.9\n",
       "21GFG2            AB102  Mahesh Babu     6.2\n",
       "21GFG3            AB103       Warner     5.6\n",
       "21GFG4            AB104        Virat     5.8\n",
       "21GFG5            AB105          ABD     5.1"
      ]
     },
     "execution_count": 63,
     "metadata": {},
     "output_type": "execute_result"
    }
   ],
   "source": [
    "Students"
   ]
  },
  {
   "cell_type": "markdown",
   "id": "571e76d5",
   "metadata": {
    "_cell_guid": "76bfc614-a1d7-4667-9705-5608b6b198a1",
    "_uuid": "7302e9ae-e3fe-4876-b134-fbdbf8d06853",
    "id": "e0tJLuM7UcLp",
    "papermill": {
     "duration": 0.044879,
     "end_time": "2024-08-29T16:45:55.038861",
     "exception": false,
     "start_time": "2024-08-29T16:45:54.993982",
     "status": "completed"
    },
    "tags": []
   },
   "source": [
    "***Reshaping Data of a dataframe***"
   ]
  },
  {
   "cell_type": "code",
   "execution_count": 64,
   "id": "543ab626",
   "metadata": {
    "_cell_guid": "d0be1933-0eb8-4a96-b67a-2479db1da666",
    "_uuid": "83c37ff6-7fa2-44d1-891f-bb8abd9e4fbd",
    "collapsed": false,
    "execution": {
     "iopub.execute_input": "2024-08-29T16:45:55.110920Z",
     "iopub.status.busy": "2024-08-29T16:45:55.110546Z",
     "iopub.status.idle": "2024-08-29T16:45:55.123042Z",
     "shell.execute_reply": "2024-08-29T16:45:55.122005Z"
    },
    "id": "Elg5qZQXUez3",
    "jupyter": {
     "outputs_hidden": false
    },
    "outputId": "1b3a3416-d0c3-4459-d81e-b490a2d57204",
    "papermill": {
     "duration": 0.04886,
     "end_time": "2024-08-29T16:45:55.125195",
     "exception": false,
     "start_time": "2024-08-29T16:45:55.076335",
     "status": "completed"
    },
    "tags": []
   },
   "outputs": [
    {
     "data": {
      "text/html": [
       "<div>\n",
       "<style scoped>\n",
       "    .dataframe tbody tr th:only-of-type {\n",
       "        vertical-align: middle;\n",
       "    }\n",
       "\n",
       "    .dataframe tbody tr th {\n",
       "        vertical-align: top;\n",
       "    }\n",
       "\n",
       "    .dataframe thead th {\n",
       "        text-align: right;\n",
       "    }\n",
       "</style>\n",
       "<table border=\"1\" class=\"dataframe\">\n",
       "  <thead>\n",
       "    <tr style=\"text-align: right;\">\n",
       "      <th></th>\n",
       "      <th>DAYS</th>\n",
       "      <th>PATIENTS</th>\n",
       "      <th>RECOVERY</th>\n",
       "    </tr>\n",
       "  </thead>\n",
       "  <tbody>\n",
       "    <tr>\n",
       "      <th>0</th>\n",
       "      <td>Monday</td>\n",
       "      <td>65000</td>\n",
       "      <td>50000</td>\n",
       "    </tr>\n",
       "    <tr>\n",
       "      <th>1</th>\n",
       "      <td>Tuesday</td>\n",
       "      <td>68000</td>\n",
       "      <td>45000</td>\n",
       "    </tr>\n",
       "    <tr>\n",
       "      <th>2</th>\n",
       "      <td>Wednesday</td>\n",
       "      <td>70000</td>\n",
       "      <td>55000</td>\n",
       "    </tr>\n",
       "    <tr>\n",
       "      <th>3</th>\n",
       "      <td>Thursday</td>\n",
       "      <td>60000</td>\n",
       "      <td>47000</td>\n",
       "    </tr>\n",
       "    <tr>\n",
       "      <th>4</th>\n",
       "      <td>Friday</td>\n",
       "      <td>49000</td>\n",
       "      <td>25000</td>\n",
       "    </tr>\n",
       "    <tr>\n",
       "      <th>5</th>\n",
       "      <td>Saturday</td>\n",
       "      <td>54000</td>\n",
       "      <td>35000</td>\n",
       "    </tr>\n",
       "    <tr>\n",
       "      <th>6</th>\n",
       "      <td>Sunday</td>\n",
       "      <td>100000</td>\n",
       "      <td>70000</td>\n",
       "    </tr>\n",
       "  </tbody>\n",
       "</table>\n",
       "</div>"
      ],
      "text/plain": [
       "        DAYS  PATIENTS  RECOVERY\n",
       "0     Monday     65000     50000\n",
       "1    Tuesday     68000     45000\n",
       "2  Wednesday     70000     55000\n",
       "3   Thursday     60000     47000\n",
       "4     Friday     49000     25000\n",
       "5   Saturday     54000     35000\n",
       "6     Sunday    100000     70000"
      ]
     },
     "execution_count": 64,
     "metadata": {},
     "output_type": "execute_result"
    }
   ],
   "source": [
    "# creating and initializing a list\n",
    "values = [['Monday', 65000, 50000],\n",
    "\t\t['Tuesday', 68000, 45000],\n",
    "\t\t['Wednesday', 70000, 55000],\n",
    "\t\t['Thursday', 60000, 47000],\n",
    "\t\t['Friday', 49000, 25000],\n",
    "\t\t['Saturday', 54000, 35000],\n",
    "\t\t['Sunday', 100000, 70000]]\n",
    "\n",
    "# creating a pandas dataframe\n",
    "df = pd.DataFrame(values, columns=['DAYS', 'PATIENTS', 'RECOVERY'])\n",
    "\n",
    "# displaying the data frame\n",
    "df"
   ]
  },
  {
   "cell_type": "code",
   "execution_count": 65,
   "id": "bb13f8bc",
   "metadata": {
    "_cell_guid": "d9f7534d-8f44-42d0-9773-ab6ab21d7441",
    "_uuid": "ebb21876-92d4-48e9-ab04-52b487598eab",
    "collapsed": false,
    "execution": {
     "iopub.execute_input": "2024-08-29T16:45:55.193984Z",
     "iopub.status.busy": "2024-08-29T16:45:55.193589Z",
     "iopub.status.idle": "2024-08-29T16:45:55.208410Z",
     "shell.execute_reply": "2024-08-29T16:45:55.207400Z"
    },
    "id": "ItTDjMhFTxet",
    "jupyter": {
     "outputs_hidden": false
    },
    "outputId": "6fcc54cf-457e-463e-eefc-a448aef894e9",
    "papermill": {
     "duration": 0.052202,
     "end_time": "2024-08-29T16:45:55.210773",
     "exception": false,
     "start_time": "2024-08-29T16:45:55.158571",
     "status": "completed"
    },
    "tags": []
   },
   "outputs": [
    {
     "data": {
      "text/html": [
       "<div>\n",
       "<style scoped>\n",
       "    .dataframe tbody tr th:only-of-type {\n",
       "        vertical-align: middle;\n",
       "    }\n",
       "\n",
       "    .dataframe tbody tr th {\n",
       "        vertical-align: top;\n",
       "    }\n",
       "\n",
       "    .dataframe thead th {\n",
       "        text-align: right;\n",
       "    }\n",
       "</style>\n",
       "<table border=\"1\" class=\"dataframe\">\n",
       "  <thead>\n",
       "    <tr style=\"text-align: right;\">\n",
       "      <th></th>\n",
       "      <th>DAYS</th>\n",
       "      <th>variable</th>\n",
       "      <th>value</th>\n",
       "    </tr>\n",
       "  </thead>\n",
       "  <tbody>\n",
       "    <tr>\n",
       "      <th>0</th>\n",
       "      <td>Monday</td>\n",
       "      <td>PATIENTS</td>\n",
       "      <td>65000</td>\n",
       "    </tr>\n",
       "    <tr>\n",
       "      <th>1</th>\n",
       "      <td>Tuesday</td>\n",
       "      <td>PATIENTS</td>\n",
       "      <td>68000</td>\n",
       "    </tr>\n",
       "    <tr>\n",
       "      <th>2</th>\n",
       "      <td>Wednesday</td>\n",
       "      <td>PATIENTS</td>\n",
       "      <td>70000</td>\n",
       "    </tr>\n",
       "    <tr>\n",
       "      <th>3</th>\n",
       "      <td>Thursday</td>\n",
       "      <td>PATIENTS</td>\n",
       "      <td>60000</td>\n",
       "    </tr>\n",
       "    <tr>\n",
       "      <th>4</th>\n",
       "      <td>Friday</td>\n",
       "      <td>PATIENTS</td>\n",
       "      <td>49000</td>\n",
       "    </tr>\n",
       "    <tr>\n",
       "      <th>5</th>\n",
       "      <td>Saturday</td>\n",
       "      <td>PATIENTS</td>\n",
       "      <td>54000</td>\n",
       "    </tr>\n",
       "    <tr>\n",
       "      <th>6</th>\n",
       "      <td>Sunday</td>\n",
       "      <td>PATIENTS</td>\n",
       "      <td>100000</td>\n",
       "    </tr>\n",
       "    <tr>\n",
       "      <th>7</th>\n",
       "      <td>Monday</td>\n",
       "      <td>RECOVERY</td>\n",
       "      <td>50000</td>\n",
       "    </tr>\n",
       "    <tr>\n",
       "      <th>8</th>\n",
       "      <td>Tuesday</td>\n",
       "      <td>RECOVERY</td>\n",
       "      <td>45000</td>\n",
       "    </tr>\n",
       "    <tr>\n",
       "      <th>9</th>\n",
       "      <td>Wednesday</td>\n",
       "      <td>RECOVERY</td>\n",
       "      <td>55000</td>\n",
       "    </tr>\n",
       "    <tr>\n",
       "      <th>10</th>\n",
       "      <td>Thursday</td>\n",
       "      <td>RECOVERY</td>\n",
       "      <td>47000</td>\n",
       "    </tr>\n",
       "    <tr>\n",
       "      <th>11</th>\n",
       "      <td>Friday</td>\n",
       "      <td>RECOVERY</td>\n",
       "      <td>25000</td>\n",
       "    </tr>\n",
       "    <tr>\n",
       "      <th>12</th>\n",
       "      <td>Saturday</td>\n",
       "      <td>RECOVERY</td>\n",
       "      <td>35000</td>\n",
       "    </tr>\n",
       "    <tr>\n",
       "      <th>13</th>\n",
       "      <td>Sunday</td>\n",
       "      <td>RECOVERY</td>\n",
       "      <td>70000</td>\n",
       "    </tr>\n",
       "  </tbody>\n",
       "</table>\n",
       "</div>"
      ],
      "text/plain": [
       "         DAYS  variable   value\n",
       "0      Monday  PATIENTS   65000\n",
       "1     Tuesday  PATIENTS   68000\n",
       "2   Wednesday  PATIENTS   70000\n",
       "3    Thursday  PATIENTS   60000\n",
       "4      Friday  PATIENTS   49000\n",
       "5    Saturday  PATIENTS   54000\n",
       "6      Sunday  PATIENTS  100000\n",
       "7      Monday  RECOVERY   50000\n",
       "8     Tuesday  RECOVERY   45000\n",
       "9   Wednesday  RECOVERY   55000\n",
       "10   Thursday  RECOVERY   47000\n",
       "11     Friday  RECOVERY   25000\n",
       "12   Saturday  RECOVERY   35000\n",
       "13     Sunday  RECOVERY   70000"
      ]
     },
     "execution_count": 65,
     "metadata": {},
     "output_type": "execute_result"
    }
   ],
   "source": [
    "# melting with DAYS as column identifier\n",
    "reshaped_df = df.melt(id_vars=['DAYS'])\n",
    "\n",
    "# displaying the reshaped data frame\n",
    "reshaped_df"
   ]
  },
  {
   "cell_type": "markdown",
   "id": "57280c3a",
   "metadata": {
    "_cell_guid": "e501e164-33aa-4d85-8cf5-10b68a3aa41d",
    "_uuid": "669664ad-82bc-40f2-8d62-84d38c161f5d",
    "id": "2hrFRHvwVMXA",
    "papermill": {
     "duration": 0.032636,
     "end_time": "2024-08-29T16:45:55.276877",
     "exception": false,
     "start_time": "2024-08-29T16:45:55.244241",
     "status": "completed"
    },
    "tags": []
   },
   "source": [
    "***Handling Missing Values***"
   ]
  },
  {
   "cell_type": "code",
   "execution_count": 66,
   "id": "d86728e9",
   "metadata": {
    "_cell_guid": "84ccaf9c-63c8-4e03-9d3e-71f0429cbd78",
    "_uuid": "ede36808-48a2-4362-9408-6856f442970a",
    "collapsed": false,
    "execution": {
     "iopub.execute_input": "2024-08-29T16:45:55.352373Z",
     "iopub.status.busy": "2024-08-29T16:45:55.351869Z",
     "iopub.status.idle": "2024-08-29T16:45:55.365471Z",
     "shell.execute_reply": "2024-08-29T16:45:55.364425Z"
    },
    "id": "IFa1x7JAUqxW",
    "jupyter": {
     "outputs_hidden": false
    },
    "outputId": "59f4a647-dd20-48b9-bfb6-c100418d175c",
    "papermill": {
     "duration": 0.055011,
     "end_time": "2024-08-29T16:45:55.367999",
     "exception": false,
     "start_time": "2024-08-29T16:45:55.312988",
     "status": "completed"
    },
    "tags": []
   },
   "outputs": [
    {
     "data": {
      "text/html": [
       "<div>\n",
       "<style scoped>\n",
       "    .dataframe tbody tr th:only-of-type {\n",
       "        vertical-align: middle;\n",
       "    }\n",
       "\n",
       "    .dataframe tbody tr th {\n",
       "        vertical-align: top;\n",
       "    }\n",
       "\n",
       "    .dataframe thead th {\n",
       "        text-align: right;\n",
       "    }\n",
       "</style>\n",
       "<table border=\"1\" class=\"dataframe\">\n",
       "  <thead>\n",
       "    <tr style=\"text-align: right;\">\n",
       "      <th></th>\n",
       "      <th>First Score</th>\n",
       "      <th>Second Score</th>\n",
       "      <th>Third Score</th>\n",
       "    </tr>\n",
       "  </thead>\n",
       "  <tbody>\n",
       "    <tr>\n",
       "      <th>0</th>\n",
       "      <td>100.0</td>\n",
       "      <td>30.0</td>\n",
       "      <td>NaN</td>\n",
       "    </tr>\n",
       "    <tr>\n",
       "      <th>1</th>\n",
       "      <td>90.0</td>\n",
       "      <td>45.0</td>\n",
       "      <td>40.0</td>\n",
       "    </tr>\n",
       "    <tr>\n",
       "      <th>2</th>\n",
       "      <td>NaN</td>\n",
       "      <td>56.0</td>\n",
       "      <td>80.0</td>\n",
       "    </tr>\n",
       "    <tr>\n",
       "      <th>3</th>\n",
       "      <td>95.0</td>\n",
       "      <td>NaN</td>\n",
       "      <td>98.0</td>\n",
       "    </tr>\n",
       "  </tbody>\n",
       "</table>\n",
       "</div>"
      ],
      "text/plain": [
       "   First Score  Second Score  Third Score\n",
       "0        100.0          30.0          NaN\n",
       "1         90.0          45.0         40.0\n",
       "2          NaN          56.0         80.0\n",
       "3         95.0           NaN         98.0"
      ]
     },
     "execution_count": 66,
     "metadata": {},
     "output_type": "execute_result"
    }
   ],
   "source": [
    "# dictionary of lists\n",
    "dict = {'First Score':[100, 90, np.nan, 95],\n",
    "        'Second Score': [30, 45, 56, np.nan],\n",
    "        'Third Score':[np.nan, 40, 80, 98]}\n",
    "\n",
    "# creating a dataframe from list\n",
    "df = pd.DataFrame(dict)\n",
    "df"
   ]
  },
  {
   "cell_type": "code",
   "execution_count": 67,
   "id": "8bed1915",
   "metadata": {
    "_cell_guid": "f300ffa1-3d43-4491-9b3f-98917f2b264e",
    "_uuid": "9596e74b-0478-49f0-897c-0fe817e7c632",
    "collapsed": false,
    "execution": {
     "iopub.execute_input": "2024-08-29T16:45:55.444608Z",
     "iopub.status.busy": "2024-08-29T16:45:55.444179Z",
     "iopub.status.idle": "2024-08-29T16:45:55.454698Z",
     "shell.execute_reply": "2024-08-29T16:45:55.453602Z"
    },
    "id": "U8vxG6haVeEU",
    "jupyter": {
     "outputs_hidden": false
    },
    "outputId": "f12da10a-9a3d-4336-cda5-62a2fee38dd9",
    "papermill": {
     "duration": 0.0478,
     "end_time": "2024-08-29T16:45:55.457240",
     "exception": false,
     "start_time": "2024-08-29T16:45:55.409440",
     "status": "completed"
    },
    "tags": []
   },
   "outputs": [
    {
     "data": {
      "text/html": [
       "<div>\n",
       "<style scoped>\n",
       "    .dataframe tbody tr th:only-of-type {\n",
       "        vertical-align: middle;\n",
       "    }\n",
       "\n",
       "    .dataframe tbody tr th {\n",
       "        vertical-align: top;\n",
       "    }\n",
       "\n",
       "    .dataframe thead th {\n",
       "        text-align: right;\n",
       "    }\n",
       "</style>\n",
       "<table border=\"1\" class=\"dataframe\">\n",
       "  <thead>\n",
       "    <tr style=\"text-align: right;\">\n",
       "      <th></th>\n",
       "      <th>First Score</th>\n",
       "      <th>Second Score</th>\n",
       "      <th>Third Score</th>\n",
       "    </tr>\n",
       "  </thead>\n",
       "  <tbody>\n",
       "    <tr>\n",
       "      <th>0</th>\n",
       "      <td>False</td>\n",
       "      <td>False</td>\n",
       "      <td>True</td>\n",
       "    </tr>\n",
       "    <tr>\n",
       "      <th>1</th>\n",
       "      <td>False</td>\n",
       "      <td>False</td>\n",
       "      <td>False</td>\n",
       "    </tr>\n",
       "    <tr>\n",
       "      <th>2</th>\n",
       "      <td>True</td>\n",
       "      <td>False</td>\n",
       "      <td>False</td>\n",
       "    </tr>\n",
       "    <tr>\n",
       "      <th>3</th>\n",
       "      <td>False</td>\n",
       "      <td>True</td>\n",
       "      <td>False</td>\n",
       "    </tr>\n",
       "  </tbody>\n",
       "</table>\n",
       "</div>"
      ],
      "text/plain": [
       "   First Score  Second Score  Third Score\n",
       "0        False         False         True\n",
       "1        False         False        False\n",
       "2         True         False        False\n",
       "3        False          True        False"
      ]
     },
     "execution_count": 67,
     "metadata": {},
     "output_type": "execute_result"
    }
   ],
   "source": [
    "# using isnull() function\n",
    "df.isnull()"
   ]
  },
  {
   "cell_type": "code",
   "execution_count": 68,
   "id": "cbbdb00f",
   "metadata": {
    "_cell_guid": "b63630ab-098c-4303-9af8-8c190927ecbc",
    "_uuid": "30331ecf-0c97-41e9-9ef9-006118fe9b5d",
    "collapsed": false,
    "execution": {
     "iopub.execute_input": "2024-08-29T16:45:55.578771Z",
     "iopub.status.busy": "2024-08-29T16:45:55.578348Z",
     "iopub.status.idle": "2024-08-29T16:45:55.586723Z",
     "shell.execute_reply": "2024-08-29T16:45:55.585631Z"
    },
    "id": "eQyNnZUDVoZ_",
    "jupyter": {
     "outputs_hidden": false
    },
    "outputId": "9402bf9a-1e00-455f-af3c-d661f2713b2e",
    "papermill": {
     "duration": 0.098403,
     "end_time": "2024-08-29T16:45:55.589130",
     "exception": false,
     "start_time": "2024-08-29T16:45:55.490727",
     "status": "completed"
    },
    "tags": []
   },
   "outputs": [
    {
     "data": {
      "text/plain": [
       "First Score     1\n",
       "Second Score    1\n",
       "Third Score     1\n",
       "dtype: int64"
      ]
     },
     "execution_count": 68,
     "metadata": {},
     "output_type": "execute_result"
    }
   ],
   "source": [
    "# using isnull() function\n",
    "df.isnull().sum()"
   ]
  },
  {
   "cell_type": "markdown",
   "id": "89652b6e",
   "metadata": {
    "_cell_guid": "0b9704aa-f4b4-4675-80be-dafba1f1828b",
    "_uuid": "1de981c8-516e-49eb-823b-4e251ba9dd62",
    "id": "5E44YfPlV5KP",
    "papermill": {
     "duration": 0.033656,
     "end_time": "2024-08-29T16:45:55.656339",
     "exception": false,
     "start_time": "2024-08-29T16:45:55.622683",
     "status": "completed"
    },
    "tags": []
   },
   "source": [
    "***Dropping Missing Values***"
   ]
  },
  {
   "cell_type": "code",
   "execution_count": 69,
   "id": "0ca6c546",
   "metadata": {
    "_cell_guid": "b894e3c1-c744-47a6-9334-4d65687707a0",
    "_uuid": "06148903-3165-4ab2-a82b-d0fd22a72585",
    "collapsed": false,
    "execution": {
     "iopub.execute_input": "2024-08-29T16:45:55.726955Z",
     "iopub.status.busy": "2024-08-29T16:45:55.726541Z",
     "iopub.status.idle": "2024-08-29T16:45:55.733745Z",
     "shell.execute_reply": "2024-08-29T16:45:55.732564Z"
    },
    "id": "v2CvKCjwV1K1",
    "jupyter": {
     "outputs_hidden": false
    },
    "papermill": {
     "duration": 0.045276,
     "end_time": "2024-08-29T16:45:55.736179",
     "exception": false,
     "start_time": "2024-08-29T16:45:55.690903",
     "status": "completed"
    },
    "tags": []
   },
   "outputs": [],
   "source": [
    "df.dropna(inplace=True)"
   ]
  },
  {
   "cell_type": "code",
   "execution_count": 70,
   "id": "9bd03f6c",
   "metadata": {
    "_cell_guid": "29f24fac-cee8-46ba-a578-0b32480cf998",
    "_uuid": "e9fb806c-5565-4f5f-ad3e-02737fa6b453",
    "collapsed": false,
    "execution": {
     "iopub.execute_input": "2024-08-29T16:45:55.814434Z",
     "iopub.status.busy": "2024-08-29T16:45:55.813459Z",
     "iopub.status.idle": "2024-08-29T16:45:55.824254Z",
     "shell.execute_reply": "2024-08-29T16:45:55.823135Z"
    },
    "id": "GJhD_Y6iZ8jS",
    "jupyter": {
     "outputs_hidden": false
    },
    "outputId": "b1a867ea-99db-4ef9-af8f-31b726d61270",
    "papermill": {
     "duration": 0.051664,
     "end_time": "2024-08-29T16:45:55.826967",
     "exception": false,
     "start_time": "2024-08-29T16:45:55.775303",
     "status": "completed"
    },
    "tags": []
   },
   "outputs": [
    {
     "data": {
      "text/html": [
       "<div>\n",
       "<style scoped>\n",
       "    .dataframe tbody tr th:only-of-type {\n",
       "        vertical-align: middle;\n",
       "    }\n",
       "\n",
       "    .dataframe tbody tr th {\n",
       "        vertical-align: top;\n",
       "    }\n",
       "\n",
       "    .dataframe thead th {\n",
       "        text-align: right;\n",
       "    }\n",
       "</style>\n",
       "<table border=\"1\" class=\"dataframe\">\n",
       "  <thead>\n",
       "    <tr style=\"text-align: right;\">\n",
       "      <th></th>\n",
       "      <th>First Score</th>\n",
       "      <th>Second Score</th>\n",
       "      <th>Third Score</th>\n",
       "    </tr>\n",
       "  </thead>\n",
       "  <tbody>\n",
       "    <tr>\n",
       "      <th>1</th>\n",
       "      <td>90.0</td>\n",
       "      <td>45.0</td>\n",
       "      <td>40.0</td>\n",
       "    </tr>\n",
       "  </tbody>\n",
       "</table>\n",
       "</div>"
      ],
      "text/plain": [
       "   First Score  Second Score  Third Score\n",
       "1         90.0          45.0         40.0"
      ]
     },
     "execution_count": 70,
     "metadata": {},
     "output_type": "execute_result"
    }
   ],
   "source": [
    "df"
   ]
  },
  {
   "cell_type": "code",
   "execution_count": 71,
   "id": "b67edde8",
   "metadata": {
    "_cell_guid": "74a23b4e-99d0-47dd-b82f-2750d88eecb4",
    "_uuid": "0c1530c5-ce92-420a-8baa-ae68be023747",
    "collapsed": false,
    "execution": {
     "iopub.execute_input": "2024-08-29T16:45:55.900222Z",
     "iopub.status.busy": "2024-08-29T16:45:55.899810Z",
     "iopub.status.idle": "2024-08-29T16:45:55.913564Z",
     "shell.execute_reply": "2024-08-29T16:45:55.912483Z"
    },
    "id": "AK1rjoLSZ9pM",
    "jupyter": {
     "outputs_hidden": false
    },
    "outputId": "b374c81b-d3c0-4967-f875-dd26f8ed9dc1",
    "papermill": {
     "duration": 0.050944,
     "end_time": "2024-08-29T16:45:55.915909",
     "exception": false,
     "start_time": "2024-08-29T16:45:55.864965",
     "status": "completed"
    },
    "tags": []
   },
   "outputs": [
    {
     "data": {
      "text/html": [
       "<div>\n",
       "<style scoped>\n",
       "    .dataframe tbody tr th:only-of-type {\n",
       "        vertical-align: middle;\n",
       "    }\n",
       "\n",
       "    .dataframe tbody tr th {\n",
       "        vertical-align: top;\n",
       "    }\n",
       "\n",
       "    .dataframe thead th {\n",
       "        text-align: right;\n",
       "    }\n",
       "</style>\n",
       "<table border=\"1\" class=\"dataframe\">\n",
       "  <thead>\n",
       "    <tr style=\"text-align: right;\">\n",
       "      <th></th>\n",
       "      <th>First Score</th>\n",
       "      <th>Second Score</th>\n",
       "      <th>Third Score</th>\n",
       "    </tr>\n",
       "  </thead>\n",
       "  <tbody>\n",
       "    <tr>\n",
       "      <th>0</th>\n",
       "      <td>100.0</td>\n",
       "      <td>30.0</td>\n",
       "      <td>0.0</td>\n",
       "    </tr>\n",
       "    <tr>\n",
       "      <th>1</th>\n",
       "      <td>90.0</td>\n",
       "      <td>45.0</td>\n",
       "      <td>40.0</td>\n",
       "    </tr>\n",
       "    <tr>\n",
       "      <th>2</th>\n",
       "      <td>0.0</td>\n",
       "      <td>56.0</td>\n",
       "      <td>80.0</td>\n",
       "    </tr>\n",
       "    <tr>\n",
       "      <th>3</th>\n",
       "      <td>95.0</td>\n",
       "      <td>0.0</td>\n",
       "      <td>98.0</td>\n",
       "    </tr>\n",
       "  </tbody>\n",
       "</table>\n",
       "</div>"
      ],
      "text/plain": [
       "   First Score  Second Score  Third Score\n",
       "0        100.0          30.0          0.0\n",
       "1         90.0          45.0         40.0\n",
       "2          0.0          56.0         80.0\n",
       "3         95.0           0.0         98.0"
      ]
     },
     "execution_count": 71,
     "metadata": {},
     "output_type": "execute_result"
    }
   ],
   "source": [
    "import pandas as pd\n",
    "import numpy as np\n",
    "\n",
    "# Create a sample DataFrame\n",
    "data = {'First Score': [100, 90, np.nan, 95],\n",
    "        'Second Score': [30, 45, 56, np.nan],\n",
    "        'Third Score': [np.nan, 40, 80, 98]}\n",
    "df = pd.DataFrame(data)\n",
    "df=df.fillna(0)\n",
    "df"
   ]
  },
  {
   "cell_type": "code",
   "execution_count": 72,
   "id": "f3282659",
   "metadata": {
    "_cell_guid": "94618389-18eb-4636-9be6-7ea864db584b",
    "_uuid": "8ddee0f0-67c8-4061-9954-91cf98bb75b7",
    "collapsed": false,
    "execution": {
     "iopub.execute_input": "2024-08-29T16:45:55.987875Z",
     "iopub.status.busy": "2024-08-29T16:45:55.987454Z",
     "iopub.status.idle": "2024-08-29T16:45:56.005556Z",
     "shell.execute_reply": "2024-08-29T16:45:56.003592Z"
    },
    "id": "Lgg1DFPcaevm",
    "jupyter": {
     "outputs_hidden": false
    },
    "outputId": "8b46db2c-cc87-48c8-847b-0d2a5ac52de3",
    "papermill": {
     "duration": 0.056557,
     "end_time": "2024-08-29T16:45:56.008812",
     "exception": false,
     "start_time": "2024-08-29T16:45:55.952255",
     "status": "completed"
    },
    "tags": []
   },
   "outputs": [
    {
     "name": "stderr",
     "output_type": "stream",
     "text": [
      "/tmp/ipykernel_17/2210912642.py:7: FutureWarning: DataFrame.fillna with 'method' is deprecated and will raise in a future version. Use obj.ffill() or obj.bfill() instead.\n",
      "  df=df.fillna(method='pad')\n"
     ]
    },
    {
     "data": {
      "text/html": [
       "<div>\n",
       "<style scoped>\n",
       "    .dataframe tbody tr th:only-of-type {\n",
       "        vertical-align: middle;\n",
       "    }\n",
       "\n",
       "    .dataframe tbody tr th {\n",
       "        vertical-align: top;\n",
       "    }\n",
       "\n",
       "    .dataframe thead th {\n",
       "        text-align: right;\n",
       "    }\n",
       "</style>\n",
       "<table border=\"1\" class=\"dataframe\">\n",
       "  <thead>\n",
       "    <tr style=\"text-align: right;\">\n",
       "      <th></th>\n",
       "      <th>First Score</th>\n",
       "      <th>Second Score</th>\n",
       "      <th>Third Score</th>\n",
       "    </tr>\n",
       "  </thead>\n",
       "  <tbody>\n",
       "    <tr>\n",
       "      <th>0</th>\n",
       "      <td>100.0</td>\n",
       "      <td>30.0</td>\n",
       "      <td>NaN</td>\n",
       "    </tr>\n",
       "    <tr>\n",
       "      <th>1</th>\n",
       "      <td>90.0</td>\n",
       "      <td>45.0</td>\n",
       "      <td>40.0</td>\n",
       "    </tr>\n",
       "    <tr>\n",
       "      <th>2</th>\n",
       "      <td>90.0</td>\n",
       "      <td>56.0</td>\n",
       "      <td>80.0</td>\n",
       "    </tr>\n",
       "    <tr>\n",
       "      <th>3</th>\n",
       "      <td>95.0</td>\n",
       "      <td>56.0</td>\n",
       "      <td>98.0</td>\n",
       "    </tr>\n",
       "  </tbody>\n",
       "</table>\n",
       "</div>"
      ],
      "text/plain": [
       "   First Score  Second Score  Third Score\n",
       "0        100.0          30.0          NaN\n",
       "1         90.0          45.0         40.0\n",
       "2         90.0          56.0         80.0\n",
       "3         95.0          56.0         98.0"
      ]
     },
     "execution_count": 72,
     "metadata": {},
     "output_type": "execute_result"
    }
   ],
   "source": [
    "# Create a sample DataFrame\n",
    "data = {'First Score': [100, 90, np.nan, 95],\n",
    "        'Second Score': [30, 45, 56, np.nan],\n",
    "        'Third Score': [np.nan, 40, 80, 98]}\n",
    "df = pd.DataFrame(data)\n",
    "\n",
    "df=df.fillna(method='pad')\n",
    "df"
   ]
  },
  {
   "cell_type": "code",
   "execution_count": null,
   "id": "f3d39272",
   "metadata": {
    "_cell_guid": "8ccdb8a6-283a-4697-9fc5-1d29a80630d7",
    "_uuid": "d5d644a4-cfee-44ed-abab-0bbab3041e59",
    "collapsed": false,
    "id": "AGQoatCjaz35",
    "jupyter": {
     "outputs_hidden": false
    },
    "papermill": {
     "duration": 0.034099,
     "end_time": "2024-08-29T16:45:56.078658",
     "exception": false,
     "start_time": "2024-08-29T16:45:56.044559",
     "status": "completed"
    },
    "tags": []
   },
   "outputs": [],
   "source": []
  }
 ],
 "metadata": {
  "colab": {
   "provenance": []
  },
  "kaggle": {
   "accelerator": "none",
   "dataSources": [],
   "dockerImageVersionId": 30761,
   "isGpuEnabled": false,
   "isInternetEnabled": false,
   "language": "python",
   "sourceType": "notebook"
  },
  "kernelspec": {
   "display_name": "Python 3",
   "language": "python",
   "name": "python3"
  },
  "language_info": {
   "codemirror_mode": {
    "name": "ipython",
    "version": 3
   },
   "file_extension": ".py",
   "mimetype": "text/x-python",
   "name": "python",
   "nbconvert_exporter": "python",
   "pygments_lexer": "ipython3",
   "version": "3.10.14"
  },
  "papermill": {
   "default_parameters": {},
   "duration": 11.625747,
   "end_time": "2024-08-29T16:45:56.634202",
   "environment_variables": {},
   "exception": null,
   "input_path": "__notebook__.ipynb",
   "output_path": "__notebook__.ipynb",
   "parameters": {},
   "start_time": "2024-08-29T16:45:45.008455",
   "version": "2.6.0"
  }
 },
 "nbformat": 4,
 "nbformat_minor": 5
}
